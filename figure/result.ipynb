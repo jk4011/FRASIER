{
 "cells": [
  {
   "cell_type": "code",
   "execution_count": null,
   "metadata": {},
   "outputs": [],
   "source": [
    "import torch\n",
    "import os \n",
    "\n",
    "transformation_path = \"/data/wlsgur4011/part_assembly/data/processed/artifact/75663_sf/fractured_0/transforms.pt\"\n",
    "os.path.dir\n",
    "\n",
    "transformations = torch.load(transformation_path)\n"
   ]
  },
  {
   "cell_type": "code",
   "execution_count": null,
   "metadata": {},
   "outputs": [],
   "source": [
    "import os\n",
    "from jhutil import matrix_from_quat_trans, show_multiple_objs\n",
    "\n",
    "folder_path = \"/data/wlsgur4011/part_assembly/data/raw/artifact/39084_sf/fractured_13\"\n",
    "file_list = os.listdir(folder_path)\n",
    "\n",
    "file_list = [os.path.join(folder_path, file) for file in file_list]\n",
    "\n",
    "show_multiple_objs(file_list, scale=10)\n",
    "show_multiple_objs(file_list, scale=3, is_random_rotate=True)"
   ]
  }
 ],
 "metadata": {
  "language_info": {
   "name": "python"
  },
  "orig_nbformat": 4
 },
 "nbformat": 4,
 "nbformat_minor": 2
}
