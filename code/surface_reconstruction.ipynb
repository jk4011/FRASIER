{
 "cells": [
  {
   "cell_type": "markdown",
   "id": "bccdc84e-18e7-4a08-8901-0ed460d3c5ef",
   "metadata": {
    "tags": []
   },
   "source": [
    "## Estimate from GT normal"
   ]
  },
  {
   "cell_type": "code",
   "execution_count": 21,
   "id": "834cdb44-f476-4938-922f-7fe2f6c205fb",
   "metadata": {
    "tags": []
   },
   "outputs": [],
   "source": [
    "import open3d as o3d"
   ]
  },
  {
   "cell_type": "code",
   "execution_count": 22,
   "id": "d2e5383e-c43f-49b6-9af8-e12af984d628",
   "metadata": {
    "tags": []
   },
   "outputs": [],
   "source": [
    "bunny = o3d.data.BunnyMesh()\n",
    "mesh  = o3d.io.read_triangle_mesh(bunny.path)\n",
    "mesh.compute_vertex_normals()\n",
    "\n",
    "pcd = mesh.sample_points_poisson_disk(3000)"
   ]
  },
  {
   "cell_type": "code",
   "execution_count": 23,
   "id": "9b8ae37a-b057-420b-a3fd-6bb53198f019",
   "metadata": {},
   "outputs": [
    {
     "name": "stdout",
     "output_type": "stream",
     "text": [
      "\u001b[1;33m[Open3D WARNING] GLFW Error: X11: The DISPLAY environment variable is missing\u001b[0;m\n",
      "\u001b[1;33m[Open3D WARNING] Failed to initialize GLFW\u001b[0;m\n",
      "\u001b[1;33m[Open3D WARNING] [DrawGeometries] Failed creating OpenGL window.\u001b[0;m\n"
     ]
    },
    {
     "data": {
      "text/plain": [
       "True"
      ]
     },
     "execution_count": 23,
     "metadata": {},
     "output_type": "execute_result"
    }
   ],
   "source": [
    "# pcd = o3d.geometry.PointCloud()\n",
    "# pcd.points = o3d.utility.Vector3dVector(point_cloud)\n",
    "\n",
    "# Estimate normals\n",
    "# pcd.estimate_normals()\n",
    "\n",
    "radii = [0.005, 0.01, 0.02, 0.04]\n",
    "rec_mesh = o3d.geometry.TriangleMesh.create_from_point_cloud_ball_pivoting(\n",
    "    pcd, o3d.utility.DoubleVector(radii))\n",
    "# # Refine the mesh\n",
    "o3d.visualization.draw_geometries([pcd, rec_mesh])\n",
    "\n",
    "# Save the mesh to file\n",
    "o3d.io.write_triangle_mesh(\"tmp.ply\", rec_mesh)"
   ]
  },
  {
   "cell_type": "markdown",
   "id": "94e2e2d6-39a7-45da-a912-edd597f7fa3e",
   "metadata": {},
   "source": [
    "## Estimate without GT normal"
   ]
  },
  {
   "cell_type": "code",
   "execution_count": 19,
   "id": "78a4f192-aca4-4463-9160-c6ad2ad0d454",
   "metadata": {
    "tags": []
   },
   "outputs": [],
   "source": [
    "bunny = o3d.data.BunnyMesh()\n",
    "mesh  = o3d.io.read_triangle_mesh(bunny.path)\n",
    "\n",
    "pcd = mesh.sample_points_poisson_disk(30000)\n",
    "pcd.estimate_normals()"
   ]
  },
  {
   "cell_type": "code",
   "execution_count": 20,
   "id": "2e5b1102-caf2-4038-a010-01e62c6006aa",
   "metadata": {},
   "outputs": [
    {
     "name": "stdout",
     "output_type": "stream",
     "text": [
      "\u001b[1;33m[Open3D WARNING] GLFW Error: X11: The DISPLAY environment variable is missing\u001b[0;m\n",
      "\u001b[1;33m[Open3D WARNING] Failed to initialize GLFW\u001b[0;m\n",
      "\u001b[1;33m[Open3D WARNING] [DrawGeometries] Failed creating OpenGL window.\u001b[0;m\n"
     ]
    },
    {
     "data": {
      "text/plain": [
       "True"
      ]
     },
     "execution_count": 20,
     "metadata": {},
     "output_type": "execute_result"
    }
   ],
   "source": [
    "# pcd = o3d.geometry.PointCloud()\n",
    "# pcd.points = o3d.utility.Vector3dVector(point_cloud)\n",
    "\n",
    "# Estimate normals\n",
    "# pcd.estimate_normals()\n",
    "\n",
    "radii = [0.005, 0.01, 0.02, 0.04]\n",
    "rec_mesh = o3d.geometry.TriangleMesh.create_from_point_cloud_ball_pivoting(\n",
    "    pcd, o3d.utility.DoubleVector(radii))\n",
    "# # Refine the mesh\n",
    "o3d.visualization.draw_geometries([pcd, rec_mesh])\n",
    "\n",
    "# Save the mesh to file\n",
    "o3d.io.write_triangle_mesh(\"tmp.ply\", rec_mesh)"
   ]
  },
  {
   "cell_type": "code",
   "execution_count": null,
   "id": "58203d58-a300-4998-acb3-b33505019948",
   "metadata": {},
   "outputs": [],
   "source": []
  }
 ],
 "metadata": {
  "kernelspec": {
   "display_name": "Python 3 (ipykernel)",
   "language": "python",
   "name": "python3"
  },
  "language_info": {
   "codemirror_mode": {
    "name": "ipython",
    "version": 3
   },
   "file_extension": ".py",
   "mimetype": "text/x-python",
   "name": "python",
   "nbconvert_exporter": "python",
   "pygments_lexer": "ipython3",
   "version": "3.8.16"
  }
 },
 "nbformat": 4,
 "nbformat_minor": 5
}
