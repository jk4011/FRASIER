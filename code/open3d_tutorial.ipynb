{
 "cells": [
  {
   "cell_type": "code",
   "execution_count": null,
   "id": "5f7006a1-f41e-43ff-9bcd-fb860ce7efd6",
   "metadata": {
    "tags": []
   },
   "outputs": [
    {
     "name": "stdout",
     "output_type": "stream",
     "text": [
      "Jupyter environment detected. Enabling Open3D WebVisualizer.\n",
      "[Open3D INFO] WebRTC GUI backend enabled.\n",
      "[Open3D INFO] WebRTCWindowSystem: HTTP handshake server disabled.\n"
     ]
    }
   ],
   "source": [
    "import open3d as o3d\n",
    "\n",
    "# Load the two meshes\n",
    "obj_folder = '/root/BreakingBad/dataset/everyday/BeerBottle/3f91158956ad7db0322747720d7d37e8/fractured_1/'\n",
    "\n",
    "mesh1 = o3d.io.read_triangle_mesh(obj_folder + \"piece_0.obj\")\n",
    "mesh2 = o3d.io.read_triangle_mesh(obj_folder + \"piece_1.obj\")\n",
    "mesh1 = o3d.t.geometry.TriangleMesh.from_legacy(mesh1)\n",
    "mesh2 = o3d.t.geometry.TriangleMesh.from_legacy(mesh2)\n",
    "\n",
    "result_mesh = mesh1.boolean_difference(mesh2)\n"
   ]
  },
  {
   "cell_type": "code",
   "execution_count": 1,
   "id": "8f019edc-535c-40e1-a99b-17e6182ee700",
   "metadata": {
    "tags": []
   },
   "outputs": [
    {
     "name": "stdout",
     "output_type": "stream",
     "text": [
      "/root/BreakingBad/dataset/everyday/BeerBottle/3f91158956ad7db0322747720d7d37e8/fractured_1/piece_0.obj\n"
     ]
    }
   ],
   "source": [
    "ls /root/BreakingBad/dataset/everyday/BeerBottle/3f91158956ad7db0322747720d7d37e8/fractured_1/piece_0.obj"
   ]
  },
  {
   "cell_type": "code",
   "execution_count": 16,
   "id": "6cc3e9d7-14b4-4019-a595-a33aa4130918",
   "metadata": {
    "tags": []
   },
   "outputs": [
    {
     "name": "stdout",
     "output_type": "stream",
     "text": [
      "1111 <class 'open3d.cuda.pybind.geometry.TriangleMesh'>\n",
      "2222 <class 'open3d.cuda.pybind.t.geometry.TriangleMesh'>\n"
     ]
    }
   ],
   "source": [
    "\n",
    "box = o3d.geometry.TriangleMesh.create_box()\n",
    "print(1111, type(box))\n",
    "box = o3d.t.geometry.TriangleMesh.from_legacy(box)\n",
    "print(2222, type(box))\n",
    "sphere = o3d.geometry.TriangleMesh.create_sphere(0.8)\n",
    "sphere = o3d.t.geometry.TriangleMesh.from_legacy(sphere)"
   ]
  },
  {
   "cell_type": "code",
   "execution_count": 13,
   "id": "b8beac44-5996-45bf-934e-56f660998736",
   "metadata": {
    "tags": []
   },
   "outputs": [],
   "source": [
    "\n",
    "# check input sphere\n",
    "assert sphere.vertex.positions.shape == (762, 3)\n",
    "assert sphere.triangle.indices.shape == (1520, 3)\n",
    "\n",
    "ans = box.boolean_union(sphere)\n",
    "assert ans.vertex.positions.shape == (730, 3)\n",
    "assert ans.triangle.indices.shape == (1384, 3)\n",
    "\n",
    "ans = box.boolean_intersection(sphere)\n",
    "assert ans.vertex.positions.shape == (154, 3)\n",
    "assert ans.triangle.indices.shape == (232, 3)\n",
    "\n",
    "ans = box.boolean_difference(sphere)\n",
    "assert ans.vertex.positions.shape == (160, 3)\n",
    "assert ans.triangle.indices.shape == (244, 3)"
   ]
  },
  {
   "cell_type": "code",
   "execution_count": null,
   "id": "d81411db-4a83-4f46-bcbf-aa79e740fcd2",
   "metadata": {},
   "outputs": [],
   "source": []
  }
 ],
 "metadata": {
  "kernelspec": {
   "display_name": "Python 3 (ipykernel)",
   "language": "python",
   "name": "python3"
  },
  "language_info": {
   "codemirror_mode": {
    "name": "ipython",
    "version": 3
   },
   "file_extension": ".py",
   "mimetype": "text/x-python",
   "name": "python",
   "nbconvert_exporter": "python",
   "pygments_lexer": "ipython3",
   "version": "3.8.16"
  }
 },
 "nbformat": 4,
 "nbformat_minor": 5
}
