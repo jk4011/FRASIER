{
 "cells": [
  {
   "cell_type": "code",
   "execution_count": 1,
   "id": "1d75f35e-b5ad-4b0b-8701-52420968416a",
   "metadata": {
    "tags": []
   },
   "outputs": [],
   "source": [
    "%matplotlib widget"
   ]
  },
  {
   "cell_type": "code",
   "execution_count": 2,
   "id": "66636569-9887-46ea-8ec9-e19a5c73ddba",
   "metadata": {
    "tags": []
   },
   "outputs": [
    {
     "name": "stdout",
     "output_type": "stream",
     "text": [
      "Jupyter environment detected. Enabling Open3D WebVisualizer.\n",
      "[Open3D INFO] WebRTC GUI backend enabled.\n",
      "[Open3D INFO] WebRTCWindowSystem: HTTP handshake server disabled.\n",
      "loading objects...\n"
     ]
    },
    {
     "ename": "FileNotFoundError",
     "evalue": "[Errno 2] No such file or directory: '/root/BreakingBad/dataset/everyday/BeerBottle/3f91158956ad7db0322747720d7d37e8/fractured_3/'",
     "output_type": "error",
     "traceback": [
      "\u001b[0;31m---------------------------------------------------------------------------\u001b[0m",
      "\u001b[0;31mFileNotFoundError\u001b[0m                         Traceback (most recent call last)",
      "Cell \u001b[0;32mIn[2], line 4\u001b[0m\n\u001b[1;32m      1\u001b[0m \u001b[38;5;28;01mfrom\u001b[39;00m \u001b[38;5;21;01mutil\u001b[39;00m\u001b[38;5;21;01m.\u001b[39;00m\u001b[38;5;21;01mpart_object\u001b[39;00m \u001b[38;5;28;01mimport\u001b[39;00m PartObjSet, empty_obj\n\u001b[1;32m      2\u001b[0m obj_folder \u001b[38;5;241m=\u001b[39m \u001b[38;5;124m'\u001b[39m\u001b[38;5;124m/root/BreakingBad/dataset/everyday/BeerBottle/3f91158956ad7db0322747720d7d37e8/fractured_3/\u001b[39m\u001b[38;5;124m'\u001b[39m\n\u001b[0;32m----> 4\u001b[0m part_objs \u001b[38;5;241m=\u001b[39m \u001b[43mPartObjSet\u001b[49m\u001b[43m(\u001b[49m\u001b[43mobj_folder\u001b[49m\u001b[43m,\u001b[49m\u001b[43m \u001b[49m\u001b[43mnum_total_point\u001b[49m\u001b[38;5;241;43m=\u001b[39;49m\u001b[38;5;241;43m50000\u001b[39;49m\u001b[43m)\u001b[49m\n\u001b[1;32m      5\u001b[0m part_objs\u001b[38;5;241m.\u001b[39mshow_all()\n\u001b[1;32m      7\u001b[0m \u001b[38;5;66;03m# part_objs.show((2, 5))\u001b[39;00m\n",
      "File \u001b[0;32m~/BreakingBad/code/util/part_object.py:26\u001b[0m, in \u001b[0;36mPartObjSet.__init__\u001b[0;34m(self, folder_path, num_total_point, broken_threshold)\u001b[0m\n\u001b[1;32m     24\u001b[0m \u001b[38;5;28;01mdef\u001b[39;00m \u001b[38;5;21m__init__\u001b[39m(\u001b[38;5;28mself\u001b[39m, folder_path, num_total_point\u001b[38;5;241m=\u001b[39m\u001b[38;5;241m50000\u001b[39m, broken_threshold\u001b[38;5;241m=\u001b[39m\u001b[38;5;241m0.01\u001b[39m):\n\u001b[1;32m     25\u001b[0m     \u001b[38;5;66;03m# get all obj files\u001b[39;00m\n\u001b[0;32m---> 26\u001b[0m     \u001b[38;5;28mself\u001b[39m\u001b[38;5;241m.\u001b[39mobjs:\u001b[38;5;28mlist\u001b[39m[PartObj] \u001b[38;5;241m=\u001b[39m \u001b[38;5;28;43mself\u001b[39;49m\u001b[38;5;241;43m.\u001b[39;49m\u001b[43m_parse_obj_files\u001b[49m\u001b[43m(\u001b[49m\u001b[43mfolder_path\u001b[49m\u001b[43m,\u001b[49m\u001b[43m \u001b[49m\u001b[43mnum_total_point\u001b[49m\u001b[43m,\u001b[49m\u001b[43m \u001b[49m\u001b[43mbroken_threshold\u001b[49m\u001b[43m)\u001b[49m\n",
      "File \u001b[0;32m~/BreakingBad/code/util/part_object.py:36\u001b[0m, in \u001b[0;36mPartObjSet._parse_obj_files\u001b[0;34m(self, folder_path, num_total_point, broken_threshold)\u001b[0m\n\u001b[1;32m     33\u001b[0m \u001b[38;5;28;01mdef\u001b[39;00m \u001b[38;5;21m_parse_obj_files\u001b[39m(\u001b[38;5;28mself\u001b[39m, folder_path, num_total_point, broken_threshold):\n\u001b[1;32m     35\u001b[0m     \u001b[38;5;28mprint\u001b[39m(\u001b[38;5;124m\"\u001b[39m\u001b[38;5;124mloading objects...\u001b[39m\u001b[38;5;124m\"\u001b[39m)\n\u001b[0;32m---> 36\u001b[0m     obj_files \u001b[38;5;241m=\u001b[39m [os\u001b[38;5;241m.\u001b[39mpath\u001b[38;5;241m.\u001b[39mjoin(folder_path, f) \u001b[38;5;28;01mfor\u001b[39;00m f \u001b[38;5;129;01min\u001b[39;00m \u001b[43mos\u001b[49m\u001b[38;5;241;43m.\u001b[39;49m\u001b[43mlistdir\u001b[49m\u001b[43m(\u001b[49m\u001b[43mfolder_path\u001b[49m\u001b[43m)\u001b[49m \u001b[38;5;28;01mif\u001b[39;00m f\u001b[38;5;241m.\u001b[39mendswith(\u001b[38;5;124m'\u001b[39m\u001b[38;5;124m.obj\u001b[39m\u001b[38;5;124m'\u001b[39m)]\n\u001b[1;32m     37\u001b[0m     meshes \u001b[38;5;241m=\u001b[39m [trimesh\u001b[38;5;241m.\u001b[39mload_mesh(file_name) \u001b[38;5;28;01mfor\u001b[39;00m file_name \u001b[38;5;129;01min\u001b[39;00m obj_files]\n\u001b[1;32m     39\u001b[0m     \u001b[38;5;28mprint\u001b[39m(\u001b[38;5;124m\"\u001b[39m\u001b[38;5;124msampling point clouds...\u001b[39m\u001b[38;5;124m\"\u001b[39m)\n",
      "\u001b[0;31mFileNotFoundError\u001b[0m: [Errno 2] No such file or directory: '/root/BreakingBad/dataset/everyday/BeerBottle/3f91158956ad7db0322747720d7d37e8/fractured_3/'"
     ]
    }
   ],
   "source": [
    "from util.part_object import PartObjSet, empty_obj\n",
    "obj_folder = '/root/BreakingBad/dataset/everyday/BeerBottle/3f91158956ad7db0322747720d7d37e8/fractured_3/'\n",
    "\n",
    "part_objs = PartObjSet(obj_folder, num_total_point=50000)\n",
    "part_objs.show_all()\n",
    "\n",
    "# part_objs.show((2, 5))"
   ]
  },
  {
   "cell_type": "code",
   "execution_count": null,
   "id": "34c56b70-49ad-4d00-b4c0-c39d09ac2621",
   "metadata": {
    "tags": []
   },
   "outputs": [],
   "source": [
    "part_objs.random_transform()\n",
    "part_objs.show_all()\n",
    "src_idx = -1\n",
    "dst_idx = 3\n",
    "part_objs.show((src_idx, dst_idx))"
   ]
  },
  {
   "cell_type": "markdown",
   "id": "6d5b71bf-6b18-4655-a1e3-bcd4d8365739",
   "metadata": {},
   "source": [
    "# Set Source and destination"
   ]
  },
  {
   "cell_type": "markdown",
   "id": "080ac255-b352-4e50-8979-ed7abf7e1f53",
   "metadata": {},
   "source": [
    "# RANSAC"
   ]
  },
  {
   "cell_type": "code",
   "execution_count": null,
   "id": "eed077fb-7d8d-4239-92e1-b788966ea780",
   "metadata": {
    "tags": []
   },
   "outputs": [],
   "source": [
    "for i in range(10):\n",
    "    part_objs.ransac(src_idx, dst_idx, normal_angle=0.03, voxel_size=0.05)\n",
    "    part_objs.icp(src_idx, dst_idx)\n",
    "    # part_objs.fast_global_registration(src_idx, dst_idx)\n",
    "    part_objs.show((src_idx, dst_idx))"
   ]
  },
  {
   "cell_type": "code",
   "execution_count": null,
   "id": "adabd186-12fe-439b-9866-d2274f9c5824",
   "metadata": {
    "tags": []
   },
   "outputs": [],
   "source": [
    "part_objs.union(src_idx, dst_idx)\n",
    "part_objs.show_all()"
   ]
  },
  {
   "cell_type": "code",
   "execution_count": null,
   "id": "f6789e62-565f-4313-9b75-fd9305cfe86c",
   "metadata": {},
   "outputs": [],
   "source": [
    "import open3d as o3d\n",
    "tmp = o3d.pipelines.registration.CorrespondenceCheckerBasedOnNormal(1)"
   ]
  }
 ],
 "metadata": {
  "kernelspec": {
   "display_name": "Python 3 (ipykernel)",
   "language": "python",
   "name": "python3"
  },
  "language_info": {
   "codemirror_mode": {
    "name": "ipython",
    "version": 3
   },
   "file_extension": ".py",
   "mimetype": "text/x-python",
   "name": "python",
   "nbconvert_exporter": "python",
   "pygments_lexer": "ipython3",
   "version": "3.8.16"
  }
 },
 "nbformat": 4,
 "nbformat_minor": 5
}
