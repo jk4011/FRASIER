{
 "cells": [
  {
   "cell_type": "code",
   "execution_count": 7,
   "id": "fa09c056-ccfb-430d-a057-0a3ba18fb8ec",
   "metadata": {
    "tags": []
   },
   "outputs": [
    {
     "name": "stdout",
     "output_type": "stream",
     "text": [
      "\u001b[43m2222 \u001b[0m\n"
     ]
    }
   ],
   "source": [
    "import torch\n",
    "\n",
    "x = torch.tensor(0.798)\n",
    "\n",
    "if torch.isnan(x).any():\n",
    "    import jhutil; jhutil.jhprint(1111, )\n",
    "else:\n",
    "    \n",
    "    import jhutil; jhutil.jhprint(2222, )"
   ]
  },
  {
   "cell_type": "code",
   "execution_count": null,
   "id": "a65f193a-7fcf-4461-8569-687a451245f8",
   "metadata": {},
   "outputs": [],
   "source": []
  }
 ],
 "metadata": {
  "kernelspec": {
   "display_name": "Python 3 (ipykernel)",
   "language": "python",
   "name": "python3"
  },
  "language_info": {
   "codemirror_mode": {
    "name": "ipython",
    "version": 3
   },
   "file_extension": ".py",
   "mimetype": "text/x-python",
   "name": "python",
   "nbconvert_exporter": "python",
   "pygments_lexer": "ipython3",
   "version": "3.8.16"
  }
 },
 "nbformat": 4,
 "nbformat_minor": 5
}
