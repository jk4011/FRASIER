{
 "cells": [
  {
   "cell_type": "code",
   "execution_count": 3,
   "id": "bb8bbf24",
   "metadata": {},
   "outputs": [],
   "source": [
    "from jhutil import knn\n",
    "import torch\n",
    "\n",
    "def pointcloud_xor(src: torch.Tensor, ref: torch.Tensor, threshold=0.01):\n",
    "    n_origin = src.shape[0] + ref.shape[0]\n",
    "\n",
    "    dist_src, _ = knn(src, ref)\n",
    "    dist_ref, _ = knn(ref, src)\n",
    "    src = src[dist_src > threshold]\n",
    "    ref = ref[dist_ref > threshold]\n",
    "\n",
    "    n_after_xor = src.shape[0] + ref.shape[0]\n",
    "    n_removed = n_origin - n_after_xor\n",
    "\n",
    "    return torch.cat((src, ref), dim=0), n_removed\n"
   ]
  },
  {
   "cell_type": "code",
   "execution_count": null,
   "id": "8688d9ec",
   "metadata": {},
   "outputs": [],
   "source": []
  }
 ],
 "metadata": {
  "kernelspec": {
   "display_name": "Python 3 (ipykernel)",
   "language": "python",
   "name": "python3"
  },
  "language_info": {
   "codemirror_mode": {
    "name": "ipython",
    "version": 3
   },
   "file_extension": ".py",
   "mimetype": "text/x-python",
   "name": "python",
   "nbconvert_exporter": "python",
   "pygments_lexer": "ipython3",
   "version": "3.8.16"
  }
 },
 "nbformat": 4,
 "nbformat_minor": 5
}
