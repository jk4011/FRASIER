{
 "cells": [
  {
   "cell_type": "code",
   "execution_count": 1,
   "id": "c77200c7-c63c-4417-b376-e580c13dae84",
   "metadata": {
    "tags": []
   },
   "outputs": [
    {
     "name": "stdout",
     "output_type": "stream",
     "text": [
      "\u001b[41m1111  \"array[3] x∈[0.192, 0.622] μ=0.417 σ=0.176 [0.192, 0.622, 0.438]\"\u001b[0m\n"
     ]
    }
   ],
   "source": [
    "import numpy as np\n",
    "np.random.seed(1234)\n",
    "\n",
    "import jhutil;jhutil.jhprint(1111, np.random.rand(3))"
   ]
  },
  {
   "cell_type": "code",
   "execution_count": null,
   "id": "07507f9c-6ddb-4a15-a330-b3b1a5ec5565",
   "metadata": {},
   "outputs": [],
   "source": []
  }
 ],
 "metadata": {
  "kernelspec": {
   "display_name": "Python 3 (ipykernel)",
   "language": "python",
   "name": "python3"
  },
  "language_info": {
   "codemirror_mode": {
    "name": "ipython",
    "version": 3
   },
   "file_extension": ".py",
   "mimetype": "text/x-python",
   "name": "python",
   "nbconvert_exporter": "python",
   "pygments_lexer": "ipython3",
   "version": "3.8.16"
  }
 },
 "nbformat": 4,
 "nbformat_minor": 5
}
