{
 "cells": [
  {
   "cell_type": "code",
   "execution_count": 2,
   "id": "c77200c7-c63c-4417-b376-e580c13dae84",
   "metadata": {
    "tags": []
   },
   "outputs": [],
   "source": [
    "import sys\n",
    "sys.path.append(\"../\")"
   ]
  },
  {
   "cell_type": "code",
   "execution_count": 5,
   "id": "07507f9c-6ddb-4a15-a330-b3b1a5ec5565",
   "metadata": {},
   "outputs": [],
   "source": [
    "from part_assembly.stage1 import DatasetStage1\n",
    "\n",
    "val_data_root: str = \"/data/wlsgur4011/DataCollection/BreakingBad/data_split/artifact.val.pth\"\n",
    "dataset = DatasetStage1(val_data_root)"
   ]
  },
  {
   "cell_type": "code",
   "execution_count": 6,
   "id": "5c009bf9",
   "metadata": {},
   "outputs": [
    {
     "data": {
      "text/plain": [
       "17686"
      ]
     },
     "execution_count": 6,
     "metadata": {},
     "output_type": "execute_result"
    }
   ],
   "source": [
    "len(dataset)"
   ]
  },
  {
   "cell_type": "code",
   "execution_count": 7,
   "id": "1e33c3f0",
   "metadata": {},
   "outputs": [
    {
     "name": "stdout",
     "output_type": "stream",
     "text": [
      "\u001b[41m1111  {\n",
      "    \"sample\": \"tensor[7868, 3] f64 n=23604 (0.2Mb) x∈[-2.807, 1.859] μ=-0.640 σ=1.478\",\n",
      "    \"normal\": \"tensor[7868, 3] f64 n=23604 (0.2Mb) x∈[-1.000, 0.998] μ=-0.001 σ=0.577\",\n",
      "    \"broken_label\": \"tensor[7868] bool 7.7Kb x∈[False, True] μ=0.385 σ=0.487\",\n",
      "    \"path\": \"/data/wlsgur4011/DataCollection/BreakingBad/data_split/artifact/75663_sf/mode_8/piece_4.obj\"\n",
      "}\u001b[0m\n"
     ]
    },
    {
     "name": "stderr",
     "output_type": "stream",
     "text": [
      "/data/wlsgur4011/part_assembly/code/../part_assembly/stage1.py:48: UserWarning: The given NumPy array is not writeable, and PyTorch does not support non-writeable tensors. This means you can write to the underlying (supposedly non-writeable) NumPy array using the tensor. You may want to copy the array to protect its data or make it writeable before converting it to a tensor. This type of warning will be suppressed for the rest of this program. (Triggered internally at  /opt/conda/conda-bld/pytorch_1640811806235/work/torch/csrc/utils/tensor_numpy.cpp:189.)\n",
      "  area_faces = torch.Tensor(mesh.area_faces)  # (f_i)\n"
     ]
    }
   ],
   "source": [
    "\n",
    "import jhutil; jhutil.jhprint(1111, dataset[93])"
   ]
  },
  {
   "cell_type": "code",
   "execution_count": 8,
   "id": "5f8f9729",
   "metadata": {},
   "outputs": [
    {
     "name": "stdout",
     "output_type": "stream",
     "text": [
      "\u001b[41m1111  {\n",
      "    \"sample\": \"tensor[3161, 3] f64 n=9483 (74Kb) x∈[-2.807, 3.491] μ=0.067 σ=2.313\",\n",
      "    \"normal\": \"tensor[3161, 3] f64 n=9483 (74Kb) x∈[-1.000, 0.929] μ=-0.001 σ=0.577\",\n",
      "    \"broken_label\": \"tensor[3161] bool 3.1Kb x∈[False, True] μ=0.222 σ=0.415\",\n",
      "    \"path\": \"/data/wlsgur4011/DataCollection/BreakingBad/data_split/artifact/75663_sf/mode_8/piece_5.obj\"\n",
      "}\u001b[0m\n"
     ]
    }
   ],
   "source": [
    "\n",
    "import jhutil; jhutil.jhprint(1111, dataset[94])"
   ]
  }
 ],
 "metadata": {
  "kernelspec": {
   "display_name": "Python 3 (ipykernel)",
   "language": "python",
   "name": "python3"
  },
  "language_info": {
   "codemirror_mode": {
    "name": "ipython",
    "version": 3
   },
   "file_extension": ".py",
   "mimetype": "text/x-python",
   "name": "python",
   "nbconvert_exporter": "python",
   "pygments_lexer": "ipython3",
   "version": "3.8.16"
  }
 },
 "nbformat": 4,
 "nbformat_minor": 5
}
