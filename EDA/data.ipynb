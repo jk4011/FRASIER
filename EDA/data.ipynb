{
 "cells": [
  {
   "cell_type": "code",
   "execution_count": null,
   "metadata": {},
   "outputs": [
    {
     "ename": "",
     "evalue": "",
     "output_type": "error",
     "traceback": [
      "\u001b[1;31mFailed to start the Kernel. \n",
      "\u001b[1;31mUnicodeDecodeError: 'utf-8' codec can't decode byte 0xab in position 0: invalid start byte in PKG-INFO file at path: /data/wlsgur4011/part_assembly/src/jhutil/jhutil.egg-info/PKG-INFO. \n",
      "\u001b[1;31mView Jupyter <a href='command:jupyter.viewOutput'>log</a> for further details."
     ]
    }
   ],
   "source": [
    "import os\n",
    "os.environ[\"CUDA_DEVICE_ORDER\"]=\"PCI_BUS_ID\"\n",
    "os.environ[\"CUDA_VISIBLE_DEVICES\"]=\"0\""
   ]
  },
  {
   "cell_type": "code",
   "execution_count": null,
   "metadata": {},
   "outputs": [
    {
     "ename": "",
     "evalue": "",
     "output_type": "error",
     "traceback": [
      "\u001b[1;31mFailed to start the Kernel. \n",
      "\u001b[1;31mUnicodeDecodeError: 'utf-8' codec can't decode byte 0xab in position 0: invalid start byte in PKG-INFO file at path: /data/wlsgur4011/part_assembly/src/jhutil/jhutil.egg-info/PKG-INFO. \n",
      "\u001b[1;31mView Jupyter <a href='command:jupyter.viewOutput'>log</a> for further details."
     ]
    }
   ],
   "source": [
    "import jhutil \n",
    "\n",
    "cfg = jhutil.load_yaml(\"../yamls/data_example.yaml\")\n",
    "\n"
   ]
  },
  {
   "cell_type": "code",
   "execution_count": 2,
   "metadata": {},
   "outputs": [],
   "source": [
    "\n",
    "\n",
    "import sys\n",
    "sys.path.append(\"../\")\n",
    "sys.path.append(\"../src/geotransformer/experiments/lomatch\")\n",
    "\n",
    "from multi_part_assembly.datasets.geometry_data import GeometryPartDataset as BreakingBadDataset\n",
    "\n",
    "import jhutil\n",
    "import torch\n",
    "\n",
    "torch.multiprocessing.set_start_method('spawn')\n",
    "\n",
    "from torch.utils.data import Dataset, DataLoader\n",
    "from jhutil import show_meshes, show_point_clouds"
   ]
  },
  {
   "cell_type": "markdown",
   "metadata": {},
   "source": [
    "## ORIGINAL"
   ]
  },
  {
   "cell_type": "code",
   "execution_count": 3,
   "metadata": {},
   "outputs": [],
   "source": [
    "\n",
    "sys.path.append(\"../src/geotransformer/experiments/lomatch\")"
   ]
  },
  {
   "cell_type": "code",
   "execution_count": null,
   "metadata": {},
   "outputs": [
    {
     "name": "stdout",
     "output_type": "stream",
     "text": [
      "init done\n",
      "init done\n"
     ]
    }
   ],
   "source": [
    "sys.path.append(\"../src/geotransformer/experiments/lomatch\")\n",
    "cfg = jhutil.load_yaml(\"../yamls/data_example.yaml\")\n",
    "cfg.data.overfit = 1\n",
    "train_data, val_data = build_geometry_dataset(cfg)"
   ]
  },
  {
   "cell_type": "code",
   "execution_count": 5,
   "metadata": {},
   "outputs": [
    {
     "name": "stderr",
     "output_type": "stream",
     "text": [
      "/data/wlsgur4011/part_assembly/src/multi-part-assembly/multi_part_assembly/datasets/geometry_data.py:167: UserWarning: The given NumPy array is not writeable, and PyTorch does not support non-writeable tensors. This means you can write to the underlying (supposedly non-writeable) NumPy array using the tensor. You may want to copy the array to protect its data or make it writeable before converting it to a tensor. This type of warning will be suppressed for the rest of this program. (Triggered internally at  /opt/conda/conda-bld/pytorch_1640811806235/work/torch/csrc/utils/tensor_numpy.cpp:189.)\n",
      "  area_faces = torch.Tensor(src_mesh.area_faces)\n"
     ]
    },
    {
     "name": "stdout",
     "output_type": "stream",
     "text": [
      "\u001b[41m1111  {\n",
      "    \"pcs\": null,\n",
      "    \"broken_pcs\": [\n",
      "        \"tensor[24933, 3] n=74799 (0.3Mb) x∈[-1.050, 1.518] μ=1.173e-08 σ=0.525\",\n",
      "        \"tensor[10924, 3] n=32772 (0.1Mb) x∈[-0.951, 0.999] μ=-9.126e-08 σ=0.410\",\n",
      "        \"tensor[14142, 3] n=42426 (0.2Mb) x∈[-1.027, 1.276] μ=-4.896e-08 σ=0.463\"\n",
      "    ],\n",
      "    \"quat\": [\n",
      "        \"array[4] x∈[-0.392, 0.918] μ=0.132 σ=0.482 [0.045, 0.918, -0.392, -0.044]\",\n",
      "        \"array[4] x∈[0.210, 0.713] μ=0.466 σ=0.181 [0.518, 0.210, 0.424, 0.713]\",\n",
      "        \"array[4] x∈[-0.301, 0.703] μ=0.268 σ=0.422 [0.026, 0.644, -0.301, 0.703]\"\n",
      "    ],\n",
      "    \"trans\": [\n",
      "        \"tensor[3] x∈[-1.108, 2.712] μ=0.575 σ=1.950 [-1.108, 0.121, 2.712]\",\n",
      "        \"tensor[3] x∈[-1.554, 2.658] μ=0.524 σ=2.106 [-1.554, 0.468, 2.658]\",\n",
      "        \"tensor[3] x∈[-0.764, 2.767] μ=0.616 σ=1.887 [-0.764, -0.156, 2.767]\"\n",
      "    ],\n",
      "    \"data_id\": 0,\n",
      "    \"dir_name\": \"/data/wlsgur4011/DataCollection/BreakingBad/data_split/artifact/73400_sf/mode_5\",\n",
      "    \"file_names\": [\n",
      "        \"piece_0.obj\",\n",
      "        \"piece_1.obj\",\n",
      "        \"piece_2.obj\"\n",
      "    ],\n",
      "    \"overlap_ratios\": \"tensor[3, 3] n=9 x∈[-1.000, 0.997] μ=5.433e-09 σ=0.829 [[-1.000, 0.435, 0.565], [0.996, -1.000, 0.004], [0.997, 0.003, -1.000]]\",\n",
      "    \"is_broken_vertices\": [\n",
      "        \"tensor[11957] bool 12Kb x∈[False, True] μ=0.032 σ=0.177\",\n",
      "        \"tensor[926] bool x∈[False, True] μ=0.157 σ=0.364\",\n",
      "        \"tensor[1048] bool 1.0Kb x∈[False, True] μ=0.240 σ=0.428\"\n",
      "    ]\n",
      "}\u001b[0m\n"
     ]
    }
   ],
   "source": [
    "import jhutil; jhutil.jhprint(1111, train_data[0])"
   ]
  },
  {
   "cell_type": "code",
   "execution_count": 6,
   "metadata": {},
   "outputs": [
    {
     "name": "stdout",
     "output_type": "stream",
     "text": [
      "init done\n",
      "init done\n"
     ]
    }
   ],
   "source": [
    "train_loader, val_loader = build_geometry_dataloader(cfg)"
   ]
  },
  {
   "cell_type": "code",
   "execution_count": 7,
   "metadata": {},
   "outputs": [
    {
     "name": "stdout",
     "output_type": "stream",
     "text": [
      "\u001b[41m1111  {\n",
      "    \"broken_pcs\": [\n",
      "        \"tensor[24933, 3] n=74799 (0.3Mb) x∈[-1.642, 1.551] μ=-2.744e-08 σ=0.526\",\n",
      "        \"tensor[10924, 3] n=32772 (0.1Mb) x∈[-1.076, 0.804] μ=-5.925e-08 σ=0.408\",\n",
      "        \"tensor[14142, 3] n=42426 (0.2Mb) x∈[-1.230, 1.308] μ=2.859e-08 σ=0.461\"\n",
      "    ],\n",
      "    \"quat\": [\n",
      "        \"array[4] x∈[0.189, 0.720] μ=0.458 σ=0.201 [0.189, 0.720, 0.359, 0.563]\",\n",
      "        \"array[4] x∈[0.216, 0.846] μ=0.436 σ=0.245 [0.846, 0.291, 0.216, 0.392]\",\n",
      "        \"array[4] x∈[-0.307, 0.935] μ=0.170 σ=0.470 [0.935, -0.307, 0.146, -0.096]\"\n",
      "    ],\n",
      "    \"trans\": [\n",
      "        \"tensor[3] x∈[-1.102, 2.719] μ=0.578 σ=1.952 [-1.102, 0.116, 2.719]\",\n",
      "        \"tensor[3] x∈[-1.554, 2.653] μ=0.523 σ=2.104 [-1.554, 0.469, 2.653]\",\n",
      "        \"tensor[3] x∈[-0.768, 2.766] μ=0.614 σ=1.888 [-0.768, -0.154, 2.766]\"\n",
      "    ],\n",
      "    \"data_id\": 0,\n",
      "    \"dir_name\": \"/data/wlsgur4011/DataCollection/BreakingBad/data_split/artifact/73400_sf/mode_5\",\n",
      "    \"file_names\": [\n",
      "        \"piece_0.obj\",\n",
      "        \"piece_1.obj\",\n",
      "        \"piece_2.obj\"\n",
      "    ],\n",
      "    \"overlap_ratios\": \"tensor[3, 3] n=9 x∈[-1.000, 0.997] μ=5.433e-09 σ=0.829 [[-1.000, 0.435, 0.565], [0.996, -1.000, 0.004], [0.997, 0.003, -1.000]]\",\n",
      "    \"is_broken_vertices\": [\n",
      "        \"tensor[11957] bool 12Kb x∈[False, True] μ=0.032 σ=0.177\",\n",
      "        \"tensor[926] bool x∈[False, True] μ=0.157 σ=0.364\",\n",
      "        \"tensor[1048] bool 1.0Kb x∈[False, True] μ=0.240 σ=0.428\"\n",
      "    ]\n",
      "}\u001b[0m\n"
     ]
    }
   ],
   "source": [
    "for data in train_loader:\n",
    "    import jhutil; jhutil.jhprint(1111, data)\n",
    "    break"
   ]
  },
  {
   "attachments": {},
   "cell_type": "markdown",
   "metadata": {},
   "source": [
    "## STAGE 3 (DataSet)"
   ]
  },
  {
   "cell_type": "code",
   "execution_count": 3,
   "metadata": {},
   "outputs": [
    {
     "ename": "ImportError",
     "evalue": "cannot import name 'Stage3PairDataset' from 'part_assembly.stage3' (/data/wlsgur4011/part_assembly/EDA/../part_assembly/stage3.py)",
     "output_type": "error",
     "traceback": [
      "\u001b[0;31m---------------------------------------------------------------------------\u001b[0m",
      "\u001b[0;31mImportError\u001b[0m                               Traceback (most recent call last)",
      "Cell \u001b[0;32mIn[3], line 1\u001b[0m\n\u001b[0;32m----> 1\u001b[0m \u001b[39mfrom\u001b[39;00m \u001b[39mpart_assembly\u001b[39;00m\u001b[39m.\u001b[39;00m\u001b[39mstage3\u001b[39;00m \u001b[39mimport\u001b[39;00m Stage3PairDataset\n\u001b[1;32m      3\u001b[0m datafolder \u001b[39m=\u001b[39m \u001b[39m\"\u001b[39m\u001b[39m/data/wlsgur4011/DataCollection/BreakingBad/data_split/\u001b[39m\u001b[39m\"\u001b[39m\n\u001b[1;32m      4\u001b[0m artifact_train \u001b[39m=\u001b[39m \u001b[39mf\u001b[39m\u001b[39m\"\u001b[39m\u001b[39m{\u001b[39;00mdatafolder\u001b[39m}\u001b[39;00m\u001b[39martifact.train.pth\u001b[39m\u001b[39m\"\u001b[39m\n",
      "\u001b[0;31mImportError\u001b[0m: cannot import name 'Stage3PairDataset' from 'part_assembly.stage3' (/data/wlsgur4011/part_assembly/EDA/../part_assembly/stage3.py)"
     ]
    }
   ],
   "source": [
    "from part_assembly.stage3 import Stage3PairDataset\n",
    "\n",
    "datafolder = \"/data/wlsgur4011/DataCollection/BreakingBad/data_split/\"\n",
    "artifact_train = f\"{datafolder}artifact.train.pth\"\n",
    "train_dataset = Stage3PairDataset(artifact_train)"
   ]
  },
  {
   "cell_type": "code",
   "execution_count": null,
   "metadata": {},
   "outputs": [
    {
     "name": "stdout",
     "output_type": "stream",
     "text": [
      "\u001b[41m1111  {\n",
      "    \"scene_name\": \"artifact/73400_sf/mode_5\",\n",
      "    \"dir_name\": \"/data/wlsgur4011/DataCollection/BreakingBad/data_split/artifact/73400_sf/mode_5\",\n",
      "    \"src_file_name\": \"piece_0.obj\",\n",
      "    \"ref_file_name\": \"piece_1.obj\",\n",
      "    \"src_frame\": 0,\n",
      "    \"ref_frame\": 1,\n",
      "    \"ref_points\": \"tensor[10924, 3] n=32772 (0.1Mb) x∈[-0.934, 0.999] μ=5.855e-08 σ=0.409\",\n",
      "    \"src_points\": \"tensor[24933, 3] n=74799 (0.3Mb) x∈[-1.349, 1.438] μ=-8.813e-08 σ=0.526\",\n",
      "    \"ref_feats\": \"tensor[24933, 1] 97Kb x∈[1.000, 1.000] μ=1.000 σ=0.\",\n",
      "    \"src_feats\": \"tensor[10924, 1] 43Kb x∈[1.000, 1.000] μ=1.000 σ=0.\",\n",
      "    \"transform\": \"tensor[4, 4] n=16 x∈[-0.907, 1.000] μ=-0.077 σ=0.531\",\n",
      "    \"overlap_score\": \"tensor 0.433\"\n",
      "}\u001b[0m\n"
     ]
    }
   ],
   "source": [
    "import jhutil; jhutil.jhprint(1111, train_dataset[0])"
   ]
  },
  {
   "cell_type": "code",
   "execution_count": null,
   "metadata": {},
   "outputs": [],
   "source": [
    "from config import make_cfg\n",
    "cfg = make_cfg()"
   ]
  },
  {
   "cell_type": "code",
   "execution_count": null,
   "metadata": {},
   "outputs": [
    {
     "name": "stdout",
     "output_type": "stream",
     "text": [
      "\u001b[47m0000  \"4\"\u001b[0m\n"
     ]
    }
   ],
   "source": [
    "import numpy as np\n",
    "from dataset import collate_fn_partial\n",
    "collate_fn = collate_fn_partial(cfg)"
   ]
  },
  {
   "cell_type": "code",
   "execution_count": null,
   "metadata": {},
   "outputs": [
    {
     "name": "stdout",
     "output_type": "stream",
     "text": [
      "\u001b[41m1111  {\n",
      "    \"scene_name\": \"artifact/73400_sf/mode_5\",\n",
      "    \"dir_name\": \"/data/wlsgur4011/DataCollection/BreakingBad/data_split/artifact/73400_sf/mode_5\",\n",
      "    \"src_file_name\": \"piece_0.obj\",\n",
      "    \"ref_file_name\": \"piece_1.obj\",\n",
      "    \"src_frame\": 0,\n",
      "    \"ref_frame\": 1,\n",
      "    \"transform\": \"tensor[4, 4] n=16 x∈[-0.907, 1.000] μ=-0.077 σ=0.531\",\n",
      "    \"overlap_score\": \"tensor 0.433\",\n",
      "    \"features\": \"tensor[35857, 1] 0.1Mb x∈[1.000, 1.000] μ=1.000 σ=0.\",\n",
      "    \"points\": [\n",
      "        \"tensor[35857, 3] n=107571 (0.4Mb) x∈[-1.349, 1.438] μ=-4.333e-08 σ=0.494\",\n",
      "        \"tensor[5539, 3] n=16617 (65Kb) x∈[-1.332, 1.430] μ=0.002 σ=0.498\",\n",
      "        \"tensor[1572, 3] n=4716 (18Kb) x∈[-1.323, 1.430] μ=0.005 σ=0.507\",\n",
      "        \"tensor[451, 3] n=1353 (5.3Kb) x∈[-1.293, 1.420] μ=0.009 σ=0.518\"\n",
      "    ],\n",
      "    \"lengths\": [\n",
      "        \"tensor[2] i64 μ=1.793e+04 σ=9.906e+03 [10924, 24933]\",\n",
      "        \"tensor[2] i64 μ=2.770e+03 σ=1.504e+03 [1706, 3833]\",\n",
      "        \"tensor[2] i64 μ=786.000 σ=417.193 [491, 1081]\",\n",
      "        \"tensor[2] i64 μ=225.500 σ=120.915 [140, 311]\"\n",
      "    ],\n",
      "    \"neighbors\": [\n",
      "        \"tensor[35857, 38] i64 n=1362566 (10Mb) x∈[0, 35857] μ=1.853e+04 σ=1.067e+04\",\n",
      "        \"tensor[5539, 35] i64 n=193865 (1.5Mb) x∈[0, 5539] μ=3.529e+03 σ=1.838e+03\",\n",
      "        \"tensor[1572, 35] i64 n=55020 (0.4Mb) x∈[0, 1572] μ=966.563 σ=516.618\",\n",
      "        \"tensor[451, 38] i64 n=17138 (0.1Mb) x∈[0, 451] μ=289.914 σ=148.325\"\n",
      "    ],\n",
      "    \"subsampling\": [\n",
      "        \"tensor[5539, 38] i64 n=210482 (1.6Mb) x∈[0, 35857] μ=1.870e+04 σ=1.079e+04\",\n",
      "        \"tensor[1572, 35] i64 n=55020 (0.4Mb) x∈[0, 5539] μ=3.609e+03 σ=1.849e+03\",\n",
      "        \"tensor[451, 35] i64 n=15785 (0.1Mb) x∈[0, 1572] μ=995.157 σ=520.375\"\n",
      "    ],\n",
      "    \"upsampling\": [\n",
      "        \"tensor[35857, 35] i64 n=1254995 (9.6Mb) x∈[0, 5539] μ=3.576e+03 σ=1.838e+03\",\n",
      "        \"tensor[5539, 35] i64 n=193865 (1.5Mb) x∈[0, 1572] μ=983.729 σ=516.775\",\n",
      "        \"tensor[1572, 38] i64 n=59736 (0.5Mb) x∈[0, 451] μ=290.901 σ=148.283\"\n",
      "    ],\n",
      "    \"batch_size\": 1\n",
      "}\u001b[0m\n"
     ]
    }
   ],
   "source": [
    "data = collate_fn([train_dataset[0]])\n",
    "import jhutil; jhutil.jhprint(1111, data)"
   ]
  },
  {
   "cell_type": "code",
   "execution_count": null,
   "metadata": {},
   "outputs": [],
   "source": []
  },
  {
   "cell_type": "code",
   "execution_count": null,
   "metadata": {},
   "outputs": [],
   "source": []
  },
  {
   "attachments": {},
   "cell_type": "markdown",
   "metadata": {},
   "source": [
    "## STAGE 3 (DataLoader)"
   ]
  },
  {
   "cell_type": "code",
   "execution_count": null,
   "metadata": {},
   "outputs": [
    {
     "name": "stdout",
     "output_type": "stream",
     "text": [
      "\u001b[43m2222  \"0.025\"\u001b[0m\n",
      "\u001b[41m1111  \"0.05\"\u001b[0m\n",
      "\u001b[41m1111  \"0.1\"\u001b[0m\n",
      "\u001b[41m1111  \"0.2\"\u001b[0m\n",
      "\u001b[43m2222  \"0.025\"\u001b[0m\n",
      "\u001b[41m1111  \"0.05\"\u001b[0m\n",
      "\u001b[41m1111  \"0.1\"\u001b[0m\n",
      "\u001b[41m1111  \"0.2\"\u001b[0m\n",
      "\u001b[43m2222  \"0.025\"\u001b[0m\n",
      "\u001b[41m1111  \"0.05\"\u001b[0m\n",
      "\u001b[41m1111  \"0.1\"\u001b[0m\n",
      "\u001b[41m1111  \"0.2\"\u001b[0m\n"
     ]
    }
   ],
   "source": [
    "\n",
    "from dataset import train_valid_data_loader\n",
    "\n",
    "from config import make_cfg\n",
    "cfg = make_cfg()\n",
    "train_loader, valid_loader, _ = train_valid_data_loader(cfg, False, part_assembly=False)"
   ]
  },
  {
   "cell_type": "code",
   "execution_count": null,
   "metadata": {},
   "outputs": [
    {
     "name": "stdout",
     "output_type": "stream",
     "text": [
      "\u001b[43m2222  \"0.025\"\u001b[0m\n",
      "\u001b[41m1111  \"0.05\"\u001b[0m\n",
      "\u001b[41m1111  \"0.1\"\u001b[0m\n",
      "\u001b[41m1111  \"0.2\"\u001b[0m\n",
      "\u001b[43m2222  \"0.025\"\u001b[0m\n",
      "\u001b[41m1111  \"0.05\"\u001b[0m\n",
      "\u001b[41m1111  \"0.1\"\u001b[0m\n",
      "\u001b[41m1111  \"0.2\"\u001b[0m\n",
      "\u001b[43m2222  \"0.025\"\u001b[0m\n",
      "\u001b[41m1111  \"0.05\"\u001b[0m\n",
      "\u001b[41m1111  \"0.1\"\u001b[0m\n",
      "\u001b[41m1111  \"0.2\"\u001b[0m\n",
      "\u001b[43m2222  \"0.025\"\u001b[0m\n",
      "\u001b[41m1111  \"0.05\"\u001b[0m\n",
      "\u001b[41m1111  \"0.1\"\u001b[0m\n",
      "\u001b[41m1111  \"0.2\"\u001b[0m\n",
      "\u001b[43m2222  \"0.025\"\u001b[0m\n",
      "\u001b[41m1111  \"0.05\"\u001b[0m\n",
      "\u001b[41m1111  \"0.1\"\u001b[0m\n",
      "\u001b[41m1111  \"0.2\"\u001b[0m\n",
      "\u001b[43m2222  \"0.025\"\u001b[0m\n",
      "\u001b[41m1111  \"0.05\"\u001b[0m\n",
      "\u001b[41m1111  \"0.1\"\u001b[0m\n",
      "\u001b[41m1111  \"0.2\"\u001b[0m\n",
      "\u001b[43m2222  \"0.025\"\u001b[0m\n",
      "\u001b[41m1111  \"0.05\"\u001b[0m\n",
      "\u001b[41m1111  \"0.1\"\u001b[0m\n",
      "\u001b[41m1111  \"0.2\"\u001b[0m\n",
      "\u001b[43m2222  \"0.025\"\u001b[0m\n",
      "\u001b[41m1111  \"0.05\"\u001b[0m\n",
      "\u001b[41m1111  \"0.1\"\u001b[0m\n",
      "\u001b[41m1111  \"0.2\"\u001b[0m\n",
      "\u001b[43m2222  \"0.025\"\u001b[0m\n",
      "\u001b[41m1111  \"0.05\"\u001b[0m\n",
      "\u001b[41m1111  \"0.1\"\u001b[0m\n",
      "\u001b[41m1111  \"0.2\"\u001b[0m\n",
      "\u001b[43m2222  \"0.025\"\u001b[0m\n",
      "\u001b[41m1111  \"0.05\"\u001b[0m\n",
      "\u001b[41m1111  \"0.1\"\u001b[0m\n",
      "\u001b[41m1111  \"0.2\"\u001b[0m\n",
      "\u001b[43m2222  \"0.025\"\u001b[0m\n",
      "\u001b[41m1111  \"0.05\"\u001b[0m\n",
      "\u001b[43m2222  \"0.025\"\u001b[0m\n",
      "\u001b[41m1111  \"0.05\"\u001b[0m\n",
      "\u001b[41m1111  \"0.1\"\u001b[0m\n",
      "\u001b[41m1111  \"0.2\"\u001b[0m\n",
      "\u001b[41m1111  \"0.1\"\u001b[0m\n",
      "\u001b[41m1111  \"0.2\"\u001b[0m\n",
      "\u001b[43m2222  \"0.025\"\u001b[0m\n",
      "\u001b[41m1111  \"0.05\"\u001b[0m\n",
      "\u001b[41m1111  \"0.1\"\u001b[0m\n",
      "\u001b[41m1111  \"0.2\"\u001b[0m\n",
      "\u001b[43m2222  \"0.025\"\u001b[0m\n",
      "\u001b[41m1111  \"0.05\"\u001b[0m\n",
      "\u001b[41m1111  \"0.1\"\u001b[0m\n",
      "\u001b[41m1111  \"0.2\"\u001b[0m\n",
      "\u001b[43m2222  \"0.025\"\u001b[0m\n",
      "\u001b[41m1111  \"0.05\"\u001b[0m\n",
      "\u001b[41m1111  \"0.1\"\u001b[0m\n",
      "\u001b[41m1111  \"0.2\"\u001b[0m\n",
      "\u001b[43m2222  \"0.025\"\u001b[0m\n",
      "\u001b[41m1111  \"0.05\"\u001b[0m\n",
      "\u001b[41m1111  \"0.1\"\u001b[0m\n",
      "\u001b[41m1111  \"0.2\"\u001b[0m\n",
      "\u001b[41m1111  {\n",
      "    \"scene_name\": \"sun3d-mit_32_d507-d507_2_1\",\n",
      "    \"ref_frame\": 27,\n",
      "    \"src_frame\": 2,\n",
      "    \"overlap\": 0.6336979131718445,\n",
      "    \"transform\": \"tensor[4, 4] n=16 x∈[-0.543, 1.000] μ=0.281 σ=0.488\",\n",
      "    \"features\": \"tensor[32395, 1] 0.1Mb x∈[1.000, 1.000] μ=1.000 σ=0.\",\n",
      "    \"points\": [\n",
      "        \"tensor[32395, 3] n=97185 (0.4Mb) x∈[-3.198, 3.496] μ=0.416 σ=1.439\",\n",
      "        \"tensor[8074, 3] n=24222 (95Kb) x∈[-3.184, 3.496] μ=0.420 σ=1.421\",\n",
      "        \"tensor[2331, 3] n=6993 (27Kb) x∈[-3.182, 3.490] μ=0.418 σ=1.415\",\n",
      "        \"tensor[657, 3] n=1971 (7.7Kb) x∈[-3.104, 3.490] μ=0.415 σ=1.427\"\n",
      "    ],\n",
      "    \"lengths\": [\n",
      "        \"tensor[2] i64 μ=1.620e+04 σ=412.243 [15906, 16489]\",\n",
      "        \"tensor[2] i64 μ=4.037e+03 σ=107.480 [4113, 3961]\",\n",
      "        \"tensor[2] i64 μ=1.166e+03 σ=4.950 [1169, 1162]\",\n",
      "        \"tensor[2] i64 μ=328.500 σ=0.707 [328, 329]\"\n",
      "    ],\n",
      "    \"neighbors\": [\n",
      "        \"tensor[32395, 38] i64 n=1231010 (9.4Mb) x∈[0, 32395] μ=2.018e+04 σ=1.072e+04\",\n",
      "        \"tensor[8074, 35] i64 n=282590 (2.2Mb) x∈[0, 8074] μ=4.915e+03 σ=2.693e+03\",\n",
      "        \"tensor[2331, 35] i64 n=81585 (0.6Mb) x∈[0, 2331] μ=1.406e+03 σ=770.216\",\n",
      "        \"tensor[657, 38] i64 n=24966 (0.2Mb) x∈[0, 657] μ=416.383 σ=218.703\"\n",
      "    ],\n",
      "    \"subsampling\": [\n",
      "        \"tensor[8074, 38] i64 n=306812 (2.3Mb) x∈[0, 32395] μ=2.044e+04 σ=1.091e+04\",\n",
      "        \"tensor[2331, 35] i64 n=81585 (0.6Mb) x∈[0, 8074] μ=5.163e+03 σ=2.705e+03\",\n",
      "        \"tensor[657, 35] i64 n=22995 (0.2Mb) x∈[0, 2331] μ=1.471e+03 σ=778.399\"\n",
      "    ],\n",
      "    \"upsampling\": [\n",
      "        \"tensor[32395, 35] i64 n=1133825 (8.7Mb) x∈[0, 8074] μ=4.981e+03 σ=2.685e+03\",\n",
      "        \"tensor[8074, 35] i64 n=282590 (2.2Mb) x∈[0, 2331] μ=1.402e+03 σ=775.790\",\n",
      "        \"tensor[2331, 38] i64 n=88578 (0.7Mb) x∈[0, 657] μ=411.856 σ=219.902\"\n",
      "    ],\n",
      "    \"batch_size\": 1\n",
      "}\u001b[0m\n"
     ]
    }
   ],
   "source": [
    "for data in train_loader:\n",
    "    break\n",
    "import jhutil; jhutil.jhprint(1111, data)"
   ]
  },
  {
   "cell_type": "code",
   "execution_count": null,
   "metadata": {},
   "outputs": [],
   "source": []
  },
  {
   "cell_type": "code",
   "execution_count": null,
   "metadata": {},
   "outputs": [],
   "source": []
  },
  {
   "cell_type": "code",
   "execution_count": null,
   "metadata": {},
   "outputs": [],
   "source": []
  },
  {
   "cell_type": "code",
   "execution_count": null,
   "metadata": {},
   "outputs": [],
   "source": []
  },
  {
   "cell_type": "code",
   "execution_count": null,
   "metadata": {},
   "outputs": [],
   "source": []
  },
  {
   "cell_type": "code",
   "execution_count": null,
   "metadata": {},
   "outputs": [],
   "source": []
  },
  {
   "cell_type": "code",
   "execution_count": null,
   "metadata": {},
   "outputs": [],
   "source": []
  },
  {
   "cell_type": "markdown",
   "metadata": {},
   "source": [
    "## Original to stage 3"
   ]
  },
  {
   "cell_type": "code",
   "execution_count": 6,
   "metadata": {},
   "outputs": [
    {
     "name": "stdout",
     "output_type": "stream",
     "text": [
      "\u001b[41m1111  {\n",
      "    \"scene_name\": \"artifact/73400_sf/mode_5\",\n",
      "    \"dir_name\": \"/data/wlsgur4011/DataCollection/BreakingBad/data_split/artifact/73400_sf/mode_5\",\n",
      "    \"src_file_name\": \"piece_0.obj\",\n",
      "    \"ref_file_name\": \"piece_1.obj\",\n",
      "    \"src_frame\": 0,\n",
      "    \"ref_frame\": 1,\n",
      "    \"ref_points\": \"tensor[10924, 3] n=32772 (0.1Mb) x∈[-1.101, 1.092] μ=2.887e-08 σ=0.407\",\n",
      "    \"src_points\": \"tensor[24933, 3] n=74799 (0.3Mb) x∈[-1.514, 1.401] μ=-1.217e-07 σ=0.523\",\n",
      "    \"ref_feats\": \"tensor[24933, 1] 97Kb x∈[1.000, 1.000] μ=1.000 σ=0.\",\n",
      "    \"src_feats\": \"tensor[10924, 1] 43Kb x∈[1.000, 1.000] μ=1.000 σ=0.\",\n",
      "    \"transform\": \"tensor[4, 4] n=16 x∈[-0.859, 1.000] μ=0.015 σ=0.537\",\n",
      "    \"overlap_score\": \"tensor 0.433\"\n",
      "}\u001b[0m\n"
     ]
    }
   ],
   "source": [
    "from part_assembly.stage3 import original_to_stage3, stage3_data_format\n",
    "stage3_data = original_to_stage3(train_data[0], 0, 1)\n",
    "\n",
    "import jhutil; jhutil.jhprint(1111, stage3_data)"
   ]
  },
  {
   "cell_type": "code",
   "execution_count": null,
   "metadata": {},
   "outputs": [],
   "source": []
  },
  {
   "cell_type": "code",
   "execution_count": null,
   "metadata": {},
   "outputs": [],
   "source": []
  },
  {
   "attachments": {},
   "cell_type": "markdown",
   "metadata": {},
   "source": [
    "## STAGE 1"
   ]
  },
  {
   "cell_type": "code",
   "execution_count": 9,
   "metadata": {},
   "outputs": [
    {
     "name": "stdout",
     "output_type": "stream",
     "text": [
      "\u001b[32m[2023-05-28 17:49:19]\u001b[0m \u001b[1;30m[DEBU]\u001b[0m \u001b[32mCreating converter from 7 to 5\u001b[0m\n",
      "\u001b[32m[2023-05-28 17:49:19]\u001b[0m \u001b[1;30m[DEBU]\u001b[0m \u001b[32mCreating converter from 5 to 7\u001b[0m\n",
      "\u001b[32m[2023-05-28 17:49:19]\u001b[0m \u001b[1;30m[DEBU]\u001b[0m \u001b[32mCreating converter from 7 to 5\u001b[0m\n",
      "\u001b[32m[2023-05-28 17:49:19]\u001b[0m \u001b[1;30m[DEBU]\u001b[0m \u001b[32mCreating converter from 5 to 7\u001b[0m\n"
     ]
    }
   ],
   "source": [
    "import sys\n",
    "sys.path.append(\"/data/wlsgur4011/part_assembly/\")\n",
    "from openpoints.dataset.s3dis.s3dis import S3DIS_DatasetStage1"
   ]
  },
  {
   "cell_type": "code",
   "execution_count": 10,
   "metadata": {},
   "outputs": [
    {
     "name": "stdout",
     "output_type": "stream",
     "text": [
      "\u001b[32m[2023-05-28 17:49:35]\u001b[0m \u001b[1;30m[INFO]\u001b[0m \n",
      "Totally 71358 samples in train set\n"
     ]
    }
   ],
   "source": [
    "dataset = S3DIS_DatasetStage1()"
   ]
  },
  {
   "cell_type": "code",
   "execution_count": 11,
   "metadata": {},
   "outputs": [
    {
     "name": "stdout",
     "output_type": "stream",
     "text": [
      "\u001b[41m1111  {\n",
      "    \"pos\": \"array[29993, 3] f32 n=89979 (0.3Mb) x∈[0., 6.998] μ=2.583 σ=1.811\",\n",
      "    \"x\": \"array[29993, 3] f32 n=89979 (0.3Mb) x∈[-1.000, 1.000] μ=0.002 σ=0.577\",\n",
      "    \"y\": \"array[29993] i64 0.2Mb x∈[0, 1] μ=0.106 σ=0.308\",\n",
      "    \"heights\": \"tensor[29993, 1] 0.1Mb x∈[0., 6.998] μ=3.995 σ=2.081\"\n",
      "}\u001b[0m\n"
     ]
    }
   ],
   "source": [
    "import jhutil; jhutil.jhprint(1111, dataset[0])"
   ]
  },
  {
   "cell_type": "code",
   "execution_count": null,
   "metadata": {},
   "outputs": [],
   "source": []
  },
  {
   "cell_type": "code",
   "execution_count": null,
   "metadata": {},
   "outputs": [],
   "source": []
  },
  {
   "cell_type": "code",
   "execution_count": null,
   "metadata": {},
   "outputs": [],
   "source": []
  },
  {
   "cell_type": "code",
   "execution_count": null,
   "metadata": {},
   "outputs": [],
   "source": []
  }
 ],
 "metadata": {
  "kernelspec": {
   "display_name": "pointnext",
   "language": "python",
   "name": "python3"
  },
  "language_info": {
   "codemirror_mode": {
    "name": "ipython",
    "version": 3
   },
   "file_extension": ".py",
   "mimetype": "text/x-python",
   "name": "python",
   "nbconvert_exporter": "python",
   "pygments_lexer": "ipython3",
   "version": "3.9.17"
  },
  "orig_nbformat": 4
 },
 "nbformat": 4,
 "nbformat_minor": 2
}
