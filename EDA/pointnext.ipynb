{
 "cells": [
  {
   "cell_type": "markdown",
   "id": "0ef3e585-9261-4998-a234-9f24f4cb2066",
   "metadata": {},
   "source": [
    "## warning : 환경 바꿔야 함."
   ]
  },
  {
   "cell_type": "markdown",
   "id": "a8cab3e7-3c12-4f6a-9ca6-74e5fe6d1de8",
   "metadata": {},
   "source": [
    "conda activate pointnext"
   ]
  },
  {
   "cell_type": "code",
   "execution_count": 1,
   "id": "38875430-9ff1-4f31-8398-ab7bd6aecafa",
   "metadata": {
    "tags": []
   },
   "outputs": [
    {
     "name": "stdout",
     "output_type": "stream",
     "text": [
      "/data/wlsgur4011/part_assembly/src/pointnext\n"
     ]
    }
   ],
   "source": [
    "cd /data/wlsgur4011/part_assembly/src/pointnext"
   ]
  },
  {
   "cell_type": "code",
   "execution_count": 2,
   "id": "7e8652ed-3063-46b4-bf10-3efeb0a018e1",
   "metadata": {
    "tags": []
   },
   "outputs": [],
   "source": [
    "%matplotlib widget"
   ]
  },
  {
   "cell_type": "code",
   "execution_count": 3,
   "id": "ebe75297-6d88-4392-bcea-ba92da0ecf3c",
   "metadata": {
    "tags": []
   },
   "outputs": [],
   "source": [
    "import os\n",
    "os.environ[\"CUDA_DEVICE_ORDER\"]=\"PCI_BUS_ID\"\n",
    "os.environ[\"CUDA_VISIBLE_DEVICES\"]=\"5\"\n",
    "from jhutil import show_point_clouds\n",
    "import torch\n",
    "import numpy as np"
   ]
  },
  {
   "cell_type": "code",
   "execution_count": null,
   "id": "6b16f4ab",
   "metadata": {},
   "outputs": [],
   "source": []
  },
  {
   "cell_type": "markdown",
   "id": "b3317a78-afe9-4b01-a898-7372343acc8b",
   "metadata": {},
   "source": [
    "# 2. S3DIS Segmentation"
   ]
  },
  {
   "cell_type": "markdown",
   "id": "bd017ad5-3b74-4c54-8756-7f6bee8d4708",
   "metadata": {},
   "source": [
    "## import and config"
   ]
  },
  {
   "cell_type": "code",
   "execution_count": 4,
   "id": "20a221d0-0598-489f-8da6-bff2be9903f0",
   "metadata": {
    "tags": []
   },
   "outputs": [
    {
     "name": "stdout",
     "output_type": "stream",
     "text": [
      "\u001b[32m[2023-05-27 22:03:12]\u001b[0m \u001b[1;30m[DEBU]\u001b[0m \u001b[32mPopen(['git', 'version'], cwd=/data/wlsgur4011/part_assembly/src/pointnext, universal_newlines=False, shell=None, istream=None)\u001b[0m\n",
      "\u001b[32m[2023-05-27 22:03:12]\u001b[0m \u001b[1;30m[DEBU]\u001b[0m \u001b[32mPopen(['git', 'version'], cwd=/data/wlsgur4011/part_assembly/src/pointnext, universal_newlines=False, shell=None, istream=None)\u001b[0m\n",
      "\u001b[32m[2023-05-27 22:03:12]\u001b[0m \u001b[1;30m[DEBU]\u001b[0m \u001b[32mTrying paths: ['/root/.docker/config.json', '/root/.dockercfg']\u001b[0m\n",
      "\u001b[32m[2023-05-27 22:03:12]\u001b[0m \u001b[1;30m[DEBU]\u001b[0m \u001b[32mNo config file found\u001b[0m\n",
      "\u001b[32m[2023-05-27 22:03:14]\u001b[0m \u001b[1;30m[DEBU]\u001b[0m \u001b[32mCreating converter from 7 to 5\u001b[0m\n",
      "\u001b[32m[2023-05-27 22:03:14]\u001b[0m \u001b[1;30m[DEBU]\u001b[0m \u001b[32mCreating converter from 5 to 7\u001b[0m\n",
      "\u001b[32m[2023-05-27 22:03:14]\u001b[0m \u001b[1;30m[DEBU]\u001b[0m \u001b[32mCreating converter from 7 to 5\u001b[0m\n",
      "\u001b[32m[2023-05-27 22:03:14]\u001b[0m \u001b[1;30m[DEBU]\u001b[0m \u001b[32mCreating converter from 5 to 7\u001b[0m\n"
     ]
    }
   ],
   "source": [
    "import argparse\n",
    "import yaml\n",
    "import os\n",
    "import logging\n",
    "import numpy as npb\n",
    "import csv\n",
    "import wandb\n",
    "import glob\n",
    "from tqdm import tqdm\n",
    "import torch\n",
    "import torch.nn as nn\n",
    "from torch import distributed as dist, multiprocessing as mp\n",
    "from torch.utils.tensorboard import SummaryWriter\n",
    "# from torch_scatter import scatter\n",
    "from openpoints.utils import set_random_seed, save_checkpoint, load_checkpoint, resume_checkpoint, setup_logger_dist, \\\n",
    "    cal_model_parm_nums, Wandb, generate_exp_directory, resume_exp_directory, EasyConfig, dist_utils, find_free_port\n",
    "from openpoints.utils import AverageMeter, ConfusionMatrix, get_mious\n",
    "from openpoints.dataset import build_dataloader_from_cfg, get_features_by_keys, get_class_weights\n",
    "from openpoints.dataset.data_util import voxelize\n",
    "from openpoints.dataset.semantic_kitti.semantickitti import load_label_kitti, load_pc_kitti, remap_lut_read, remap_lut_write, get_semantickitti_file_list\n",
    "from openpoints.transforms import build_transforms_from_cfg\n",
    "from openpoints.optim import build_optimizer_from_cfg\n",
    "from openpoints.scheduler import build_scheduler_from_cfg\n",
    "from openpoints.loss import build_criterion_from_cfg\n",
    "from openpoints.models import build_model_from_cfg\n",
    "import warnings"
   ]
  },
  {
   "cell_type": "code",
   "execution_count": 5,
   "id": "6711694f-ba32-4de7-ae03-e9a99ee5cc6e",
   "metadata": {
    "tags": []
   },
   "outputs": [],
   "source": [
    "import sys\n",
    "sys.argv = [\"examples/segmentation/main.py\" ,\"--cfg\" ,\"cfgs/part_assembly/pointnext-s.yaml\"]\n"
   ]
  },
  {
   "cell_type": "code",
   "execution_count": 6,
   "id": "9f0b6c37-e4d7-4b7d-80a1-084b764379ad",
   "metadata": {
    "tags": []
   },
   "outputs": [
    {
     "name": "stdout",
     "output_type": "stream",
     "text": [
      "launch mp with 1 GPUs, current rank: 0\n"
     ]
    }
   ],
   "source": [
    "def get_config():\n",
    "    parser = argparse.ArgumentParser('Scene segmentation training/testing')\n",
    "    parser.add_argument('--cfg', type=str, required=True, help='config file')\n",
    "    parser.add_argument('--profile', action='store_true', default=False, help='set to True to profile speed')\n",
    "    args, opts = parser.parse_known_args()\n",
    "    cfg = EasyConfig()\n",
    "    cfg.load(args.cfg, recursive=True)\n",
    "    cfg.update(opts)  # overwrite the default arguments in yml\n",
    "    \n",
    "    if cfg.seed is None:\n",
    "        cfg.seed = np.random.randint(1, 10000)\n",
    "    \n",
    "    # init distributed env first, since logger depends on the dist info.\n",
    "    cfg.rank, cfg.world_size, cfg.distributed, cfg.mp = dist_utils.get_dist_info(cfg)\n",
    "    cfg.sync_bn = cfg.world_size > 1\n",
    "    \n",
    "    # init log dir\n",
    "    cfg.task_name = args.cfg.split('.')[-2].split('/')[-2]  # task/dataset name, \\eg s3dis, modelnet40_cls\n",
    "    cfg.cfg_basename = args.cfg.split('.')[-2].split('/')[-1]  # cfg_basename, \\eg pointnext-xl\n",
    "    tags = [\n",
    "        cfg.task_name,  # task name (the folder of name under ./cfgs\n",
    "        cfg.mode,\n",
    "        cfg.cfg_basename,  # cfg file name\n",
    "        f'ngpus{cfg.world_size}',\n",
    "        f'seed{cfg.seed}',\n",
    "    ]\n",
    "    opt_list = []  # for checking experiment configs from logging file\n",
    "    for i, opt in enumerate(opts):\n",
    "        if 'rank' not in opt and 'dir' not in opt and 'root' not in opt and 'pretrain' not in opt and 'path' not in opt and 'wandb' not in opt and '/' not in opt:\n",
    "            opt_list.append(opt)\n",
    "    cfg.root_dir = os.path.join(cfg.root_dir, cfg.task_name)\n",
    "    cfg.opts = '-'.join(opt_list)\n",
    "    \n",
    "    cfg.is_training = cfg.mode not in ['test', 'testing', 'val', 'eval', 'evaluation']\n",
    "    if cfg.mode in ['resume', 'val', 'test']:\n",
    "        resume_exp_directory(cfg, pretrained_path=cfg.pretrained_path)\n",
    "        cfg.wandb.tags = [cfg.mode]\n",
    "    else:\n",
    "        generate_exp_directory(cfg, tags, additional_id=os.environ.get('MASTER_PORT', None))\n",
    "        cfg.wandb.tags = tags\n",
    "    os.environ[\"JOB_LOG_DIR\"] = cfg.log_dir\n",
    "    cfg_path = os.path.join(cfg.run_dir, \"cfg.yaml\")\n",
    "    with open(cfg_path, 'w') as f:\n",
    "        yaml.dump(cfg, f, indent=2)\n",
    "        os.system('cp %s %s' % (args.cfg, cfg.run_dir))\n",
    "    cfg.cfg_path = cfg_path\n",
    "    \n",
    "    # wandb config\n",
    "    cfg.wandb.name = cfg.run_name\n",
    "    \n",
    "    if cfg.model.get('in_channels', None) is None:\n",
    "        cfg.model.in_channels = cfg.model.encoder_args.in_channels\n",
    "        \n",
    "    return cfg\n",
    "\n",
    "cfg = get_config()\n",
    "set_random_seed(cfg.seed + cfg.rank, deterministic=cfg.deterministic)\n",
    "torch.backends.cudnn.enabled = True"
   ]
  },
  {
   "cell_type": "code",
   "execution_count": 7,
   "id": "0a0dd219",
   "metadata": {},
   "outputs": [
    {
     "name": "stdout",
     "output_type": "stream",
     "text": [
      "\u001b[41m1111  {\n",
      "    \"dist_url\": \"tcp://localhost:8888\",\n",
      "    \"dist_backend\": \"nccl\",\n",
      "    \"multiprocessing_distributed\": false,\n",
      "    \"ngpus_per_node\": 1,\n",
      "    \"world_size\": 1,\n",
      "    \"launcher\": \"mp\",\n",
      "    \"local_rank\": 0,\n",
      "    \"use_gpu\": true,\n",
      "    \"seed\": 7915,\n",
      "    \"epoch\": 0,\n",
      "    \"epochs\": 100,\n",
      "    \"ignore_index\": null,\n",
      "    \"val_fn\": \"validate\",\n",
      "    \"deterministic\": false,\n",
      "    \"sync_bn\": false,\n",
      "    \"criterion_args\": {\n",
      "        \"NAME\": \"CrossEntropy\",\n",
      "        \"label_smoothing\": 0.2\n",
      "    },\n",
      "    \"use_mask\": false,\n",
      "    \"grad_norm_clip\": 10,\n",
      "    \"layer_decay\": 0,\n",
      "    \"step_per_update\": 1,\n",
      "    \"start_epoch\": 1,\n",
      "    \"sched_on_epoch\": true,\n",
      "    \"wandb\": {\n",
      "        \"use_wandb\": false,\n",
      "        \"project\": \"PointNeXt-S3DIS\",\n",
      "        \"tags\": [\n",
      "            \"part_assembly\",\n",
      "            \"train\",\n",
      "            \"pointnext-s\",\n",
      "            \"ngpus1\",\n",
      "            \"seed7915\"\n",
      "        ],\n",
      "        \"name\": \"part_assembly-train-pointnext-s-ngpus1-seed7915-20230527-220320-JEYoxiby5nqSoGcgqYyNnB\"\n",
      "    },\n",
      "    \"use_amp\": false,\n",
      "    \"use_voting\": false,\n",
      "    \"val_freq\": 1,\n",
      "    \"resume\": false,\n",
      "    \"test\": false,\n",
      "    \"finetune\": false,\n",
      "    \"mode\": \"train\",\n",
      "    \"logname\": null,\n",
      "    \"load_path\": null,\n",
      "    \"print_freq\": 50,\n",
      "    \"save_freq\": -1,\n",
      "    \"root_dir\": \"log/part_assembly\",\n",
      "    \"pretrained_path\": null,\n",
      "    \"datatransforms\": {\n",
      "        \"train\": [\n",
      "            \"ChromaticAutoContrast\",\n",
      "            \"PointsToTensor\",\n",
      "            \"PointCloudScaling\",\n",
      "            \"PointCloudXYZAlign\",\n",
      "            \"PointCloudJitter\",\n",
      "            \"ChromaticDropGPU\",\n",
      "            \"ChromaticNormalize\"\n",
      "        ],\n",
      "        \"val\": [\n",
      "            \"PointsToTensor\",\n",
      "            \"PointCloudXYZAlign\",\n",
      "            \"ChromaticNormalize\"\n",
      "        ],\n",
      "        \"vote\": [\n",
      "            \"ChromaticDropGPU\"\n",
      "        ],\n",
      "        \"kwargs\": {\n",
      "            \"color_drop\": 0.2,\n",
      "            \"gravity_dim\": 2,\n",
      "            \"scale\": [\n",
      "                0.9,\n",
      "                1.1\n",
      "            ],\n",
      "            \"angle\": [\n",
      "                0,\n",
      "                0,\n",
      "                1\n",
      "            ],\n",
      "            \"jitter_sigma\": 0.005,\n",
      "            \"jitter_clip\": 0.02\n",
      "        }\n",
      "    },\n",
      "    \"feature_keys\": \"x,heights\",\n",
      "    \"dataset\": {\n",
      "        \"common\": {\n",
      "            \"NAME\": \"S3DIS_DatasetStage1\",\n",
      "            \"train_data_root\": \"/data/wlsgur4011/DataCollection/BreakingBad/data_split/artifact.train.pth\",\n",
      "            \"val_data_root\": \"/data/wlsgur4011/DataCollection/BreakingBad/data_split/artifact.val.pth\",\n",
      "            \"voxel_size\": 0.04,\n",
      "            \"overfit\": -1\n",
      "        },\n",
      "        \"train\": {\n",
      "            \"split\": \"train\",\n",
      "            \"voxel_max\": 24000,\n",
      "            \"loop\": 1,\n",
      "            \"presample\": false\n",
      "        },\n",
      "        \"val\": {\n",
      "            \"split\": \"val\",\n",
      "            \"voxel_max\": null,\n",
      "            \"presample\": true\n",
      "        },\n",
      "        \"test\": {\n",
      "            \"split\": \"test\",\n",
      "            \"voxel_max\": null,\n",
      "            \"presample\": false\n",
      "        }\n",
      "    },\n",
      "    \"num_classes\": 2,\n",
      "    \"batch_size\": 8,\n",
      "    \"val_batch_size\": 1,\n",
      "    \"dataloader\": {\n",
      "        \"num_workers\": 6\n",
      "    },\n",
      "    \"cls_weighed_loss\": false,\n",
      "    \"optimizer\": {\n",
      "        \"NAME\": \"adamw\",\n",
      "        \"weight_decay\": 0.0001\n",
      "    },\n",
      "    \"sched\": \"cosine\",\n",
      "    \"warmup_epochs\": 0,\n",
      "    \"min_lr\": 1e-05,\n",
      "    \"lr\": 0.01,\n",
      "    \"log_dir\": \"log/part_assembly/part_assembly-train-pointnext-s-ngpus1-seed7915-20230527-220320-JEYoxiby5nqSoGcgqYyNnB\",\n",
      "    \"model\": {\n",
      "        \"NAME\": \"BaseSeg\",\n",
      "        \"encoder_args\": {\n",
      "            \"NAME\": \"PointNextEncoder\",\n",
      "            \"blocks\": [\n",
      "                1,\n",
      "                1,\n",
      "                1,\n",
      "                1,\n",
      "                1\n",
      "            ],\n",
      "            \"strides\": [\n",
      "                1,\n",
      "                4,\n",
      "                4,\n",
      "                4,\n",
      "                4\n",
      "            ],\n",
      "            \"sa_layers\": 2,\n",
      "            \"sa_use_res\": true,\n",
      "            \"width\": 32,\n",
      "            \"in_channels\": 4,\n",
      "            \"expansion\": 4,\n",
      "            \"radius\": 0.1,\n",
      "            \"nsample\": 32,\n",
      "            \"aggr_args\": {\n",
      "                \"feature_type\": \"dp_fj\",\n",
      "                \"reduction\": \"max\"\n",
      "            },\n",
      "            \"group_args\": {\n",
      "                \"NAME\": \"ballquery\",\n",
      "                \"normalize_dp\": true\n",
      "            },\n",
      "            \"conv_args\": {\n",
      "                \"order\": \"conv-norm-act\"\n",
      "            },\n",
      "            \"act_args\": {\n",
      "                \"act\": \"relu\"\n",
      "            },\n",
      "            \"norm_args\": {\n",
      "                \"norm\": \"bn\"\n",
      "            }\n",
      "        },\n",
      "        \"decoder_args\": {\n",
      "            \"NAME\": \"PointNextDecoder\"\n",
      "        },\n",
      "        \"cls_args\": {\n",
      "            \"NAME\": \"SegHead\",\n",
      "            \"num_classes\": 2,\n",
      "            \"in_channels\": null,\n",
      "            \"norm_args\": {\n",
      "                \"norm\": \"bn\"\n",
      "            }\n",
      "        },\n",
      "        \"in_channels\": 4\n",
      "    },\n",
      "    \"rank\": 0,\n",
      "    \"distributed\": false,\n",
      "    \"mp\": false,\n",
      "    \"task_name\": \"part_assembly\",\n",
      "    \"cfg_basename\": \"pointnext-s\",\n",
      "    \"opts\": \"\",\n",
      "    \"is_training\": true,\n",
      "    \"run_name\": \"part_assembly-train-pointnext-s-ngpus1-seed7915-20230527-220320-JEYoxiby5nqSoGcgqYyNnB\",\n",
      "    \"run_dir\": \"log/part_assembly/part_assembly-train-pointnext-s-ngpus1-seed7915-20230527-220320-JEYoxiby5nqSoGcgqYyNnB\",\n",
      "    \"exp_dir\": \"log/part_assembly/part_assembly-train-pointnext-s-ngpus1-seed7915-20230527-220320-JEYoxiby5nqSoGcgqYyNnB\",\n",
      "    \"ckpt_dir\": \"log/part_assembly/part_assembly-train-pointnext-s-ngpus1-seed7915-20230527-220320-JEYoxiby5nqSoGcgqYyNnB/checkpoint\",\n",
      "    \"log_path\": \"log/part_assembly/part_assembly-train-pointnext-s-ngpus1-seed7915-20230527-220320-JEYoxiby5nqSoGcgqYyNnB/part_assembly-train-pointnext-s-ngpus1-seed7915-20230527-220320-JEYoxiby5nqSoGcgqYyNnB.log\",\n",
      "    \"cfg_path\": \"log/part_assembly/part_assembly-train-pointnext-s-ngpus1-seed7915-20230527-220320-JEYoxiby5nqSoGcgqYyNnB/cfg.yaml\"\n",
      "}\u001b[0m\n"
     ]
    }
   ],
   "source": [
    "\n",
    "import jhutil; jhutil.jhprint(1111, cfg)"
   ]
  },
  {
   "cell_type": "markdown",
   "id": "cd10f9f4-e0a3-4474-8884-f7af262f128e",
   "metadata": {},
   "source": [
    "## model & data_loader"
   ]
  },
  {
   "cell_type": "code",
   "execution_count": 8,
   "id": "d558467a-3341-4f77-af01-dde253fb53f3",
   "metadata": {
    "tags": []
   },
   "outputs": [
    {
     "name": "stdout",
     "output_type": "stream",
     "text": [
      "\u001b[32m[2023-05-27 22:03:20]\u001b[0m \u001b[1;30m[INFO]\u001b[0m radius: [[0.1], [0.1], [0.2], [0.4], [0.8]],\n",
      " nsample: [[32], [32], [32], [32], [32]]\n",
      "\u001b[32m[2023-05-27 22:03:20]\u001b[0m \u001b[1;30m[INFO]\u001b[0m NAME: ballquery\n",
      "normalize_dp: True\n",
      "radius: 0.1\n",
      "nsample: 32\n",
      "\u001b[32m[2023-05-27 22:03:20]\u001b[0m \u001b[1;30m[INFO]\u001b[0m NAME: ballquery\n",
      "normalize_dp: True\n",
      "radius: 0.2\n",
      "nsample: 32\n",
      "\u001b[32m[2023-05-27 22:03:20]\u001b[0m \u001b[1;30m[INFO]\u001b[0m NAME: ballquery\n",
      "normalize_dp: True\n",
      "radius: 0.4\n",
      "nsample: 32\n",
      "\u001b[32m[2023-05-27 22:03:20]\u001b[0m \u001b[1;30m[INFO]\u001b[0m NAME: ballquery\n",
      "normalize_dp: True\n",
      "radius: 0.8\n",
      "nsample: 32\n"
     ]
    }
   ],
   "source": [
    "model = build_model_from_cfg(cfg.model).to(cfg.rank)\n",
    "model_size = cal_model_parm_nums(model)"
   ]
  },
  {
   "cell_type": "code",
   "execution_count": 9,
   "id": "6484a8a8-eda2-4a63-8225-6cd266ed38ee",
   "metadata": {
    "tags": []
   },
   "outputs": [
    {
     "name": "stdout",
     "output_type": "stream",
     "text": [
      "\u001b[32m[2023-05-27 22:03:30]\u001b[0m \u001b[1;30m[INFO]\u001b[0m \n",
      "Totally 17686 samples in val set\n"
     ]
    }
   ],
   "source": [
    "val_loader = build_dataloader_from_cfg(cfg.get('val_batch_size', cfg.batch_size),\n",
    "                                       cfg.dataset,\n",
    "                                       cfg.dataloader,\n",
    "                                       datatransforms_cfg=cfg.datatransforms,\n",
    "                                       split='val',\n",
    "                                       distributed=cfg.distributed\n",
    "                                    )"
   ]
  },
  {
   "cell_type": "code",
   "execution_count": 10,
   "id": "fe4142bd",
   "metadata": {},
   "outputs": [
    {
     "name": "stdout",
     "output_type": "stream",
     "text": [
      "\u001b[41m1111  {\n",
      "    \"pos\": \"tensor[1, 29751, 3] n=89253 (0.3Mb) x∈[-1.912, 5.612] μ=0.942 σ=1.797\",\n",
      "    \"x\": \"tensor[1, 29751, 3] n=89253 (0.3Mb) x∈[-8.267, 2.856] μ=-2.607 σ=3.111\",\n",
      "    \"y\": \"tensor[1, 29751] i64 0.2Mb x∈[0, 1] μ=0.137 σ=0.344\",\n",
      "    \"heights\": \"tensor[1, 29751, 1] 0.1Mb x∈[0., 5.612] μ=2.827 σ=1.612\"\n",
      "}\u001b[0m\n"
     ]
    }
   ],
   "source": [
    "for idx, data in enumerate(val_loader):\n",
    "    break\n",
    "\n",
    "import jhutil; jhutil.jhprint(1111, data)"
   ]
  },
  {
   "attachments": {},
   "cell_type": "markdown",
   "id": "d5f90d50-dbb7-4dfa-823f-0e4e93b9ee6b",
   "metadata": {},
   "source": [
    "## RUN !!!"
   ]
  },
  {
   "cell_type": "code",
   "execution_count": 11,
   "id": "3811c6ee",
   "metadata": {},
   "outputs": [
    {
     "data": {
      "text/plain": [
       "{'pos': tensor[53, 3] n=159 x∈[-0.091, 0.429] μ=0.092 σ=0.150,\n",
       " 'x': tensor[53, 3] n=159 x∈[-7.436, 2.107] μ=-2.051 σ=3.078,\n",
       " 'y': tensor[53] i64 x∈[1, 1] μ=1.000 σ=0.,\n",
       " 'heights': tensor[53, 1] x∈[0.002, 0.431] μ=0.279 σ=0.117}"
      ]
     },
     "execution_count": 11,
     "metadata": {},
     "output_type": "execute_result"
    }
   ],
   "source": [
    "val_loader.dataset[5041]"
   ]
  },
  {
   "cell_type": "code",
   "execution_count": 13,
   "metadata": {},
   "outputs": [
    {
     "data": {
      "text/plain": [
       "(2, None)"
      ]
     },
     "execution_count": 13,
     "metadata": {},
     "output_type": "execute_result"
    }
   ],
   "source": [
    "cfg.num_classes, cfg.ignore_index"
   ]
  },
  {
   "cell_type": "code",
   "execution_count": 17,
   "id": "b0784fd0-8fa1-4dca-9cdc-1c8e7aa2e2a6",
   "metadata": {
    "tags": []
   },
   "outputs": [
    {
     "name": "stdout",
     "output_type": "stream",
     "text": [
      "\u001b[41m1111  \"2\" \"0\"\u001b[0m\n"
     ]
    },
    {
     "ename": "AttributeError",
     "evalue": "'int' object has no attribute 'diag'",
     "output_type": "error",
     "traceback": [
      "\u001b[0;31m---------------------------------------------------------------------------\u001b[0m",
      "\u001b[0;31mAttributeError\u001b[0m                            Traceback (most recent call last)",
      "Cell \u001b[0;32mIn[17], line 5\u001b[0m\n\u001b[1;32m      2\u001b[0m cm \u001b[39m=\u001b[39m ConfusionMatrix(num_classes\u001b[39m=\u001b[39mcfg\u001b[39m.\u001b[39mnum_classes, ignore_index\u001b[39m=\u001b[39mcfg\u001b[39m.\u001b[39mignore_index)\n\u001b[1;32m      4\u001b[0m \u001b[39mimport\u001b[39;00m \u001b[39mjhutil\u001b[39;00m; jhutil\u001b[39m.\u001b[39mjhprint(\u001b[39m1111\u001b[39m, cm\u001b[39m.\u001b[39mvirtual_num_classes, cm\u001b[39m.\u001b[39mvalue)\n\u001b[0;32m----> 5\u001b[0m tp \u001b[39m=\u001b[39m cm\u001b[39m.\u001b[39;49mtp\n\u001b[1;32m      6\u001b[0m union \u001b[39m=\u001b[39m cm\u001b[39m.\u001b[39munion\n\u001b[1;32m      7\u001b[0m count \u001b[39m=\u001b[39m cm\u001b[39m.\u001b[39mcount\n",
      "File \u001b[0;32m/data/wlsgur4011/part_assembly/src/pointnext/openpoints/utils/metrics.py:82\u001b[0m, in \u001b[0;36mConfusionMatrix.tp\u001b[0;34m(self)\u001b[0m\n\u001b[1;32m     79\u001b[0m \u001b[39m@property\u001b[39m\n\u001b[1;32m     80\u001b[0m \u001b[39mdef\u001b[39;00m \u001b[39mtp\u001b[39m(\u001b[39mself\u001b[39m):\n\u001b[1;32m     81\u001b[0m \u001b[39m    \u001b[39m\u001b[39m\"\"\"Get the true positive samples per-class.\"\"\"\u001b[39;00m\n\u001b[0;32m---> 82\u001b[0m     \u001b[39mreturn\u001b[39;00m \u001b[39mself\u001b[39;49m\u001b[39m.\u001b[39;49mvalue\u001b[39m.\u001b[39;49mdiag()\n",
      "\u001b[0;31mAttributeError\u001b[0m: 'int' object has no attribute 'diag'"
     ]
    }
   ],
   "source": [
    "model.eval()  # set model to eval mode\n",
    "cm = ConfusionMatrix(num_classes=cfg.num_classes, ignore_index=cfg.ignore_index)\n",
    "\n",
    "import jhutil; jhutil.jhprint(1111, cm.virtual_num_classes, cm.value)\n",
    "pbar = tqdm(enumerate(val_loader), total=val_loader.__len__(), desc='Val')\n",
    "for idx, data in pbar:\n",
    "    keys = data.keys() if callable(data.keys) else data.keys\n",
    "    for key in keys:\n",
    "        data[key] = data[key].cuda(non_blocking=True)\n",
    "    target = data['y'].squeeze(-1)\n",
    "    if len(target) < 256:\n",
    "        continue\n",
    "    x = data['x']\n",
    "    data['x'] = get_features_by_keys(data, cfg.feature_keys)\n",
    "    \n",
    "\n",
    "    # import jhutil; jhutil.jhprint(1111, data)\n",
    "    logits = model(data)\n",
    "\n",
    "    # import jhutil; jhutil.jhprint(2222, logits)\n",
    "    # import jhutil; jhutil.jhprint(3333, target)\n",
    "    \n",
    "    # break\n",
    "    "
   ]
  },
  {
   "cell_type": "code",
   "execution_count": 21,
   "id": "17e5918f",
   "metadata": {},
   "outputs": [
    {
     "name": "stderr",
     "output_type": "stream",
     "text": [
      "Val:   0%|          | 0/17686 [00:00<?, ?it/s]\n"
     ]
    }
   ],
   "source": [
    "\n",
    "cm = ConfusionMatrix(num_classes=cfg.num_classes, ignore_index=cfg.ignore_index)\n",
    "pbar = tqdm(enumerate(val_loader), total=val_loader.__len__(), desc='Val')\n",
    "for idx, data in pbar:\n",
    "    keys = data.keys() if callable(data.keys) else data.keys\n",
    "    for key in keys:\n",
    "        data[key] = data[key].cuda(non_blocking=True)\n",
    "    target = data['y'].squeeze(-1)\n",
    "    # if len(target) < 256:\n",
    "    #     continue\n",
    "    data['x'] = get_features_by_keys(data, cfg.feature_keys)\n",
    "    logits = model(data)\n",
    "    if 'mask' not in cfg.criterion_args.NAME or cfg.get('use_maks', False):\n",
    "        cm.update(logits.argmax(dim=1), target)\n",
    "    else:\n",
    "        mask = data['mask'].bool()\n",
    "        cm.update(logits.argmax(dim=1)[mask], target[mask])\n",
    "    break\n"
   ]
  },
  {
   "cell_type": "code",
   "execution_count": 22,
   "id": "5a1b9062",
   "metadata": {},
   "outputs": [
    {
     "data": {
      "text/plain": [
       "tensor[2] i64 μ=1.488e+04 σ=1.527e+04 cuda:0 [25672, 4079]"
      ]
     },
     "execution_count": 22,
     "metadata": {},
     "output_type": "execute_result"
    }
   ],
   "source": [
    "cm.tp\n",
    "cm.union\n",
    "cm.count"
   ]
  },
  {
   "cell_type": "code",
   "execution_count": null,
   "id": "f8ddeef3-715d-48b2-b1b5-39103e43d513",
   "metadata": {},
   "outputs": [],
   "source": [
    "# x = data['x'][0].transpose(0, 1)[:, :3].cpu()\n",
    "\n",
    "show_point_clouds(data[\"pos\"].cpu())"
   ]
  },
  {
   "cell_type": "code",
   "execution_count": null,
   "id": "4b3cc443-fa47-4302-8ed7-90d312d29b45",
   "metadata": {},
   "outputs": [],
   "source": [
    "print(1111)"
   ]
  },
  {
   "cell_type": "code",
   "execution_count": null,
   "id": "4df3f1c6-4152-451a-8095-9cb729fa67be",
   "metadata": {},
   "outputs": [],
   "source": []
  },
  {
   "cell_type": "code",
   "execution_count": null,
   "id": "b7675496-d4b1-4c95-b312-5550477f8bcb",
   "metadata": {},
   "outputs": [],
   "source": []
  },
  {
   "cell_type": "code",
   "execution_count": null,
   "id": "2ee8c850-df35-4f8d-a69c-ec478b9f9a59",
   "metadata": {},
   "outputs": [],
   "source": []
  },
  {
   "cell_type": "code",
   "execution_count": null,
   "id": "4829dc6b-ea57-4a59-a1cb-b4e83935893c",
   "metadata": {},
   "outputs": [],
   "source": []
  },
  {
   "cell_type": "markdown",
   "id": "c9c4a5cb",
   "metadata": {},
   "source": [
    "# 1. ShapeNet Part Segmentation"
   ]
  },
  {
   "cell_type": "markdown",
   "id": "173bb75e",
   "metadata": {},
   "source": [
    "### import and config"
   ]
  },
  {
   "cell_type": "code",
   "execution_count": null,
   "id": "b6aa6dfe",
   "metadata": {},
   "outputs": [],
   "source": [
    "import argparse\n",
    "import yaml\n",
    "import os\n",
    "import sys\n",
    "import logging\n",
    "import wandb\n",
    "from tqdm import tqdm\n",
    "import torch\n",
    "import torch.nn as nn\n",
    "from torch import distributed as dist, multiprocessing as mp\n",
    "from torch.utils.tensorboard import SummaryWriter\n",
    "from torch_scatter import scatter\n",
    "import torch.nn.functional as F\n",
    "import warnings\n",
    "import numpy as np\n",
    "from sklearn.metrics import confusion_matrix\n",
    "from collections import defaultdict, Counter\n",
    "\n",
    "torch.backends.cudnn.benchmark = False\n",
    "warnings.simplefilter(action='ignore', category=FutureWarning)\n",
    "sys.path.insert(0, \"/data/wlsgur4011/part_assembly/src/pointnext/examples\")\n",
    "\n",
    "from openpoints.models import build_model_from_cfg\n",
    "from openpoints.models.layers import torch_grouping_operation, knn_point\n",
    "from openpoints.loss import build_criterion_from_cfg\n",
    "from openpoints.scheduler import build_scheduler_from_cfg\n",
    "from openpoints.optim import build_optimizer_from_cfg\n",
    "from openpoints.dataset import build_dataloader_from_cfg, get_class_weights, get_features_by_keys\n",
    "from openpoints.transforms import build_transforms_from_cfg\n",
    "from openpoints.utils import AverageMeter, ConfusionMatrix\n",
    "from openpoints.utils import set_random_seed, save_checkpoint, load_checkpoint, resume_checkpoint, setup_logger_dist, \\\n",
    "    cal_model_parm_nums, Wandb, generate_exp_directory, resume_exp_directory, EasyConfig, dist_utils, find_free_port\n",
    "from openpoints.models.layers import furthest_point_sample\n",
    "\n"
   ]
  },
  {
   "cell_type": "code",
   "execution_count": null,
   "id": "0d017df1",
   "metadata": {},
   "outputs": [],
   "source": [
    "import sys\n",
    "sys.argv = [\"examples/segmentation/main.py\" ,\"--cfg\" ,\"cfgs/shapenetpart/pointnext-s.yaml\"]"
   ]
  },
  {
   "cell_type": "code",
   "execution_count": null,
   "id": "5d6cc397",
   "metadata": {},
   "outputs": [],
   "source": [
    "def get_config():\n",
    "    parser = argparse.ArgumentParser('ShapeNetPart Part segmentation training')\n",
    "    parser.add_argument('--cfg', type=str, required=True, help='config file')\n",
    "    args, opts = parser.parse_known_args()\n",
    "    cfg = EasyConfig()\n",
    "    cfg.load(args.cfg, recursive=True)\n",
    "    cfg.update(opts)\n",
    "    if cfg.seed is None:\n",
    "        cfg.seed = np.random.randint(1, 10000)\n",
    "    # init distributed env first, since logger depends on the dist info.\n",
    "    cfg.rank, cfg.world_size, cfg.distributed, cfg.mp = dist_utils.get_dist_info(cfg)\n",
    "    cfg.sync_bn = cfg.world_size > 1\n",
    "\n",
    "    # logger\n",
    "    # init log dir\n",
    "    cfg.task_name = args.cfg.split('.')[-2].split('/')[-2]  # task/dataset name, \\eg s3dis, modelnet40_cls\n",
    "    cfg.cfg_basename = args.cfg.split('.')[-2].split('/')[-1]  # cfg_basename, \\eg pointnext-xl\n",
    "    tags = [\n",
    "        cfg.task_name,  # task name (the folder of name under ./cfgs\n",
    "        cfg.mode,\n",
    "        cfg.cfg_basename,  # cfg file name\n",
    "        f'ngpus{cfg.world_size}',\n",
    "        f'seed{cfg.seed}',\n",
    "    ]\n",
    "    opt_list = [] # for checking experiment configs from logging file\n",
    "    for i, opt in enumerate(opts):\n",
    "        if 'rank' not in opt and 'dir' not in opt and 'root' not in opt and 'pretrain' not in opt and 'path' not in opt and 'wandb' not in opt and '/' not in opt:\n",
    "            opt_list.append(opt)\n",
    "    cfg.root_dir = os.path.join(cfg.root_dir, cfg.task_name)\n",
    "    cfg.opts = '-'.join(opt_list)\n",
    "\n",
    "    cfg.is_training = cfg.mode not in ['test', 'testing', 'val', 'eval', 'evaluation']\n",
    "\n",
    "    if cfg.mode in ['resume', 'test', 'val']:\n",
    "        resume_exp_directory(cfg, pretrained_path=cfg.pretrained_path)\n",
    "        cfg.wandb.tags = [cfg.mode]\n",
    "    else:\n",
    "        generate_exp_directory(cfg, tags, additional_id=os.environ.get('MASTER_PORT', None))\n",
    "        cfg.wandb.tags = tags\n",
    "    os.environ[\"JOB_LOG_DIR\"] = cfg.log_dir\n",
    "    cfg_path = os.path.join(cfg.run_dir, \"cfg.yaml\")\n",
    "    with open(cfg_path, 'w') as f:\n",
    "        yaml.dump(cfg, f, indent=2)\n",
    "        os.system('cp %s %s' % (args.cfg, cfg.run_dir))\n",
    "    cfg.cfg_path = cfg_path\n",
    "    return cfg\n",
    "\n",
    "cfg = get_config()"
   ]
  },
  {
   "cell_type": "markdown",
   "id": "c5f42532",
   "metadata": {},
   "source": [
    "### dataloader and model"
   ]
  },
  {
   "cell_type": "code",
   "execution_count": null,
   "id": "c8d88f9b",
   "metadata": {},
   "outputs": [],
   "source": [
    "\n",
    "val_loader = build_dataloader_from_cfg(cfg.batch_size,\n",
    "                                       cfg.dataset,\n",
    "                                       cfg.dataloader,\n",
    "                                       datatransforms_cfg=cfg.datatransforms,\n",
    "                                       split='val',\n",
    "                                       distributed=False\n",
    "                                       )\n",
    "logging.info(f\"length of validation dataset: {len(val_loader.dataset)}\")\n",
    "num_classes = val_loader.dataset.num_classes if hasattr(\n",
    "    val_loader.dataset, 'num_classes') else None\n",
    "if num_classes is not None:\n",
    "    assert cfg.num_classes == num_classes\n",
    "\n",
    "cfg.cls2parts = val_loader.dataset.cls2parts\n",
    "\n",
    "if cfg.model.get('decoder_args', False):\n",
    "    cfg.model.decoder_args.cls2partembed = val_loader.dataset.cls2partembed\n",
    "if cfg.model.get('in_channels', None) is None:\n",
    "    cfg.model.in_channels = cfg.model.encoder_args.in_channels\n",
    "    \n",
    "model = build_model_from_cfg(cfg.model).cuda()"
   ]
  },
  {
   "cell_type": "code",
   "execution_count": null,
   "id": "e54fa9e2",
   "metadata": {},
   "outputs": [],
   "source": [
    "train_loader = build_dataloader_from_cfg(cfg.batch_size,\n",
    "                                         cfg.dataset,\n",
    "                                         cfg.dataloader,\n",
    "                                         datatransforms_cfg=cfg.datatransforms,\n",
    "                                         split='train',\n",
    "                                         distributed=False,\n",
    "                                         )\n",
    "len(train_loader.dataset)"
   ]
  },
  {
   "cell_type": "markdown",
   "id": "92947354",
   "metadata": {},
   "source": [
    "### RUN!!! "
   ]
  },
  {
   "cell_type": "code",
   "execution_count": null,
   "id": "b7f6792d",
   "metadata": {},
   "outputs": [],
   "source": [
    "\n",
    "from openpoints.dataset import get_features_by_keys\n",
    "from openpoints.loss import build_criterion_from_cfg\n"
   ]
  },
  {
   "cell_type": "code",
   "execution_count": null,
   "id": "f498a0ae",
   "metadata": {},
   "outputs": [],
   "source": [
    "criterion = build_criterion_from_cfg(cfg.criterion_args).cuda()\n",
    "for data in train_loader:\n",
    "    import jhutil; jhutil.jhprint(1000, data)\n",
    "    batch_size, num_point, _ = data['pos'].size()\n",
    "    for key in data.keys():\n",
    "        data[key] = data[key].cuda(non_blocking=True)\n",
    "    target = data['y']\n",
    "    data['x'] = get_features_by_keys(data, cfg.feature_keys)\n",
    "    import jhutil; jhutil.jhprint(1111, data['x'])\n",
    "    import jhutil; jhutil.jhprint(1222, data['y'])\n",
    "\n",
    "    logits = model(data)\n",
    "    import jhutil; jhutil.jhprint(2222, logits)\n",
    "    if cfg.criterion_args.NAME != 'MultiShapeCrossEntropy':\n",
    "        loss = criterion(logits, target)\n",
    "        import jhutil; jhutil.jhprint(3111, )\n",
    "    else:\n",
    "        loss = criterion(logits, target, data['cls'])\n",
    "        import jhutil; jhutil.jhprint(3222, )\n",
    "    import jhutil; jhutil.jhprint(3333, loss)\n",
    "    \n",
    "    break"
   ]
  },
  {
   "cell_type": "code",
   "execution_count": null,
   "id": "d332efdc",
   "metadata": {},
   "outputs": [],
   "source": [
    "\n",
    "import jhutil; jhutil.jhprint(1111, data['x'][0, :,::200].v) # continuous한 feature\n",
    "import jhutil; jhutil.jhprint(1222, data['y'][0, ::200].v)   # label 값"
   ]
  },
  {
   "cell_type": "code",
   "execution_count": null,
   "id": "5af37dd9",
   "metadata": {},
   "outputs": [],
   "source": [
    "import jhutil; jhutil.jhprint(6666, \"feature_keys:\", cfg.feature_keys) # 그냥  coordinate 이외에 다른 값들을 주나 봄"
   ]
  },
  {
   "cell_type": "code",
   "execution_count": null,
   "id": "7626466c",
   "metadata": {},
   "outputs": [],
   "source": [
    "x = data['x'][0].transpose(0, 1)[:, 3:6].cpu()\n",
    "pos = data['pos'][0].cpu()"
   ]
  },
  {
   "cell_type": "code",
   "execution_count": null,
   "id": "6fc8fa5b",
   "metadata": {},
   "outputs": [],
   "source": [
    "show_point_clouds([x, pos])"
   ]
  },
  {
   "cell_type": "code",
   "execution_count": null,
   "id": "5a62f7fe",
   "metadata": {},
   "outputs": [],
   "source": []
  },
  {
   "cell_type": "code",
   "execution_count": null,
   "id": "c2a7603b",
   "metadata": {},
   "outputs": [],
   "source": []
  },
  {
   "cell_type": "code",
   "execution_count": null,
   "id": "aa8e8f78",
   "metadata": {},
   "outputs": [],
   "source": []
  },
  {
   "cell_type": "code",
   "execution_count": null,
   "id": "df1cfa51",
   "metadata": {},
   "outputs": [],
   "source": []
  },
  {
   "cell_type": "code",
   "execution_count": null,
   "id": "450b14e0",
   "metadata": {},
   "outputs": [],
   "source": []
  },
  {
   "cell_type": "code",
   "execution_count": null,
   "id": "a610fc32",
   "metadata": {},
   "outputs": [],
   "source": []
  },
  {
   "cell_type": "code",
   "execution_count": null,
   "id": "8ba68f02",
   "metadata": {},
   "outputs": [],
   "source": []
  },
  {
   "cell_type": "code",
   "execution_count": null,
   "id": "cab00e1f",
   "metadata": {},
   "outputs": [],
   "source": []
  },
  {
   "cell_type": "code",
   "execution_count": null,
   "id": "85447092",
   "metadata": {},
   "outputs": [],
   "source": []
  },
  {
   "cell_type": "code",
   "execution_count": null,
   "id": "1f89694c",
   "metadata": {},
   "outputs": [],
   "source": []
  },
  {
   "cell_type": "code",
   "execution_count": null,
   "id": "77fee873",
   "metadata": {},
   "outputs": [],
   "source": []
  },
  {
   "cell_type": "code",
   "execution_count": null,
   "id": "368f0c9d",
   "metadata": {},
   "outputs": [],
   "source": []
  },
  {
   "cell_type": "code",
   "execution_count": null,
   "id": "f78f9585",
   "metadata": {},
   "outputs": [],
   "source": []
  },
  {
   "cell_type": "code",
   "execution_count": null,
   "id": "8ed03c05",
   "metadata": {},
   "outputs": [],
   "source": []
  },
  {
   "cell_type": "code",
   "execution_count": null,
   "id": "91d4605f",
   "metadata": {},
   "outputs": [],
   "source": []
  },
  {
   "cell_type": "code",
   "execution_count": null,
   "id": "bf1fc03e",
   "metadata": {},
   "outputs": [],
   "source": []
  },
  {
   "cell_type": "code",
   "execution_count": null,
   "id": "fda34040-de4d-4f27-bcc4-bfe191df82c2",
   "metadata": {},
   "outputs": [],
   "source": []
  },
  {
   "cell_type": "code",
   "execution_count": null,
   "id": "852ffe73-3390-4383-b60d-4dc9c702d3a5",
   "metadata": {},
   "outputs": [],
   "source": []
  },
  {
   "cell_type": "code",
   "execution_count": null,
   "id": "b729bce0-480e-4ddb-b7da-3df79462dde4",
   "metadata": {},
   "outputs": [],
   "source": []
  },
  {
   "cell_type": "code",
   "execution_count": null,
   "id": "3d1b7d96-8829-4dfe-a42c-79fd5300e217",
   "metadata": {},
   "outputs": [],
   "source": []
  },
  {
   "cell_type": "code",
   "execution_count": null,
   "id": "c56e88ab-7409-45dd-b79e-6639972d389e",
   "metadata": {},
   "outputs": [],
   "source": []
  },
  {
   "cell_type": "code",
   "execution_count": null,
   "id": "c48c0ebc-dcea-468e-84be-3b8a32ed0466",
   "metadata": {},
   "outputs": [],
   "source": []
  },
  {
   "cell_type": "code",
   "execution_count": null,
   "id": "969a7452-483c-49cf-be56-e8d80f3fb7f9",
   "metadata": {},
   "outputs": [],
   "source": []
  },
  {
   "cell_type": "code",
   "execution_count": null,
   "id": "99f67d95-5eca-4680-8b9e-0044d6fcbc29",
   "metadata": {},
   "outputs": [],
   "source": []
  },
  {
   "cell_type": "code",
   "execution_count": null,
   "id": "c109ee53-4c4b-4f70-8636-9adac9cbeed6",
   "metadata": {},
   "outputs": [],
   "source": []
  },
  {
   "cell_type": "code",
   "execution_count": null,
   "id": "83101682-c2b5-4933-83ec-3fbd6f6462a4",
   "metadata": {},
   "outputs": [],
   "source": []
  },
  {
   "cell_type": "code",
   "execution_count": null,
   "id": "44556b4a-f919-438e-8dc9-774bd1582703",
   "metadata": {},
   "outputs": [],
   "source": []
  },
  {
   "cell_type": "code",
   "execution_count": null,
   "id": "558ce0fc-4215-473b-b1e5-f2707e6a21df",
   "metadata": {},
   "outputs": [],
   "source": []
  },
  {
   "cell_type": "code",
   "execution_count": null,
   "id": "741d5748-6f83-4bbe-8eb2-dcca7142f3c7",
   "metadata": {},
   "outputs": [],
   "source": []
  },
  {
   "cell_type": "code",
   "execution_count": null,
   "id": "00cc95a4-e610-4ff9-be8a-9f5cd0e14868",
   "metadata": {},
   "outputs": [],
   "source": []
  },
  {
   "cell_type": "code",
   "execution_count": null,
   "id": "91f23135-6dfb-4aac-a8da-429f87210086",
   "metadata": {},
   "outputs": [],
   "source": []
  },
  {
   "cell_type": "code",
   "execution_count": null,
   "id": "7ad8ebf5-67a4-43fa-86e6-93b582e44034",
   "metadata": {},
   "outputs": [],
   "source": []
  },
  {
   "cell_type": "code",
   "execution_count": null,
   "id": "2b6bb638-2224-4d98-b7a2-2c1eab109f83",
   "metadata": {},
   "outputs": [],
   "source": []
  },
  {
   "cell_type": "code",
   "execution_count": null,
   "id": "01671248-fa6e-4bf8-85d3-ee4edddfe47c",
   "metadata": {},
   "outputs": [],
   "source": []
  },
  {
   "cell_type": "code",
   "execution_count": null,
   "id": "56ec0e98-31b6-4c44-aa6b-6ca08bdec823",
   "metadata": {},
   "outputs": [],
   "source": []
  },
  {
   "cell_type": "code",
   "execution_count": null,
   "id": "9aa94cf3-b142-4d93-a9d3-6dce6952f472",
   "metadata": {},
   "outputs": [],
   "source": []
  },
  {
   "cell_type": "code",
   "execution_count": null,
   "id": "20708cc1-91c3-4e1e-9c2e-03aed6f1eeb3",
   "metadata": {},
   "outputs": [],
   "source": []
  },
  {
   "cell_type": "code",
   "execution_count": null,
   "id": "2035c67d-dbe8-4887-90fc-8ee0d464a9d4",
   "metadata": {},
   "outputs": [],
   "source": []
  },
  {
   "cell_type": "code",
   "execution_count": null,
   "id": "420bd25e-63d6-4dc8-bc67-c8f0841b084d",
   "metadata": {},
   "outputs": [],
   "source": []
  },
  {
   "cell_type": "code",
   "execution_count": null,
   "id": "103c4ef8-0973-4420-bf7e-d466afb1e154",
   "metadata": {},
   "outputs": [],
   "source": []
  },
  {
   "cell_type": "code",
   "execution_count": null,
   "id": "c04dde09-e3d4-4c49-88cc-59611b0f5819",
   "metadata": {},
   "outputs": [],
   "source": []
  },
  {
   "cell_type": "code",
   "execution_count": null,
   "id": "06e2ab28-fef0-4c80-9749-41de23e9e34e",
   "metadata": {},
   "outputs": [],
   "source": []
  },
  {
   "cell_type": "code",
   "execution_count": null,
   "id": "bbf33885-849b-4002-a362-b510691206cc",
   "metadata": {},
   "outputs": [],
   "source": []
  },
  {
   "cell_type": "code",
   "execution_count": null,
   "id": "5813ceea-c90f-4ca9-88f8-e16df8a4fe5d",
   "metadata": {},
   "outputs": [],
   "source": []
  },
  {
   "cell_type": "code",
   "execution_count": null,
   "id": "5a4db016-6073-4781-9da1-71d09d2b27d4",
   "metadata": {},
   "outputs": [],
   "source": []
  },
  {
   "cell_type": "code",
   "execution_count": null,
   "id": "2197fc77-7d27-429e-9857-168424a338c9",
   "metadata": {},
   "outputs": [],
   "source": []
  },
  {
   "cell_type": "code",
   "execution_count": null,
   "id": "fb2eb8da-6698-43c3-9ce4-37b1bebdc608",
   "metadata": {},
   "outputs": [],
   "source": []
  },
  {
   "cell_type": "code",
   "execution_count": null,
   "id": "0b3281d6-4b9e-4e69-8786-65ec7f2e6dbb",
   "metadata": {},
   "outputs": [],
   "source": []
  },
  {
   "cell_type": "code",
   "execution_count": null,
   "id": "d84047a7-8291-401a-87d9-63c3127147a2",
   "metadata": {},
   "outputs": [],
   "source": []
  },
  {
   "cell_type": "code",
   "execution_count": null,
   "id": "da8b0193-a7f5-4b52-b0c1-9677b24e0ee1",
   "metadata": {},
   "outputs": [],
   "source": []
  },
  {
   "cell_type": "code",
   "execution_count": null,
   "id": "3594999a-0fd5-4968-851e-cd4d472c08e4",
   "metadata": {},
   "outputs": [],
   "source": []
  },
  {
   "cell_type": "code",
   "execution_count": null,
   "id": "8dba6957-e092-4e0c-a04a-718562688f28",
   "metadata": {},
   "outputs": [],
   "source": []
  },
  {
   "cell_type": "code",
   "execution_count": null,
   "id": "d00530b0-7767-4809-9959-76f3439dc84c",
   "metadata": {},
   "outputs": [],
   "source": []
  },
  {
   "cell_type": "code",
   "execution_count": null,
   "id": "f122dfde-f60f-4300-a21f-c06ba6369dc7",
   "metadata": {},
   "outputs": [],
   "source": []
  },
  {
   "cell_type": "code",
   "execution_count": null,
   "id": "9606aa4f-4285-48aa-847b-b683ecabbeb9",
   "metadata": {},
   "outputs": [],
   "source": []
  },
  {
   "cell_type": "code",
   "execution_count": null,
   "id": "b1ba1c06-4d09-450f-8bb8-3a8f11df11ff",
   "metadata": {},
   "outputs": [],
   "source": []
  },
  {
   "cell_type": "code",
   "execution_count": null,
   "id": "c32fa6e3-8a1e-43a4-b712-c0c940f56682",
   "metadata": {},
   "outputs": [],
   "source": []
  },
  {
   "cell_type": "code",
   "execution_count": null,
   "id": "c7c82cc5-9e35-4ef5-a148-a3e5dbdaeb65",
   "metadata": {},
   "outputs": [],
   "source": []
  },
  {
   "cell_type": "code",
   "execution_count": null,
   "id": "fe77f02a-c460-47a7-a964-6d0c4d5e47cd",
   "metadata": {},
   "outputs": [],
   "source": []
  },
  {
   "cell_type": "code",
   "execution_count": null,
   "id": "0463321d-2496-49c6-952d-ec35d61c5eb1",
   "metadata": {},
   "outputs": [],
   "source": []
  },
  {
   "cell_type": "code",
   "execution_count": null,
   "id": "93c3a39d-e341-42e5-9870-e204f2432020",
   "metadata": {},
   "outputs": [],
   "source": []
  },
  {
   "cell_type": "code",
   "execution_count": null,
   "id": "127f18fe-5b9f-432f-86b3-09a25b76d789",
   "metadata": {},
   "outputs": [],
   "source": []
  },
  {
   "cell_type": "code",
   "execution_count": null,
   "id": "9e0f62da-72cf-4122-a899-830b8ba7438a",
   "metadata": {},
   "outputs": [],
   "source": []
  },
  {
   "cell_type": "code",
   "execution_count": null,
   "id": "afe4ed95-332e-4ac7-a51a-d6caeae26f0d",
   "metadata": {},
   "outputs": [],
   "source": []
  },
  {
   "cell_type": "code",
   "execution_count": null,
   "id": "39d12deb-dab3-4c88-9701-1f4f1e14574d",
   "metadata": {},
   "outputs": [],
   "source": []
  },
  {
   "cell_type": "code",
   "execution_count": null,
   "id": "2e737b61-a69b-4d83-ba88-a8bb187b5d34",
   "metadata": {},
   "outputs": [],
   "source": []
  },
  {
   "cell_type": "code",
   "execution_count": null,
   "id": "333f2e34-4efb-472c-bd1e-7287f4b56e2a",
   "metadata": {},
   "outputs": [],
   "source": []
  },
  {
   "cell_type": "code",
   "execution_count": null,
   "id": "7db32312-4b73-4a88-b946-5a3e1ef0b7ee",
   "metadata": {},
   "outputs": [],
   "source": []
  },
  {
   "cell_type": "code",
   "execution_count": null,
   "id": "2e7b68f8-98a8-44a2-b2c9-c7a0990995ad",
   "metadata": {},
   "outputs": [],
   "source": []
  },
  {
   "cell_type": "code",
   "execution_count": null,
   "id": "313daa8a-53b0-41cc-addb-f0d0cbc74477",
   "metadata": {},
   "outputs": [],
   "source": []
  },
  {
   "cell_type": "code",
   "execution_count": null,
   "id": "ea9c11bb-bf52-4aae-b63d-5d234f96f3b6",
   "metadata": {},
   "outputs": [],
   "source": []
  },
  {
   "cell_type": "code",
   "execution_count": null,
   "id": "84274efb-093b-4791-8d4c-84d1c97d912d",
   "metadata": {},
   "outputs": [],
   "source": []
  },
  {
   "cell_type": "code",
   "execution_count": null,
   "id": "37dfbf2f-7a33-4b19-8664-879e77472002",
   "metadata": {},
   "outputs": [],
   "source": []
  },
  {
   "cell_type": "code",
   "execution_count": null,
   "id": "a3a8edee-f7e2-4c56-bd86-a724ec464af3",
   "metadata": {},
   "outputs": [],
   "source": []
  },
  {
   "cell_type": "code",
   "execution_count": null,
   "id": "3d92319a-76cc-460e-80d6-6abca2eb8dd7",
   "metadata": {},
   "outputs": [],
   "source": []
  },
  {
   "cell_type": "code",
   "execution_count": null,
   "id": "c8c7f3c1-dcad-4c50-b2a9-98b6bb4bd6c1",
   "metadata": {},
   "outputs": [],
   "source": []
  },
  {
   "cell_type": "code",
   "execution_count": null,
   "id": "7939e305-cd83-4ad0-95ec-f1baa09c9e1c",
   "metadata": {},
   "outputs": [],
   "source": []
  },
  {
   "cell_type": "code",
   "execution_count": null,
   "id": "c80df8f9-afd2-49af-b45e-633835fab57b",
   "metadata": {},
   "outputs": [],
   "source": []
  },
  {
   "cell_type": "code",
   "execution_count": null,
   "id": "c5814203-92b5-4e0b-b635-bf6adb819def",
   "metadata": {},
   "outputs": [],
   "source": []
  },
  {
   "cell_type": "code",
   "execution_count": null,
   "id": "170adeb8-9a3c-44bb-a462-e11041b56d77",
   "metadata": {},
   "outputs": [],
   "source": []
  },
  {
   "cell_type": "code",
   "execution_count": null,
   "id": "ec64cb82-25ef-4b41-bf99-69c645132e4d",
   "metadata": {},
   "outputs": [],
   "source": []
  },
  {
   "cell_type": "code",
   "execution_count": null,
   "id": "c09b0f35-854b-4f38-b2f4-837cc51a15d0",
   "metadata": {},
   "outputs": [],
   "source": []
  },
  {
   "cell_type": "code",
   "execution_count": null,
   "id": "61c43ef9-7c08-4ccd-abf0-9793d12eda40",
   "metadata": {},
   "outputs": [],
   "source": []
  },
  {
   "cell_type": "code",
   "execution_count": null,
   "id": "cf566a77-dbbe-43a0-a57d-ecbca613f77a",
   "metadata": {},
   "outputs": [],
   "source": []
  },
  {
   "cell_type": "code",
   "execution_count": null,
   "id": "6dc92c2d-c0b0-45fa-8a17-a92ad97c4992",
   "metadata": {},
   "outputs": [],
   "source": []
  },
  {
   "cell_type": "code",
   "execution_count": null,
   "id": "e392569f-211f-4775-9486-27e255db3e63",
   "metadata": {},
   "outputs": [],
   "source": []
  },
  {
   "cell_type": "code",
   "execution_count": null,
   "id": "5b2dfcb6-b245-415e-8ab9-ee2b85df6150",
   "metadata": {},
   "outputs": [],
   "source": []
  },
  {
   "cell_type": "code",
   "execution_count": null,
   "id": "14b9b0f1-c33e-4019-9000-6cf92fe2f218",
   "metadata": {},
   "outputs": [],
   "source": []
  },
  {
   "cell_type": "code",
   "execution_count": null,
   "id": "55d1c7d5-e11f-44c9-b2c6-8593ac3cc5e0",
   "metadata": {},
   "outputs": [],
   "source": []
  },
  {
   "cell_type": "code",
   "execution_count": null,
   "id": "29baf1eb-4128-497c-9645-211b024a6c7e",
   "metadata": {},
   "outputs": [],
   "source": []
  }
 ],
 "metadata": {
  "kernelspec": {
   "display_name": "Python 3 (ipykernel)",
   "language": "python",
   "name": "python3"
  },
  "language_info": {
   "codemirror_mode": {
    "name": "ipython",
    "version": 3
   },
   "file_extension": ".py",
   "mimetype": "text/x-python",
   "name": "python",
   "nbconvert_exporter": "python",
   "pygments_lexer": "ipython3",
   "version": "3.8.16"
  }
 },
 "nbformat": 4,
 "nbformat_minor": 5
}
