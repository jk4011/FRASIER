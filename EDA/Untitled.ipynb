{
 "cells": [
  {
   "cell_type": "code",
   "execution_count": 1,
   "id": "151fdc18-335f-4938-8322-eb26b8187e06",
   "metadata": {
    "tags": []
   },
   "outputs": [],
   "source": [
    "import geotransformer"
   ]
  },
  {
   "cell_type": "code",
   "execution_count": 2,
   "id": "a1c4f9b4-b3e7-4e8b-8c9f-54c450d807f5",
   "metadata": {
    "tags": []
   },
   "outputs": [],
   "source": [
    "import multi_part_assembly"
   ]
  },
  {
   "cell_type": "code",
   "execution_count": 3,
   "id": "755393e2-aa91-436a-ad50-0de3bd6f3f7a",
   "metadata": {
    "tags": []
   },
   "outputs": [],
   "source": [
    "import shape_assembly"
   ]
  },
  {
   "cell_type": "code",
   "execution_count": 4,
   "id": "d6dd9427-38af-487b-a3a3-6538ceb1b98f",
   "metadata": {
    "tags": []
   },
   "outputs": [],
   "source": [
    "import jhutil\n",
    "import yaml\n",
    "import torch"
   ]
  },
  {
   "cell_type": "code",
   "execution_count": 5,
   "id": "c10cd5cf-37b5-43ef-9ada-0928e83eafb1",
   "metadata": {},
   "outputs": [],
   "source": [
    "torch.multiprocessing.set_start_method('spawn')"
   ]
  },
  {
   "cell_type": "code",
   "execution_count": 6,
   "id": "d1cc5afe-1140-4678-b902-218976df8d2e",
   "metadata": {
    "tags": []
   },
   "outputs": [],
   "source": [
    "from multi_part_assembly.datasets.geometry_data import build_geometry_dataset, build_geometry_dataloader\n",
    "from multi_part_assembly.datasets.geometry_data import GeometryPartDataset as BreakingBadDataset\n",
    "import jhutil\n",
    "import torch\n",
    "from torch.utils.data import Dataset, DataLoader\n",
    "import torch"
   ]
  },
  {
   "cell_type": "code",
   "execution_count": 7,
   "id": "997e632c-e5c4-4cee-947c-db5a8e4ea6d7",
   "metadata": {
    "tags": []
   },
   "outputs": [],
   "source": [
    "cfg = jhutil.load_yaml(\"../yamls/data_example.yaml\")"
   ]
  },
  {
   "cell_type": "code",
   "execution_count": 8,
   "id": "4b61c4ea-8334-4908-a5e1-d397e027254b",
   "metadata": {
    "tags": []
   },
   "outputs": [],
   "source": [
    "train_data, val_data = build_geometry_dataset(cfg)"
   ]
  },
  {
   "cell_type": "code",
   "execution_count": 9,
   "id": "a2af00f0-71eb-4b6b-ae68-be488a539a71",
   "metadata": {
    "tags": []
   },
   "outputs": [
    {
     "name": "stdout",
     "output_type": "stream",
     "text": [
      "\u001b[47m0000  \"artifact/653931_sf/mode_16\"\u001b[0m\n"
     ]
    }
   ],
   "source": [
    "tmp = train_data.get_original_pcs(216)"
   ]
  },
  {
   "cell_type": "code",
   "execution_count": 10,
   "id": "c0c9140a-9363-40bc-9aaa-8b549cc1cddc",
   "metadata": {
    "tags": []
   },
   "outputs": [
    {
     "name": "stdout",
     "output_type": "stream",
     "text": [
      "\u001b[41m1111  \"[tensor[36559, 3] n=109677 (0.4Mb) x∈[-0.500, 0.500] μ=-0.050 σ=0.204, tensor[9272, 3] n=27816 (0.1Mb) x∈[-0.147, 0.165] μ=0.008 σ=0.075, tensor[1707, 3] n=5121 (20Kb) x∈[-0.060, 0.251] μ=0.094 σ=0.080, tensor[1955, 3] n=5865 (23Kb) x∈[-0.098, 0.251] μ=0.042 σ=0.115, tensor[505, 3] n=1515 (5.9Kb) x∈[-0.097, 0.251] μ=0.061 σ=0.106, tensor[0, 3] n=0 \\u001b[38;2;127;127;127mempty\\u001b[0m]\"\u001b[0m\n"
     ]
    }
   ],
   "source": [
    "\n",
    "import jhutil;jhutil.jhprint(1111, tmp)"
   ]
  }
 ],
 "metadata": {
  "kernelspec": {
   "display_name": "Python 3 (ipykernel)",
   "language": "python",
   "name": "python3"
  },
  "language_info": {
   "codemirror_mode": {
    "name": "ipython",
    "version": 3
   },
   "file_extension": ".py",
   "mimetype": "text/x-python",
   "name": "python",
   "nbconvert_exporter": "python",
   "pygments_lexer": "ipython3",
   "version": "3.8.16"
  }
 },
 "nbformat": 4,
 "nbformat_minor": 5
}
