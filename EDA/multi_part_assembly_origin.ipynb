{
 "cells": [
  {
   "cell_type": "code",
   "execution_count": null,
   "id": "3a68befd-d1aa-402d-9c0f-57bf5623e322",
   "metadata": {},
   "outputs": [],
   "source": []
  },
  {
   "cell_type": "code",
   "execution_count": null,
   "id": "1538b1ad-d99d-450c-ad04-53a7443e1955",
   "metadata": {},
   "outputs": [],
   "source": []
  },
  {
   "cell_type": "code",
   "execution_count": null,
   "id": "c4d219d8-c301-459b-af39-7905582179d1",
   "metadata": {},
   "outputs": [],
   "source": []
  },
  {
   "cell_type": "code",
   "execution_count": null,
   "id": "80932a59-3923-4fd5-90b2-c43882e6708e",
   "metadata": {},
   "outputs": [],
   "source": []
  },
  {
   "cell_type": "code",
   "execution_count": null,
   "id": "f77f1172-6f27-49c3-9d55-a5896f4c59cf",
   "metadata": {},
   "outputs": [],
   "source": []
  },
  {
   "cell_type": "code",
   "execution_count": null,
   "id": "cca50a0e-1deb-4a93-90b0-a4593b7e4665",
   "metadata": {},
   "outputs": [],
   "source": []
  },
  {
   "cell_type": "code",
   "execution_count": null,
   "id": "9e12b7bf-40fe-4d20-91d2-a1ff2c3b623d",
   "metadata": {},
   "outputs": [],
   "source": []
  },
  {
   "cell_type": "code",
   "execution_count": null,
   "id": "759ac032-7675-480f-8297-c20bb7f431cd",
   "metadata": {},
   "outputs": [],
   "source": []
  },
  {
   "cell_type": "code",
   "execution_count": null,
   "id": "3ec430f7-ffc8-421c-a2b2-25818888f26e",
   "metadata": {},
   "outputs": [],
   "source": []
  },
  {
   "cell_type": "code",
   "execution_count": null,
   "id": "81fa20d7-8b23-41a3-b201-6d4edc1b0b84",
   "metadata": {},
   "outputs": [],
   "source": []
  },
  {
   "cell_type": "code",
   "execution_count": null,
   "id": "07831c3a-65a8-4372-ab38-6c0160923a7b",
   "metadata": {},
   "outputs": [],
   "source": []
  },
  {
   "cell_type": "code",
   "execution_count": null,
   "id": "cbba2b44-47d3-4777-b9bd-a0bfc2ebed5a",
   "metadata": {},
   "outputs": [],
   "source": []
  },
  {
   "cell_type": "code",
   "execution_count": null,
   "id": "087afe6f-866b-4b73-91c8-bd6f851bfbca",
   "metadata": {},
   "outputs": [],
   "source": []
  },
  {
   "cell_type": "code",
   "execution_count": null,
   "id": "92ed13d5-9cfe-4355-a1de-639cecb3129c",
   "metadata": {},
   "outputs": [],
   "source": []
  },
  {
   "cell_type": "code",
   "execution_count": null,
   "id": "962f9bb4-35c6-46ab-a062-927e804b97d4",
   "metadata": {},
   "outputs": [],
   "source": []
  },
  {
   "cell_type": "code",
   "execution_count": null,
   "id": "e26c3781-4d62-4830-8b6e-5f6706f045df",
   "metadata": {},
   "outputs": [],
   "source": []
  },
  {
   "cell_type": "code",
   "execution_count": null,
   "id": "49d645f1-8e80-4c1a-9e04-770d62dadf37",
   "metadata": {},
   "outputs": [],
   "source": []
  },
  {
   "cell_type": "code",
   "execution_count": null,
   "id": "d49e709e-6d14-4de1-a4e6-7213450db6cc",
   "metadata": {},
   "outputs": [],
   "source": []
  },
  {
   "cell_type": "code",
   "execution_count": null,
   "id": "33599c2f-0110-499b-bfcf-8de2d8a98957",
   "metadata": {},
   "outputs": [],
   "source": []
  },
  {
   "cell_type": "code",
   "execution_count": null,
   "id": "58cf49c5-542d-41f4-a678-85a21b0003a0",
   "metadata": {},
   "outputs": [],
   "source": []
  },
  {
   "cell_type": "code",
   "execution_count": null,
   "id": "d1501d7b-b5c1-453e-ae2b-a129ce2c1bb4",
   "metadata": {},
   "outputs": [],
   "source": []
  },
  {
   "cell_type": "code",
   "execution_count": null,
   "id": "d3e1d6f7-acea-4969-a113-f04ac9173968",
   "metadata": {},
   "outputs": [],
   "source": []
  },
  {
   "cell_type": "code",
   "execution_count": null,
   "id": "cd6f3012-ed6d-41bb-8316-1aa9a0b7c48c",
   "metadata": {},
   "outputs": [],
   "source": []
  },
  {
   "cell_type": "code",
   "execution_count": null,
   "id": "575732a8-430a-4831-aeee-4c63fd7437a8",
   "metadata": {},
   "outputs": [],
   "source": []
  },
  {
   "cell_type": "code",
   "execution_count": null,
   "id": "cde9a63f-65fd-4160-baa9-e12f5b75b106",
   "metadata": {},
   "outputs": [],
   "source": []
  },
  {
   "cell_type": "code",
   "execution_count": null,
   "id": "f6c2dc4e-18d1-4d72-a4bf-2dceca172915",
   "metadata": {},
   "outputs": [],
   "source": []
  },
  {
   "cell_type": "code",
   "execution_count": null,
   "id": "037957f6-5afb-40ad-92ba-f2ced40b58e8",
   "metadata": {},
   "outputs": [],
   "source": []
  },
  {
   "cell_type": "code",
   "execution_count": null,
   "id": "03f35190-3600-4025-8042-c191eb79076d",
   "metadata": {},
   "outputs": [],
   "source": []
  },
  {
   "cell_type": "code",
   "execution_count": null,
   "id": "ceae962a-1836-4521-b81f-c11b89099d04",
   "metadata": {},
   "outputs": [],
   "source": []
  },
  {
   "cell_type": "code",
   "execution_count": null,
   "id": "f949078d-f16d-430e-ad27-6a0e0d286d70",
   "metadata": {},
   "outputs": [],
   "source": []
  },
  {
   "cell_type": "code",
   "execution_count": null,
   "id": "7a818fcf-99ea-4d64-b073-0db3089aeb23",
   "metadata": {},
   "outputs": [],
   "source": []
  },
  {
   "cell_type": "code",
   "execution_count": null,
   "id": "2bc5547c-1b56-4f8c-9885-a97e5df42c3b",
   "metadata": {},
   "outputs": [],
   "source": []
  },
  {
   "cell_type": "code",
   "execution_count": null,
   "id": "6c18e066-de4d-49dc-a427-b458fe07fdb8",
   "metadata": {},
   "outputs": [],
   "source": []
  },
  {
   "cell_type": "code",
   "execution_count": null,
   "id": "133316ed-a7db-43a8-9c55-2de50cb904d1",
   "metadata": {},
   "outputs": [],
   "source": []
  },
  {
   "cell_type": "code",
   "execution_count": null,
   "id": "4f773ff0-a49a-4d65-b31f-d1ad21e8b13c",
   "metadata": {},
   "outputs": [],
   "source": []
  },
  {
   "cell_type": "code",
   "execution_count": null,
   "id": "91e48d46-e67f-4178-814d-e37af0a2d54d",
   "metadata": {},
   "outputs": [],
   "source": []
  },
  {
   "cell_type": "code",
   "execution_count": null,
   "id": "3c4f37f4-68f3-4090-9e41-af15741895b9",
   "metadata": {},
   "outputs": [],
   "source": []
  },
  {
   "cell_type": "markdown",
   "id": "a265967c-d501-46fa-a8da-a0c0f13304bf",
   "metadata": {},
   "source": [
    "# Multi part Assembly"
   ]
  },
  {
   "cell_type": "markdown",
   "id": "516a57c5-6091-49f0-a6bf-ed5b6c4600f3",
   "metadata": {
    "tags": []
   },
   "source": [
    "### model & data loader setting"
   ]
  },
  {
   "cell_type": "code",
   "execution_count": 1,
   "id": "85711fb7-0689-4568-b197-c7fd3ea6b39e",
   "metadata": {
    "tags": []
   },
   "outputs": [
    {
     "name": "stdout",
     "output_type": "stream",
     "text": [
      "/data/wlsgur4011/part_assembly/src/multi-part-assembly-original\n"
     ]
    }
   ],
   "source": [
    "cd /data/wlsgur4011/part_assembly/src/multi-part-assembly-original"
   ]
  },
  {
   "cell_type": "code",
   "execution_count": 2,
   "id": "59480347-6955-4e10-a1e1-486126417d60",
   "metadata": {
    "tags": []
   },
   "outputs": [],
   "source": [
    "import os\n",
    "import sys\n",
    "import pwd\n",
    "import argparse\n",
    "import importlib\n",
    "\n",
    "import torch\n",
    "import pytorch_lightning as pl\n",
    "from pytorch_lightning.loggers import WandbLogger\n",
    "from pytorch_lightning.callbacks import ModelCheckpoint, LearningRateMonitor\n",
    "\n",
    "from multi_part_assembly_original.datasets import build_dataloader\n",
    "from multi_part_assembly_original.models import build_model\n",
    "from multi_part_assembly_original.utils import PCAssemblyLogCallback\n",
    "\n",
    "import multi_part_assembly_original"
   ]
  },
  {
   "cell_type": "code",
   "execution_count": 3,
   "id": "2d863a9b-2724-45a8-95a8-876511a74411",
   "metadata": {
    "tags": []
   },
   "outputs": [],
   "source": [
    "import sys,os,argparse\n",
    "sys.argv = [\"scripts/train.py\" ,\"--cfg_file\" ,\"configs/global/global-32x1-cosine_200e-artifact.py\" ,\"--fp16\"]"
   ]
  },
  {
   "cell_type": "code",
   "execution_count": 10,
   "id": "15c898ea-870e-451b-9a79-da813c512810",
   "metadata": {
    "tags": []
   },
   "outputs": [],
   "source": [
    "parser = argparse.ArgumentParser(description='Training script')\n",
    "parser.add_argument('--cfg_file', required=True, type=str, help='.py')\n",
    "parser.add_argument('--category', type=str, default='', help='data subset')\n",
    "parser.add_argument('--gpus', nargs='+', default=[0], type=int)\n",
    "parser.add_argument('--weight', type=str, default='', help='load weight')\n",
    "parser.add_argument('--fp16', action='store_true', help='FP16 training')\n",
    "parser.add_argument('--cudnn', action='store_true', help='cudnn benchmark')\n",
    "parser.add_argument('--vis', action='store_true', help='visualize results')\n",
    "args = parser.parse_args()\n",
    "\n",
    "\n",
    "sys.path.append(os.path.dirname(args.cfg_file))\n",
    "cfg = importlib.import_module(os.path.basename(args.cfg_file)[:-3])\n",
    "cfg = cfg.get_cfg_defaults()\n",
    "cfg.data.overfit = 100\n",
    "model = build_model(cfg)\n",
    "model = model.cuda()\n",
    "\n",
    "# Initialize dataloaders\n",
    "train_loader, val_loader = build_dataloader(cfg)"
   ]
  },
  {
   "cell_type": "code",
   "execution_count": 11,
   "id": "926375f3-c1cc-4188-a6ba-b6e05e087993",
   "metadata": {
    "tags": []
   },
   "outputs": [],
   "source": [
    "import logging\n",
    "logging.basicConfig()\n",
    "logging.getLogger().setLevel(logging.ERROR)"
   ]
  },
  {
   "cell_type": "markdown",
   "id": "461cd53c-a1e9-4878-b971-58d05b1a1aaa",
   "metadata": {},
   "source": [
    "### run!"
   ]
  },
  {
   "cell_type": "code",
   "execution_count": 14,
   "id": "33a720fa-b706-4368-93b1-445d49273979",
   "metadata": {},
   "outputs": [
    {
     "name": "stdout",
     "output_type": "stream",
     "text": [
      "\u001b[41m1111  {\n",
      "    \"part_pcs\": \"tensor[32, 20, 1000, 3] n=1920000 (7.3Mb) x∈[-0.644, 0.560] μ=-3.477e-12 σ=0.050 cuda:0\",\n",
      "    \"part_quat\": \"tensor[32, 20, 4] n=2560 (10Kb) x∈[-0.661, 0.993] μ=0.054 σ=0.244 cuda:0\",\n",
      "    \"part_trans\": \"tensor[32, 20, 3] n=1920 (7.5Kb) x∈[-0.454, 0.486] μ=0.015 σ=0.095 cuda:0\",\n",
      "    \"part_valids\": \"tensor[32, 20] n=640 (2.5Kb) x∈[0., 1.000] μ=0.250 σ=0.433 cuda:0\",\n",
      "    \"data_id\": \"tensor[32] i64 x∈[8, 96] μ=51.188 σ=26.517 cuda:0\",\n",
      "    \"instance_label\": \"tensor[32, 20, 0] n=0 \\u001b[38;2;127;127;127mempty\\u001b[0m cuda:0\",\n",
      "    \"part_label\": \"tensor[32, 20, 0] n=0 \\u001b[38;2;127;127;127mempty\\u001b[0m cuda:0\",\n",
      "    \"part_ids\": \"tensor[32, 20] n=640 (2.5Kb) x∈[0., 14.000] μ=0.806 σ=2.107 cuda:0\"\n",
      "}\u001b[0m\n",
      "\u001b[43m2222  {\n",
      "    \"trans_loss\": \"tensor grad MeanBackward0 cuda:0 0.110\",\n",
      "    \"rot_pt_cd_loss\": \"tensor grad MeanBackward0 cuda:0 0.012\",\n",
      "    \"transform_pt_cd_loss\": \"tensor grad MeanBackward0 cuda:0 0.040\",\n",
      "    \"rot_loss\": \"tensor grad MeanBackward0 cuda:0 0.584\",\n",
      "    \"rot_pt_l2_loss\": \"tensor grad MeanBackward0 cuda:0 0.083\",\n",
      "    \"part_acc\": \"tensor cuda:0 0.003\",\n",
      "    \"trans_mse\": \"tensor cuda:0 0.037\",\n",
      "    \"rot_mse\": \"tensor cuda:0 7.486e+03\",\n",
      "    \"trans_rmse\": \"tensor cuda:0 0.178\",\n",
      "    \"rot_rmse\": \"tensor cuda:0 82.305\",\n",
      "    \"trans_mae\": \"tensor cuda:0 0.154\",\n",
      "    \"rot_mae\": \"tensor cuda:0 70.921\",\n",
      "    \"loss\": \"tensor grad MeanBackward0 cuda:0 0.835\",\n",
      "    \"batch_size\": 32\n",
      "}\u001b[0m\n"
     ]
    }
   ],
   "source": [
    "from jhutil import to_cuda\n",
    "\n",
    "for data in train_loader:\n",
    "    data = to_cuda(data)\n",
    "    \n",
    "    import jhutil; jhutil.jhprint(1111, data)\n",
    "    loss_dict = model.forward_pass(data, mode='test', optimizer_idx=-1)\n",
    "    \n",
    "    import jhutil; jhutil.jhprint(2222, loss_dict)\n",
    "    break"
   ]
  },
  {
   "cell_type": "code",
   "execution_count": null,
   "id": "99bf24be-e62d-4333-a6a0-0cbd1d5d03fd",
   "metadata": {},
   "outputs": [],
   "source": []
  },
  {
   "cell_type": "code",
   "execution_count": null,
   "id": "ffd2cd1b-2941-4823-a22b-5412857d4f83",
   "metadata": {},
   "outputs": [],
   "source": []
  },
  {
   "cell_type": "code",
   "execution_count": null,
   "id": "704740ef-b5e0-4cf9-b0b0-f8eedc297091",
   "metadata": {},
   "outputs": [],
   "source": []
  },
  {
   "cell_type": "code",
   "execution_count": null,
   "id": "e93589fc-7187-4b62-8ffc-3501b204172d",
   "metadata": {},
   "outputs": [],
   "source": []
  },
  {
   "cell_type": "code",
   "execution_count": null,
   "id": "e2cdf3cc-50e6-46bd-91fe-4e9620abda77",
   "metadata": {},
   "outputs": [],
   "source": []
  },
  {
   "cell_type": "code",
   "execution_count": null,
   "id": "47ff6107-1e12-48bd-9099-6b083f1489cf",
   "metadata": {},
   "outputs": [],
   "source": []
  },
  {
   "cell_type": "code",
   "execution_count": null,
   "id": "f3bb504f-695b-4acc-8d3e-29c4c134cdd7",
   "metadata": {},
   "outputs": [],
   "source": []
  },
  {
   "cell_type": "code",
   "execution_count": null,
   "id": "4a59bf72-8024-4366-8f9a-db51a8a20a4b",
   "metadata": {},
   "outputs": [],
   "source": []
  },
  {
   "cell_type": "code",
   "execution_count": null,
   "id": "89a05566-230f-4269-bf55-74c80a008e91",
   "metadata": {},
   "outputs": [],
   "source": []
  },
  {
   "cell_type": "code",
   "execution_count": null,
   "id": "cafcf4aa-79f0-4079-bdaa-8a1a480e5f60",
   "metadata": {},
   "outputs": [],
   "source": []
  },
  {
   "cell_type": "markdown",
   "id": "8fe18510-fc66-4aa9-b704-5cd7328b345a",
   "metadata": {},
   "source": []
  },
  {
   "cell_type": "code",
   "execution_count": null,
   "id": "846e5747-fb23-4b90-ad8e-707b01a1d4e1",
   "metadata": {},
   "outputs": [],
   "source": []
  },
  {
   "cell_type": "code",
   "execution_count": null,
   "id": "666214b3-a1ef-4332-aa3f-fb9591f052b9",
   "metadata": {},
   "outputs": [],
   "source": []
  },
  {
   "cell_type": "code",
   "execution_count": null,
   "id": "3071c0ae-ff1a-4ed6-9865-a5e21c6b296f",
   "metadata": {},
   "outputs": [],
   "source": []
  },
  {
   "cell_type": "code",
   "execution_count": null,
   "id": "6f8d32f0-7456-4552-9b46-60eeca572f96",
   "metadata": {},
   "outputs": [],
   "source": []
  },
  {
   "cell_type": "code",
   "execution_count": null,
   "id": "c5ac3b0b-1b8b-46a6-bd0a-66217ee486ed",
   "metadata": {},
   "outputs": [],
   "source": []
  },
  {
   "cell_type": "code",
   "execution_count": null,
   "id": "35dfc8e9-7eff-476b-86ba-0363d76c3edb",
   "metadata": {},
   "outputs": [],
   "source": []
  },
  {
   "cell_type": "code",
   "execution_count": null,
   "id": "4c8532b7-eafa-4b37-9485-60918ea942a3",
   "metadata": {},
   "outputs": [],
   "source": []
  },
  {
   "cell_type": "code",
   "execution_count": null,
   "id": "ffa73dce-3e7e-4eea-94d4-83839f407ebd",
   "metadata": {},
   "outputs": [],
   "source": []
  },
  {
   "cell_type": "code",
   "execution_count": null,
   "id": "20edc5a2-572d-47a8-bdd7-bfaecf1c4dff",
   "metadata": {},
   "outputs": [],
   "source": []
  },
  {
   "cell_type": "code",
   "execution_count": null,
   "id": "3b6cba9f-3b58-4d24-9b6a-7682a124b3e0",
   "metadata": {},
   "outputs": [],
   "source": []
  },
  {
   "cell_type": "code",
   "execution_count": null,
   "id": "d5d7215a-ffb4-4e09-9d58-cf827fa7ace9",
   "metadata": {},
   "outputs": [],
   "source": []
  },
  {
   "cell_type": "code",
   "execution_count": null,
   "id": "fe981c9e-989d-4803-ae73-ec694e52eddc",
   "metadata": {},
   "outputs": [],
   "source": []
  },
  {
   "cell_type": "code",
   "execution_count": null,
   "id": "83c6d848-d1e9-419d-8fa7-8c5556dae370",
   "metadata": {},
   "outputs": [],
   "source": []
  },
  {
   "cell_type": "code",
   "execution_count": null,
   "id": "f7104d67-cd65-4e35-b1bc-b79e3b83679a",
   "metadata": {},
   "outputs": [],
   "source": []
  },
  {
   "cell_type": "code",
   "execution_count": null,
   "id": "f2428895-aeff-425b-90b5-8d7aca8f6965",
   "metadata": {},
   "outputs": [],
   "source": []
  },
  {
   "cell_type": "markdown",
   "id": "8943fb86-bbda-4c73-ac33-f3a38ba7ea92",
   "metadata": {},
   "source": []
  },
  {
   "cell_type": "code",
   "execution_count": null,
   "id": "a04e100f-e659-4f70-b184-1d275d5c53c4",
   "metadata": {},
   "outputs": [],
   "source": []
  },
  {
   "cell_type": "code",
   "execution_count": null,
   "id": "90bda2aa-786d-454e-8b5d-d0305d11525a",
   "metadata": {},
   "outputs": [],
   "source": []
  },
  {
   "cell_type": "code",
   "execution_count": null,
   "id": "b185cf23-8253-4279-8b73-1785c1a2ef4d",
   "metadata": {},
   "outputs": [],
   "source": []
  },
  {
   "cell_type": "code",
   "execution_count": null,
   "id": "33aa500f-ab57-4960-81a0-9a909930b894",
   "metadata": {},
   "outputs": [],
   "source": []
  },
  {
   "cell_type": "code",
   "execution_count": null,
   "id": "2375adc5-547d-47ff-8c2c-8f945a55886c",
   "metadata": {},
   "outputs": [],
   "source": []
  },
  {
   "cell_type": "code",
   "execution_count": null,
   "id": "bd279784-fe5c-4221-a2d4-7b20aab6fa25",
   "metadata": {},
   "outputs": [],
   "source": []
  },
  {
   "cell_type": "code",
   "execution_count": null,
   "id": "5283cc0b-e608-463c-9fdc-541c7adb8d8c",
   "metadata": {},
   "outputs": [],
   "source": []
  },
  {
   "cell_type": "code",
   "execution_count": null,
   "id": "5f77ba13-f933-4dc2-b4fa-2a8f59b79151",
   "metadata": {},
   "outputs": [],
   "source": []
  },
  {
   "cell_type": "code",
   "execution_count": null,
   "id": "d42d5f74-db6f-4b9c-9af8-a29cd5f6ee41",
   "metadata": {},
   "outputs": [],
   "source": []
  },
  {
   "cell_type": "code",
   "execution_count": null,
   "id": "b692231b-afe9-4009-86f1-fb9a06ac4c1c",
   "metadata": {},
   "outputs": [],
   "source": []
  },
  {
   "cell_type": "code",
   "execution_count": null,
   "id": "b12facdc-739b-403f-98ee-6fb5da6921ed",
   "metadata": {},
   "outputs": [],
   "source": []
  },
  {
   "cell_type": "code",
   "execution_count": null,
   "id": "0201a60c-5d40-4bec-a598-629e301ed345",
   "metadata": {},
   "outputs": [],
   "source": []
  },
  {
   "cell_type": "code",
   "execution_count": null,
   "id": "a245b11d-d1c0-48c6-8c39-65f44d340475",
   "metadata": {},
   "outputs": [],
   "source": []
  },
  {
   "cell_type": "code",
   "execution_count": null,
   "id": "24db1ea3-c7cc-4254-9162-802b31f3e787",
   "metadata": {},
   "outputs": [],
   "source": []
  },
  {
   "cell_type": "code",
   "execution_count": null,
   "id": "a5d1c517-ba2a-415a-bbbf-636d301872bd",
   "metadata": {},
   "outputs": [],
   "source": []
  },
  {
   "cell_type": "markdown",
   "id": "a355bfa4-dd8a-45c4-96d3-89cfcb9b4018",
   "metadata": {},
   "source": []
  },
  {
   "cell_type": "code",
   "execution_count": null,
   "id": "d4215ce0-db7d-45d3-be28-9ef8d4bee368",
   "metadata": {},
   "outputs": [],
   "source": []
  },
  {
   "cell_type": "code",
   "execution_count": null,
   "id": "618d9830-f474-4ba5-894c-4c1098c0929f",
   "metadata": {},
   "outputs": [],
   "source": []
  },
  {
   "cell_type": "code",
   "execution_count": null,
   "id": "030cc089-9555-4157-b3ed-b754507506e3",
   "metadata": {},
   "outputs": [],
   "source": []
  },
  {
   "cell_type": "code",
   "execution_count": null,
   "id": "017da421-be0f-434c-a5ca-2e8b5347ba59",
   "metadata": {},
   "outputs": [],
   "source": []
  },
  {
   "cell_type": "code",
   "execution_count": null,
   "id": "6d837588-b0e9-463d-8cb7-0009daef2927",
   "metadata": {},
   "outputs": [],
   "source": []
  },
  {
   "cell_type": "code",
   "execution_count": null,
   "id": "e7f72a6f-295a-46fb-b9a7-a3399e9948b0",
   "metadata": {},
   "outputs": [],
   "source": []
  },
  {
   "cell_type": "code",
   "execution_count": null,
   "id": "50ed043d-63a8-4bf7-902b-c5fd71d5e7b2",
   "metadata": {},
   "outputs": [],
   "source": []
  },
  {
   "cell_type": "code",
   "execution_count": null,
   "id": "748f2135-86ce-4f72-868c-3987a7bb905e",
   "metadata": {},
   "outputs": [],
   "source": []
  },
  {
   "cell_type": "code",
   "execution_count": null,
   "id": "27540ad8-e053-4a42-8f13-0472a1711c4b",
   "metadata": {},
   "outputs": [],
   "source": []
  },
  {
   "cell_type": "code",
   "execution_count": null,
   "id": "ca806144-5480-4994-842a-04937c24a777",
   "metadata": {},
   "outputs": [],
   "source": []
  },
  {
   "cell_type": "code",
   "execution_count": null,
   "id": "87525635-18e4-4ac7-b69d-ee35c8568e36",
   "metadata": {},
   "outputs": [],
   "source": []
  },
  {
   "cell_type": "code",
   "execution_count": null,
   "id": "2d22db6f-87f9-4b10-adb2-7c83d4c37d3f",
   "metadata": {},
   "outputs": [],
   "source": []
  },
  {
   "cell_type": "code",
   "execution_count": null,
   "id": "80fa10ab-4b9c-4ff4-91b2-37c876d03374",
   "metadata": {},
   "outputs": [],
   "source": []
  },
  {
   "cell_type": "code",
   "execution_count": null,
   "id": "fd1e6370-324e-47f1-9959-05d44e3949fa",
   "metadata": {},
   "outputs": [],
   "source": []
  },
  {
   "cell_type": "code",
   "execution_count": null,
   "id": "2d14a0e0-c1ff-4524-a63e-47244433acab",
   "metadata": {},
   "outputs": [],
   "source": []
  },
  {
   "cell_type": "markdown",
   "id": "13aa7aad-336f-4f4b-84b6-d3c0dda607bb",
   "metadata": {},
   "source": []
  },
  {
   "cell_type": "code",
   "execution_count": null,
   "id": "7005c200-51ce-4a7e-a86b-39901eddc8d8",
   "metadata": {},
   "outputs": [],
   "source": []
  },
  {
   "cell_type": "code",
   "execution_count": null,
   "id": "30cc92ee-0841-4646-a883-df3e3aae8782",
   "metadata": {},
   "outputs": [],
   "source": []
  },
  {
   "cell_type": "code",
   "execution_count": null,
   "id": "6525938e-1a34-42d8-a792-a2483a46920b",
   "metadata": {},
   "outputs": [],
   "source": []
  },
  {
   "cell_type": "code",
   "execution_count": null,
   "id": "d7b28bbc-be2d-495b-8ba0-997ad19e8256",
   "metadata": {},
   "outputs": [],
   "source": []
  },
  {
   "cell_type": "code",
   "execution_count": null,
   "id": "4e4ae75c-e3e9-4dc6-8e0b-ac0a10d4b53b",
   "metadata": {},
   "outputs": [],
   "source": []
  },
  {
   "cell_type": "code",
   "execution_count": null,
   "id": "675a2981-adf7-4311-899d-de6356d05b83",
   "metadata": {},
   "outputs": [],
   "source": []
  },
  {
   "cell_type": "code",
   "execution_count": null,
   "id": "77e7718e-3c18-4c41-b730-16f9632b0927",
   "metadata": {},
   "outputs": [],
   "source": []
  },
  {
   "cell_type": "code",
   "execution_count": null,
   "id": "93d5fba3-278b-47dd-af41-fd44e4a6f9ca",
   "metadata": {},
   "outputs": [],
   "source": []
  },
  {
   "cell_type": "code",
   "execution_count": null,
   "id": "78795654-f231-4160-81e1-c3f23af2fd44",
   "metadata": {},
   "outputs": [],
   "source": []
  },
  {
   "cell_type": "code",
   "execution_count": null,
   "id": "f558a143-8a22-4bc0-951c-31af764a6519",
   "metadata": {},
   "outputs": [],
   "source": []
  },
  {
   "cell_type": "code",
   "execution_count": null,
   "id": "0717e01b-198c-4893-8767-395d05655dd7",
   "metadata": {},
   "outputs": [],
   "source": []
  },
  {
   "cell_type": "code",
   "execution_count": null,
   "id": "a74a6ea8-bf46-4004-b101-380d045ff108",
   "metadata": {},
   "outputs": [],
   "source": []
  },
  {
   "cell_type": "code",
   "execution_count": null,
   "id": "5ca696f5-a37f-451a-aa62-68748508f1a7",
   "metadata": {},
   "outputs": [],
   "source": []
  },
  {
   "cell_type": "code",
   "execution_count": null,
   "id": "096d3fe4-cce6-443e-a75e-fc42d02d54f2",
   "metadata": {},
   "outputs": [],
   "source": []
  },
  {
   "cell_type": "code",
   "execution_count": null,
   "id": "de970a3f-b076-4773-a584-939231ead9ff",
   "metadata": {},
   "outputs": [],
   "source": []
  },
  {
   "cell_type": "markdown",
   "id": "e26843b7-db1b-4dcb-9d4f-dc85ae60536d",
   "metadata": {},
   "source": []
  },
  {
   "cell_type": "code",
   "execution_count": null,
   "id": "5525297e-ca16-4a0c-ab59-c4f74d5419c0",
   "metadata": {},
   "outputs": [],
   "source": []
  },
  {
   "cell_type": "code",
   "execution_count": null,
   "id": "924384bc-2f48-4ae4-b389-8f688575d259",
   "metadata": {},
   "outputs": [],
   "source": []
  },
  {
   "cell_type": "code",
   "execution_count": null,
   "id": "9360d676-c40b-4ab1-a0b5-6567c4f9c9be",
   "metadata": {},
   "outputs": [],
   "source": []
  },
  {
   "cell_type": "code",
   "execution_count": null,
   "id": "9e01c11b-2c86-4615-a400-ab01500a4660",
   "metadata": {},
   "outputs": [],
   "source": []
  },
  {
   "cell_type": "code",
   "execution_count": null,
   "id": "086f183b-1c53-4af8-aca8-5b5fcc0964a2",
   "metadata": {},
   "outputs": [],
   "source": []
  },
  {
   "cell_type": "code",
   "execution_count": null,
   "id": "def28ed5-9d2b-4668-ab40-eae17bf7ebe3",
   "metadata": {},
   "outputs": [],
   "source": []
  },
  {
   "cell_type": "code",
   "execution_count": null,
   "id": "205a3941-fcb9-4ed1-8a12-2f602685965d",
   "metadata": {},
   "outputs": [],
   "source": []
  },
  {
   "cell_type": "code",
   "execution_count": null,
   "id": "9baa1032-df1c-49ac-897e-4a64b1c597b9",
   "metadata": {},
   "outputs": [],
   "source": []
  },
  {
   "cell_type": "code",
   "execution_count": null,
   "id": "199b3ed0-2719-4f3f-a325-59ea1fc384a0",
   "metadata": {},
   "outputs": [],
   "source": []
  },
  {
   "cell_type": "code",
   "execution_count": null,
   "id": "b89bd885-8eee-4041-9ede-20022493e054",
   "metadata": {},
   "outputs": [],
   "source": []
  },
  {
   "cell_type": "code",
   "execution_count": null,
   "id": "0e47c783-3137-4a33-b192-e107361a1296",
   "metadata": {},
   "outputs": [],
   "source": []
  },
  {
   "cell_type": "code",
   "execution_count": null,
   "id": "f0b84e4d-053d-4186-ae9b-88ccd9e0049f",
   "metadata": {},
   "outputs": [],
   "source": []
  },
  {
   "cell_type": "code",
   "execution_count": null,
   "id": "f5352ed8-da87-4161-bf5d-5c6599d1913f",
   "metadata": {},
   "outputs": [],
   "source": []
  },
  {
   "cell_type": "code",
   "execution_count": null,
   "id": "a4f4d696-5e1f-44ce-af76-31e98207fbc7",
   "metadata": {},
   "outputs": [],
   "source": []
  },
  {
   "cell_type": "code",
   "execution_count": null,
   "id": "4ea652df-7899-41db-ac8c-0c1596be26e0",
   "metadata": {},
   "outputs": [],
   "source": []
  },
  {
   "cell_type": "markdown",
   "id": "5542cdf8-acf5-4d7b-94e1-a9d5afaca979",
   "metadata": {},
   "source": []
  },
  {
   "cell_type": "code",
   "execution_count": null,
   "id": "bd2d069b-fb19-40e0-894f-909e405a6530",
   "metadata": {},
   "outputs": [],
   "source": []
  },
  {
   "cell_type": "code",
   "execution_count": null,
   "id": "97eacecb-c152-4754-be7e-ff4526faa36d",
   "metadata": {},
   "outputs": [],
   "source": []
  },
  {
   "cell_type": "code",
   "execution_count": null,
   "id": "7780ee31-eb58-4c0f-b441-53e0d9d60308",
   "metadata": {},
   "outputs": [],
   "source": []
  },
  {
   "cell_type": "code",
   "execution_count": null,
   "id": "d48c1d92-2396-4e34-8f9c-6bcfeb7f3cc0",
   "metadata": {},
   "outputs": [],
   "source": []
  },
  {
   "cell_type": "code",
   "execution_count": null,
   "id": "b43f680e-c5a5-4a86-8074-722c8aca935d",
   "metadata": {},
   "outputs": [],
   "source": []
  },
  {
   "cell_type": "code",
   "execution_count": null,
   "id": "34f7e849-d861-4d92-a807-2a3d231c01ab",
   "metadata": {},
   "outputs": [],
   "source": []
  },
  {
   "cell_type": "code",
   "execution_count": null,
   "id": "4e8c4542-0407-47b7-beb5-3c47d266eb78",
   "metadata": {},
   "outputs": [],
   "source": []
  },
  {
   "cell_type": "code",
   "execution_count": null,
   "id": "cf787b31-0e36-4177-9a05-a3ef4f283ecb",
   "metadata": {},
   "outputs": [],
   "source": []
  },
  {
   "cell_type": "code",
   "execution_count": null,
   "id": "6d0adffa-41d6-40bf-9e9c-2b7d982dce2f",
   "metadata": {},
   "outputs": [],
   "source": []
  },
  {
   "cell_type": "code",
   "execution_count": null,
   "id": "b5449341-6217-49a8-ac05-8ad43f6c6f84",
   "metadata": {},
   "outputs": [],
   "source": []
  },
  {
   "cell_type": "code",
   "execution_count": null,
   "id": "510c1278-b15b-4979-b616-263675c3f576",
   "metadata": {},
   "outputs": [],
   "source": []
  },
  {
   "cell_type": "code",
   "execution_count": null,
   "id": "a79c1629-351f-4f3b-811d-994c9ab92266",
   "metadata": {},
   "outputs": [],
   "source": []
  },
  {
   "cell_type": "code",
   "execution_count": null,
   "id": "d8c3d6a8-88d2-426c-932f-b2b4c4d19636",
   "metadata": {},
   "outputs": [],
   "source": []
  },
  {
   "cell_type": "code",
   "execution_count": null,
   "id": "9f2ac071-8682-4e05-8c39-85dcdb6cda1d",
   "metadata": {},
   "outputs": [],
   "source": []
  },
  {
   "cell_type": "code",
   "execution_count": null,
   "id": "51f57e46-c65c-46b7-8f10-80028d658e39",
   "metadata": {},
   "outputs": [],
   "source": []
  },
  {
   "cell_type": "markdown",
   "id": "d32dc4d7-704b-47c4-a15a-b18036e86432",
   "metadata": {},
   "source": []
  },
  {
   "cell_type": "code",
   "execution_count": null,
   "id": "0435b108-a854-47dc-a81e-62159f96de70",
   "metadata": {},
   "outputs": [],
   "source": []
  },
  {
   "cell_type": "code",
   "execution_count": null,
   "id": "a0417aea-b4b3-47d4-ba57-04d2b07bb20a",
   "metadata": {},
   "outputs": [],
   "source": []
  },
  {
   "cell_type": "code",
   "execution_count": null,
   "id": "70d5ebe0-43ed-457e-a83d-affe39ae04fa",
   "metadata": {},
   "outputs": [],
   "source": []
  },
  {
   "cell_type": "code",
   "execution_count": null,
   "id": "eba06a7e-1139-4ca4-9b1b-8abca12f443c",
   "metadata": {},
   "outputs": [],
   "source": []
  },
  {
   "cell_type": "code",
   "execution_count": null,
   "id": "17400330-8b04-4084-9083-d06d3b39eed3",
   "metadata": {},
   "outputs": [],
   "source": []
  },
  {
   "cell_type": "code",
   "execution_count": null,
   "id": "95c45bb5-1d63-4ad5-9c74-b25adc24067e",
   "metadata": {},
   "outputs": [],
   "source": []
  },
  {
   "cell_type": "code",
   "execution_count": null,
   "id": "fd97d290-865f-45bc-acf9-7a1f49868123",
   "metadata": {},
   "outputs": [],
   "source": []
  },
  {
   "cell_type": "code",
   "execution_count": null,
   "id": "73ce61c2-efb9-4db7-be2a-b9fb0345195e",
   "metadata": {},
   "outputs": [],
   "source": []
  },
  {
   "cell_type": "code",
   "execution_count": null,
   "id": "0d017b4f-2f67-4ec9-821e-a3885f524e56",
   "metadata": {},
   "outputs": [],
   "source": []
  },
  {
   "cell_type": "code",
   "execution_count": null,
   "id": "0885d4a2-2950-4f5f-bbbc-c7c5076cf183",
   "metadata": {},
   "outputs": [],
   "source": []
  },
  {
   "cell_type": "code",
   "execution_count": null,
   "id": "eb0d45f6-1415-41d5-833f-3d420db9b205",
   "metadata": {},
   "outputs": [],
   "source": []
  },
  {
   "cell_type": "code",
   "execution_count": null,
   "id": "c5f13046-6e91-45ce-9cde-69cc59520743",
   "metadata": {},
   "outputs": [],
   "source": []
  },
  {
   "cell_type": "code",
   "execution_count": null,
   "id": "6611dcc1-bee0-4147-82ca-7d6d93bc4929",
   "metadata": {},
   "outputs": [],
   "source": []
  },
  {
   "cell_type": "code",
   "execution_count": null,
   "id": "329510e4-1278-4f04-8c3c-239237886073",
   "metadata": {},
   "outputs": [],
   "source": []
  },
  {
   "cell_type": "code",
   "execution_count": null,
   "id": "53614920-a51f-41d7-bcaa-ea659c89fb08",
   "metadata": {},
   "outputs": [],
   "source": []
  },
  {
   "cell_type": "markdown",
   "id": "e2346573-2fdf-4b48-a743-cc9c146f6ad1",
   "metadata": {},
   "source": []
  },
  {
   "cell_type": "code",
   "execution_count": null,
   "id": "da047aa9-ec5b-4ba9-84d0-81285ef460c1",
   "metadata": {},
   "outputs": [],
   "source": []
  },
  {
   "cell_type": "code",
   "execution_count": null,
   "id": "361faaa6-8e9a-4c84-ad53-bdede47d7f5f",
   "metadata": {},
   "outputs": [],
   "source": []
  },
  {
   "cell_type": "code",
   "execution_count": null,
   "id": "76f79c37-879f-4e96-910d-b59f5cf84717",
   "metadata": {},
   "outputs": [],
   "source": []
  },
  {
   "cell_type": "code",
   "execution_count": null,
   "id": "fabae863-1780-4c49-9ca8-53d77a02fab2",
   "metadata": {},
   "outputs": [],
   "source": []
  },
  {
   "cell_type": "code",
   "execution_count": null,
   "id": "2dd4f765-648e-495a-a9f8-84a18e6b1cb7",
   "metadata": {},
   "outputs": [],
   "source": []
  },
  {
   "cell_type": "code",
   "execution_count": null,
   "id": "b693e14d-cbac-4684-b5b8-b97c2f4f747b",
   "metadata": {},
   "outputs": [],
   "source": []
  },
  {
   "cell_type": "code",
   "execution_count": null,
   "id": "817a9359-3f32-49ae-ae58-7c84d486cc81",
   "metadata": {},
   "outputs": [],
   "source": []
  },
  {
   "cell_type": "code",
   "execution_count": null,
   "id": "4ce7b61b-e8db-40af-b44a-4ad99b1a92e7",
   "metadata": {},
   "outputs": [],
   "source": []
  },
  {
   "cell_type": "code",
   "execution_count": null,
   "id": "be7e1595-08d2-435e-bebd-563fcbfa09ac",
   "metadata": {},
   "outputs": [],
   "source": []
  },
  {
   "cell_type": "code",
   "execution_count": null,
   "id": "6638a878-df67-4717-992e-6c1f1ccd3757",
   "metadata": {},
   "outputs": [],
   "source": []
  },
  {
   "cell_type": "code",
   "execution_count": null,
   "id": "f4302b22-45eb-48bb-9628-797ee1153781",
   "metadata": {},
   "outputs": [],
   "source": []
  },
  {
   "cell_type": "code",
   "execution_count": null,
   "id": "ecc996f0-c40a-4ea2-9ba5-538e59c52a4e",
   "metadata": {},
   "outputs": [],
   "source": []
  },
  {
   "cell_type": "code",
   "execution_count": null,
   "id": "17c47f6c-bc88-4843-aa62-726fa61b9251",
   "metadata": {},
   "outputs": [],
   "source": []
  },
  {
   "cell_type": "code",
   "execution_count": null,
   "id": "b45ed3d0-9a9f-4496-91e9-1a75de945ec8",
   "metadata": {},
   "outputs": [],
   "source": []
  },
  {
   "cell_type": "code",
   "execution_count": null,
   "id": "9a80c2da-22cf-4780-b21f-f33aa877752b",
   "metadata": {},
   "outputs": [],
   "source": []
  },
  {
   "cell_type": "markdown",
   "id": "edcb4e6f-6f04-45c6-9977-091a6c97e1bc",
   "metadata": {},
   "source": []
  },
  {
   "cell_type": "code",
   "execution_count": null,
   "id": "6803b599-f901-49da-bac5-563fe6e9cde0",
   "metadata": {},
   "outputs": [],
   "source": []
  },
  {
   "cell_type": "code",
   "execution_count": null,
   "id": "dde3e20d-ff5d-43c5-aa7d-23263ae4abde",
   "metadata": {},
   "outputs": [],
   "source": []
  },
  {
   "cell_type": "code",
   "execution_count": null,
   "id": "9a2d00aa-0fb6-465f-bca4-faa9d3cb8875",
   "metadata": {},
   "outputs": [],
   "source": []
  },
  {
   "cell_type": "code",
   "execution_count": null,
   "id": "ea45f5eb-0d5b-48ff-a14c-259417e99a1f",
   "metadata": {},
   "outputs": [],
   "source": []
  },
  {
   "cell_type": "code",
   "execution_count": null,
   "id": "41b386e1-feae-469b-b8fe-06d35811180f",
   "metadata": {},
   "outputs": [],
   "source": []
  },
  {
   "cell_type": "code",
   "execution_count": null,
   "id": "f20b899f-3ad4-4046-a547-11a5254c7784",
   "metadata": {},
   "outputs": [],
   "source": []
  },
  {
   "cell_type": "code",
   "execution_count": null,
   "id": "911e214c-9ba8-423d-a8f6-fe6aa9b63d95",
   "metadata": {},
   "outputs": [],
   "source": []
  },
  {
   "cell_type": "code",
   "execution_count": null,
   "id": "2765c443-9e73-457d-b77a-d159ddd292df",
   "metadata": {},
   "outputs": [],
   "source": []
  },
  {
   "cell_type": "code",
   "execution_count": null,
   "id": "a5ef6276-2668-4893-b6c9-37a428f87033",
   "metadata": {},
   "outputs": [],
   "source": []
  },
  {
   "cell_type": "code",
   "execution_count": null,
   "id": "6be1c70b-64f4-419e-875c-beeae2531fa2",
   "metadata": {},
   "outputs": [],
   "source": []
  },
  {
   "cell_type": "code",
   "execution_count": null,
   "id": "33874499-a7ef-4a2d-bca2-c2c17c8183bf",
   "metadata": {},
   "outputs": [],
   "source": []
  },
  {
   "cell_type": "code",
   "execution_count": null,
   "id": "f30d5d69-442e-4628-85bb-4b6a958488fc",
   "metadata": {},
   "outputs": [],
   "source": []
  },
  {
   "cell_type": "code",
   "execution_count": null,
   "id": "a1394a72-be44-4030-a148-6c553f1c4f92",
   "metadata": {},
   "outputs": [],
   "source": []
  },
  {
   "cell_type": "code",
   "execution_count": null,
   "id": "65adc290-2cc3-45fd-abaf-c7a21ab54c60",
   "metadata": {},
   "outputs": [],
   "source": []
  },
  {
   "cell_type": "code",
   "execution_count": null,
   "id": "e99e09c2-3266-42c8-a95d-eb41f0e57f34",
   "metadata": {},
   "outputs": [],
   "source": []
  },
  {
   "cell_type": "markdown",
   "id": "ad5d116f-7625-452d-afcf-080e61db25fb",
   "metadata": {},
   "source": []
  },
  {
   "cell_type": "code",
   "execution_count": null,
   "id": "66fe1598-9691-45b5-97ef-10f8658d48bc",
   "metadata": {},
   "outputs": [],
   "source": []
  },
  {
   "cell_type": "code",
   "execution_count": null,
   "id": "0dd0743d-68da-471b-818e-c1af3ef73966",
   "metadata": {},
   "outputs": [],
   "source": []
  },
  {
   "cell_type": "code",
   "execution_count": null,
   "id": "41789173-81f1-4d8e-ba0f-9554661b2fe2",
   "metadata": {},
   "outputs": [],
   "source": []
  },
  {
   "cell_type": "code",
   "execution_count": null,
   "id": "d167e51c-64e0-47d2-9ab7-1ee3f6b1d888",
   "metadata": {},
   "outputs": [],
   "source": []
  },
  {
   "cell_type": "code",
   "execution_count": null,
   "id": "666db76c-1db2-4ddc-945c-9df7069ef551",
   "metadata": {},
   "outputs": [],
   "source": []
  },
  {
   "cell_type": "code",
   "execution_count": null,
   "id": "82678ba1-7b94-4bfa-b595-fb07d471934f",
   "metadata": {},
   "outputs": [],
   "source": []
  },
  {
   "cell_type": "code",
   "execution_count": null,
   "id": "abb4753f-0ed8-4c3f-9b2d-4ec01501f480",
   "metadata": {},
   "outputs": [],
   "source": []
  },
  {
   "cell_type": "code",
   "execution_count": null,
   "id": "488e2f3b-ccf4-40eb-a1cd-5bfaba397a09",
   "metadata": {},
   "outputs": [],
   "source": []
  },
  {
   "cell_type": "code",
   "execution_count": null,
   "id": "74cec28e-cbd6-4813-b7c5-6575f5d48330",
   "metadata": {},
   "outputs": [],
   "source": []
  },
  {
   "cell_type": "code",
   "execution_count": null,
   "id": "149ba93c-4393-43b5-8906-6afd05251197",
   "metadata": {},
   "outputs": [],
   "source": []
  },
  {
   "cell_type": "code",
   "execution_count": null,
   "id": "5fbf5bf6-0072-46ce-8e3e-cedc9e0c56b9",
   "metadata": {},
   "outputs": [],
   "source": []
  },
  {
   "cell_type": "code",
   "execution_count": null,
   "id": "f3dd5b57-8421-4251-a6ea-f7cb02a13a91",
   "metadata": {},
   "outputs": [],
   "source": []
  },
  {
   "cell_type": "code",
   "execution_count": null,
   "id": "64344363-2b89-4654-b23f-fdcbd0147f5c",
   "metadata": {},
   "outputs": [],
   "source": []
  },
  {
   "cell_type": "code",
   "execution_count": null,
   "id": "9afb0e94-ccf2-44c7-9983-1aa29b089027",
   "metadata": {},
   "outputs": [],
   "source": []
  },
  {
   "cell_type": "code",
   "execution_count": null,
   "id": "20b1f8b7-7dd6-492d-bacb-800b62f3b99b",
   "metadata": {},
   "outputs": [],
   "source": []
  },
  {
   "cell_type": "markdown",
   "id": "b623e11f-ab2a-4917-8c6c-664b29968ba8",
   "metadata": {},
   "source": []
  },
  {
   "cell_type": "code",
   "execution_count": null,
   "id": "ae1f8b60-d969-40d6-9721-6b3fe4fdcdec",
   "metadata": {},
   "outputs": [],
   "source": []
  },
  {
   "cell_type": "code",
   "execution_count": null,
   "id": "ee8ea9e3-1e0c-4549-b0fa-4136dbe248fc",
   "metadata": {},
   "outputs": [],
   "source": []
  },
  {
   "cell_type": "code",
   "execution_count": null,
   "id": "68ffdc37-6666-4a2e-baad-6804e4461915",
   "metadata": {},
   "outputs": [],
   "source": []
  },
  {
   "cell_type": "code",
   "execution_count": null,
   "id": "7a527e61-6033-4273-9486-9c25ee951dd9",
   "metadata": {},
   "outputs": [],
   "source": []
  },
  {
   "cell_type": "code",
   "execution_count": null,
   "id": "9830f73b-8ffd-4297-a94e-124e16883295",
   "metadata": {},
   "outputs": [],
   "source": []
  },
  {
   "cell_type": "code",
   "execution_count": null,
   "id": "2f598106-5eb0-419e-8208-7440417d9f53",
   "metadata": {},
   "outputs": [],
   "source": []
  },
  {
   "cell_type": "code",
   "execution_count": null,
   "id": "a90270af-6088-4084-a184-9ed2e33dde57",
   "metadata": {},
   "outputs": [],
   "source": []
  },
  {
   "cell_type": "code",
   "execution_count": null,
   "id": "ce0aae6e-0f6f-44de-88d3-bd6c7105e752",
   "metadata": {},
   "outputs": [],
   "source": []
  },
  {
   "cell_type": "code",
   "execution_count": null,
   "id": "2dab7f7d-d16f-4bc7-b568-6fbc1952d0e5",
   "metadata": {},
   "outputs": [],
   "source": []
  },
  {
   "cell_type": "code",
   "execution_count": null,
   "id": "15117350-4ea4-480c-bce4-821764863b4c",
   "metadata": {},
   "outputs": [],
   "source": []
  },
  {
   "cell_type": "code",
   "execution_count": null,
   "id": "1a72bc26-c186-454f-98f5-76861513a042",
   "metadata": {},
   "outputs": [],
   "source": []
  },
  {
   "cell_type": "code",
   "execution_count": null,
   "id": "892e5b1e-5030-42f6-b370-ac7f1deae9d1",
   "metadata": {},
   "outputs": [],
   "source": []
  },
  {
   "cell_type": "code",
   "execution_count": null,
   "id": "948186fb-8b30-4a50-a82a-72ca8b2dd2bd",
   "metadata": {},
   "outputs": [],
   "source": []
  },
  {
   "cell_type": "code",
   "execution_count": null,
   "id": "ab131c94-a1d3-48d3-95e8-04259356148e",
   "metadata": {},
   "outputs": [],
   "source": []
  },
  {
   "cell_type": "code",
   "execution_count": null,
   "id": "facb0c16-a702-4d0f-916a-ddfe1dba4622",
   "metadata": {},
   "outputs": [],
   "source": []
  },
  {
   "cell_type": "markdown",
   "id": "411c43f6-291e-4fd1-aa10-e7e07ae27771",
   "metadata": {},
   "source": []
  },
  {
   "cell_type": "code",
   "execution_count": null,
   "id": "f0e400a6-9fed-4ff9-89bf-a3122cc9c555",
   "metadata": {},
   "outputs": [],
   "source": []
  },
  {
   "cell_type": "code",
   "execution_count": null,
   "id": "c0e592f3-519e-441d-8f50-d8518645fc75",
   "metadata": {},
   "outputs": [],
   "source": []
  },
  {
   "cell_type": "code",
   "execution_count": null,
   "id": "22cedb62-46f8-4b78-850c-148caaf38775",
   "metadata": {},
   "outputs": [],
   "source": []
  },
  {
   "cell_type": "code",
   "execution_count": null,
   "id": "1bb03ba1-e375-4a32-a294-3d43bf85bfeb",
   "metadata": {},
   "outputs": [],
   "source": []
  },
  {
   "cell_type": "code",
   "execution_count": null,
   "id": "75e5c503-faf3-4393-a305-7319614a9e8e",
   "metadata": {},
   "outputs": [],
   "source": []
  },
  {
   "cell_type": "code",
   "execution_count": null,
   "id": "ed09eb04-8923-4d0f-b84c-7e505e2e45ec",
   "metadata": {},
   "outputs": [],
   "source": []
  },
  {
   "cell_type": "code",
   "execution_count": null,
   "id": "718d5dbf-ef68-40a8-8809-553b3e8c8561",
   "metadata": {},
   "outputs": [],
   "source": []
  },
  {
   "cell_type": "code",
   "execution_count": null,
   "id": "b5c8cb05-bb11-4dd9-b6c1-acbc72c103f6",
   "metadata": {},
   "outputs": [],
   "source": []
  },
  {
   "cell_type": "code",
   "execution_count": null,
   "id": "fe057f98-c1d3-4dcb-9228-712b2b6fed06",
   "metadata": {},
   "outputs": [],
   "source": []
  },
  {
   "cell_type": "code",
   "execution_count": null,
   "id": "e09c48bf-8c31-4782-a911-449fb07b7ea7",
   "metadata": {},
   "outputs": [],
   "source": []
  },
  {
   "cell_type": "code",
   "execution_count": null,
   "id": "d1d19598-002c-41be-aa96-da8fae1a41d0",
   "metadata": {},
   "outputs": [],
   "source": []
  },
  {
   "cell_type": "code",
   "execution_count": null,
   "id": "592dfa9d-0359-4e4b-8473-d0e3b09e3817",
   "metadata": {},
   "outputs": [],
   "source": []
  },
  {
   "cell_type": "code",
   "execution_count": null,
   "id": "2ff6ec92-7861-46d2-bba5-d2d43c923715",
   "metadata": {},
   "outputs": [],
   "source": []
  },
  {
   "cell_type": "code",
   "execution_count": null,
   "id": "9d0da62a-3eb7-4450-9ebc-bf77635e4205",
   "metadata": {},
   "outputs": [],
   "source": []
  },
  {
   "cell_type": "code",
   "execution_count": null,
   "id": "2b579e3f-81c0-4d51-9a14-c0875297d53a",
   "metadata": {},
   "outputs": [],
   "source": []
  },
  {
   "cell_type": "markdown",
   "id": "8a3d86b1-9f88-4665-bdab-34e63d924cbe",
   "metadata": {},
   "source": []
  },
  {
   "cell_type": "code",
   "execution_count": null,
   "id": "532f0df7-fb70-4379-9443-fd68e8244e7e",
   "metadata": {},
   "outputs": [],
   "source": []
  },
  {
   "cell_type": "code",
   "execution_count": null,
   "id": "fa84bb40-5fec-41f5-9bb5-e79e02a4f0a2",
   "metadata": {},
   "outputs": [],
   "source": []
  },
  {
   "cell_type": "code",
   "execution_count": null,
   "id": "f648ddbc-332e-4690-b431-001803396e70",
   "metadata": {},
   "outputs": [],
   "source": []
  },
  {
   "cell_type": "code",
   "execution_count": null,
   "id": "1243ebdf-66bc-4550-8c5e-5fe6793600d6",
   "metadata": {},
   "outputs": [],
   "source": []
  },
  {
   "cell_type": "code",
   "execution_count": null,
   "id": "83c7ea00-1345-43dd-991e-59d788ae760e",
   "metadata": {},
   "outputs": [],
   "source": []
  },
  {
   "cell_type": "code",
   "execution_count": null,
   "id": "9920eeae-fe47-4c69-bcaa-8440437bf9e8",
   "metadata": {},
   "outputs": [],
   "source": []
  },
  {
   "cell_type": "code",
   "execution_count": null,
   "id": "3eada169-869f-44ef-8507-bdee69337a01",
   "metadata": {},
   "outputs": [],
   "source": []
  },
  {
   "cell_type": "code",
   "execution_count": null,
   "id": "03cda63c-44fb-4503-8bc1-9d7885a90fcf",
   "metadata": {},
   "outputs": [],
   "source": []
  },
  {
   "cell_type": "code",
   "execution_count": null,
   "id": "4d7791b1-f4b0-4ddc-a51e-50bdf8371022",
   "metadata": {},
   "outputs": [],
   "source": []
  },
  {
   "cell_type": "code",
   "execution_count": null,
   "id": "442f20f7-cc0b-4cba-a69f-48a91ae1c437",
   "metadata": {},
   "outputs": [],
   "source": []
  },
  {
   "cell_type": "code",
   "execution_count": null,
   "id": "e2930f08-5663-4cd3-8774-936552668069",
   "metadata": {},
   "outputs": [],
   "source": []
  },
  {
   "cell_type": "code",
   "execution_count": null,
   "id": "7607c38c-e109-49b5-8fd6-d83aaaa6d9bc",
   "metadata": {},
   "outputs": [],
   "source": []
  },
  {
   "cell_type": "code",
   "execution_count": null,
   "id": "a5a0749c-8937-4bad-a9a4-cd3c992fc840",
   "metadata": {},
   "outputs": [],
   "source": []
  },
  {
   "cell_type": "code",
   "execution_count": null,
   "id": "63d3f0df-dad6-42da-801b-235fdd6b56bb",
   "metadata": {},
   "outputs": [],
   "source": []
  },
  {
   "cell_type": "code",
   "execution_count": null,
   "id": "e8960ab9-e327-425b-ba0f-50ee62e7dec6",
   "metadata": {},
   "outputs": [],
   "source": []
  }
 ],
 "metadata": {
  "kernelspec": {
   "display_name": "Python 3 (ipykernel)",
   "language": "python",
   "name": "python3"
  },
  "language_info": {
   "codemirror_mode": {
    "name": "ipython",
    "version": 3
   },
   "file_extension": ".py",
   "mimetype": "text/x-python",
   "name": "python",
   "nbconvert_exporter": "python",
   "pygments_lexer": "ipython3",
   "version": "3.8.16"
  }
 },
 "nbformat": 4,
 "nbformat_minor": 5
}
