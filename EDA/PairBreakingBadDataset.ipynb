{
 "cells": [
  {
   "cell_type": "markdown",
   "id": "a7f4ed8f-af79-42b8-8911-55805a55799a",
   "metadata": {},
   "source": [
    "# Preprocessed Dataset : PairBreakingBadDataset"
   ]
  },
  {
   "cell_type": "code",
   "execution_count": 1,
   "id": "9ee452be-a139-44b2-9fdb-af3c49168ea4",
   "metadata": {
    "tags": []
   },
   "outputs": [
    {
     "name": "stdout",
     "output_type": "stream",
     "text": [
      "True\n"
     ]
    },
    {
     "data": {
      "text/plain": [
       "<torch._C.Generator at 0x7f8a98099550>"
      ]
     },
     "execution_count": 1,
     "metadata": {},
     "output_type": "execute_result"
    }
   ],
   "source": [
    "import os\n",
    "os.environ[\"CUDA_DEVICE_ORDER\"]=\"PCI_BUS_ID\"\n",
    "os.environ[\"CUDA_VISIBLE_DEVICES\"]=\"1\"\n",
    "\n",
    "import sys\n",
    "sys.path.append(\"../src/geotransformer/experiments/lomatch\")\n",
    "sys.path.append(\"../\")\n",
    "\n",
    "import torch\n",
    "print(torch.cuda.is_available())\n",
    "from util.data import PairBreakingBadDataset\n",
    "from config import make_cfg\n",
    "from dataset import train_valid_data_loader\n",
    "\n",
    "torch.multiprocessing.set_start_method('spawn')\n",
    "\n",
    "import jhutil\n",
    "import yaml\n",
    "import torch\n",
    "torch.manual_seed(1234)"
   ]
  },
  {
   "cell_type": "code",
   "execution_count": 2,
   "id": "aeffd883-d6da-4a9e-8a09-6a8d42321518",
   "metadata": {
    "tags": []
   },
   "outputs": [],
   "source": [
    "%matplotlib widget"
   ]
  },
  {
   "cell_type": "code",
   "execution_count": 3,
   "id": "d1cc5afe-1140-4678-b902-218976df8d2e",
   "metadata": {
    "tags": []
   },
   "outputs": [],
   "source": [
    "from multi_part_assembly.datasets.geometry_data import build_geometry_dataset, build_geometry_dataloader\n",
    "from multi_part_assembly.datasets.geometry_data import GeometryPartDataset as BreakingBadDataset\n",
    "\n",
    "import jhutil\n",
    "import torch\n",
    "from torch.utils.data import Dataset, DataLoader\n",
    "import torch\n",
    "from jhutil import show_meshes, show_point_clouds"
   ]
  },
  {
   "cell_type": "code",
   "execution_count": 4,
   "id": "c0c9140a-9363-40bc-9aaa-8b549cc1cddc",
   "metadata": {
    "tags": []
   },
   "outputs": [
    {
     "ename": "NameError",
     "evalue": "name 'cfg' is not defined",
     "output_type": "error",
     "traceback": [
      "\u001b[0;31m---------------------------------------------------------------------------\u001b[0m",
      "\u001b[0;31mNameError\u001b[0m                                 Traceback (most recent call last)",
      "Cell \u001b[0;32mIn[4], line 3\u001b[0m\n\u001b[1;32m      1\u001b[0m \u001b[38;5;66;03m# cfg = make_cfg()\u001b[39;00m\n\u001b[1;32m      2\u001b[0m \u001b[38;5;66;03m# train_loader, val_loader, neighbor_limits = train_valid_data_loader(cfg, False)\u001b[39;00m\n\u001b[0;32m----> 3\u001b[0m train_data, val_data \u001b[38;5;241m=\u001b[39m build_geometry_dataset(\u001b[43mcfg\u001b[49m)\n",
      "\u001b[0;31mNameError\u001b[0m: name 'cfg' is not defined"
     ]
    }
   ],
   "source": [
    "# cfg = make_cfg()\n",
    "# train_loader, val_loader, neighbor_limits = train_valid_data_loader(cfg, False)\n",
    "\n",
    "\n"
   ]
  },
  {
   "cell_type": "code",
   "execution_count": null,
   "id": "4766d4d5-858a-41c7-a606-890774d3019b",
   "metadata": {},
   "outputs": [],
   "source": [
    "\n",
    "train_data, val_data = build_geometry_dataset(cfg)\n"
   ]
  },
  {
   "cell_type": "code",
   "execution_count": null,
   "id": "907724e0-7b86-4f47-a980-9b1a86794117",
   "metadata": {
    "tags": []
   },
   "outputs": [],
   "source": [
    "dir2idx = {\n",
    "    \"/data/wlsgur4011/DataCollection/BreakingBad/data_split/artifact/73400_sf/mode_5\" : 0 ,           # 3\n",
    "\"/data/wlsgur4011/DataCollection/BreakingBad/data_split/artifact/73400_sf/fractured_45\" : 1 ,           # 11\n",
    "\"/data/wlsgur4011/DataCollection/BreakingBad/data_split/artifact/73400_sf/fractured_38\" : 2 ,           # 10\n",
    "\"/data/wlsgur4011/DataCollection/BreakingBad/data_split/artifact/73400_sf/mode_16\" : 3 ,           # 11\n",
    "\"/data/wlsgur4011/DataCollection/BreakingBad/data_split/artifact/73400_sf/fractured_13\" : 4 ,           # 5\n",
    "\"/data/wlsgur4011/DataCollection/BreakingBad/data_split/artifact/73400_sf/mode_11\" : 5 ,           # 6\n",
    "\"/data/wlsgur4011/DataCollection/BreakingBad/data_split/artifact/73400_sf/fractured_35\" : 6 ,           # 13\n",
    "\"/data/wlsgur4011/DataCollection/BreakingBad/data_split/artifact/73400_sf/fractured_42\" : 7 ,           # 11\n",
    "\"/data/wlsgur4011/DataCollection/BreakingBad/data_split/artifact/73400_sf/fractured_7\" : 8 ,           # 5\n",
    "\"/data/wlsgur4011/DataCollection/BreakingBad/data_split/artifact/73400_sf/fractured_48\" : 9 ,           # 12\n",
    "\"/data/wlsgur4011/DataCollection/BreakingBad/data_split/artifact/73400_sf/mode_2\" : 10,           # 3\n",
    "\"/data/wlsgur4011/DataCollection/BreakingBad/data_split/artifact/73400_sf/mode_8\" : 11,           # 6\n",
    "\"/data/wlsgur4011/DataCollection/BreakingBad/data_split/artifact/73400_sf/fractured_3\" : 12,           # 7\n",
    "\"/data/wlsgur4011/DataCollection/BreakingBad/data_split/artifact/73400_sf/fractured_9\" : 13,           # 9\n",
    "\"/data/wlsgur4011/DataCollection/BreakingBad/data_split/artifact/73400_sf/fractured_31\" : 14,           # 4\n",
    "\"/data/wlsgur4011/DataCollection/BreakingBad/data_split/artifact/73400_sf/mode_6\" : 15,           # 5\n",
    "\"/data/wlsgur4011/DataCollection/BreakingBad/data_split/artifact/73400_sf/fractured_74\" : 16,           # 3\n",
    "\"/data/wlsgur4011/DataCollection/BreakingBad/data_split/artifact/73400_sf/fractured_22\" : 17,           # 3\n",
    "\"/data/wlsgur4011/DataCollection/BreakingBad/data_split/artifact/73400_sf/fractured_55\" : 18,           # 6\n",
    "\"/data/wlsgur4011/DataCollection/BreakingBad/data_split/artifact/73400_sf/fractured_28\" : 19,           # 3\n",
    "}"
   ]
  },
  {
   "cell_type": "code",
   "execution_count": null,
   "id": "4ff1413d-e608-4650-ab52-77b7879f4b1f",
   "metadata": {
    "tags": []
   },
   "outputs": [],
   "source": [
    "\n",
    "n = 6\n",
    "dir_loc = \"/data/wlsgur4011/DataCollection/BreakingBad/data_split/artifact/73400_sf/fractured_55\"\n",
    "\n",
    "result_path = \"/data/wlsgur4011/part_assembly/result/artifact/73400_sf/fractured_55/\"\n",
    "\n",
    "\n",
    "data = train_data[dir2idx[dir_loc]]"
   ]
  },
  {
   "cell_type": "code",
   "execution_count": null,
   "id": "a376d0fe-b4f4-46f0-bda3-d2ade7e6e362",
   "metadata": {
    "tags": []
   },
   "outputs": [],
   "source": [
    "show_meshes(dir_loc)"
   ]
  },
  {
   "cell_type": "code",
   "execution_count": null,
   "id": "38bbd6f1-d7b0-41f6-bc9e-3b7adc21ce60",
   "metadata": {
    "tags": []
   },
   "outputs": [],
   "source": [
    "broken_pcs = data['broken_pcs']\n",
    "quat = data['quat']\n",
    "trans = data['trans']"
   ]
  },
  {
   "cell_type": "code",
   "execution_count": null,
   "id": "bbe85a78-4d06-490f-82c5-ef5cf98c4cc7",
   "metadata": {
    "tags": []
   },
   "outputs": [],
   "source": [
    "from jhutil import quat_trans_transform, matrix_transform"
   ]
  },
  {
   "cell_type": "markdown",
   "id": "4c77b6db-b44c-4a79-adc6-68774f59cc73",
   "metadata": {
    "tags": []
   },
   "source": [
    "## GT"
   ]
  },
  {
   "cell_type": "code",
   "execution_count": null,
   "id": "d53d1ccf-7ea9-4950-bc7b-7efc56cee818",
   "metadata": {
    "tags": []
   },
   "outputs": [],
   "source": [
    "broken_pcs_registered = []\n",
    "\n",
    "for bp, q, t in zip(broken_pcs, quat, trans):\n",
    "    bp = torch.Tensor(bp)\n",
    "    q = torch.Tensor(q)\n",
    "    t = torch.Tensor(t)\n",
    "    bp_registed = quat_trans_transform(q, t, bp)\n",
    "    broken_pcs_registered.append(bp_registed)"
   ]
  },
  {
   "cell_type": "code",
   "execution_count": null,
   "id": "2f783798-3852-438f-b6c5-013f16141a38",
   "metadata": {
    "tags": []
   },
   "outputs": [],
   "source": [
    "[torch.Tensor(pcs) for pcs in broken_pcs_registered]"
   ]
  },
  {
   "cell_type": "code",
   "execution_count": null,
   "id": "563c701d-a94e-49f9-b95b-4f29934e7cca",
   "metadata": {
    "tags": []
   },
   "outputs": [],
   "source": [
    "# show_point_clouds([broken_pcs_registered[0], broken_pcs_registered[4]])\n",
    "show_point_clouds(broken_pcs_registered)"
   ]
  },
  {
   "cell_type": "markdown",
   "id": "9e681c65-bf3a-4c8a-b276-ec2e6480b05b",
   "metadata": {},
   "source": [
    "## Estimated"
   ]
  },
  {
   "cell_type": "code",
   "execution_count": null,
   "id": "f2c33a5c-914c-409c-91cf-366984dbe40b",
   "metadata": {},
   "outputs": [],
   "source": [
    "import numpy as np\n"
   ]
  },
  {
   "cell_type": "code",
   "execution_count": null,
   "id": "7202a0df-84d5-4373-866d-f0bbcbed24bd",
   "metadata": {
    "tags": []
   },
   "outputs": [],
   "source": [
    "\n",
    "from sghr.Laplacian_TS import pair2globalT_cycle\n",
    "\n",
    "def onegraph(dirpath, n):\n",
    "    # whether we use the ground truth overlap matrix\n",
    "    # pairwise registration\n",
    "    Ts = np.zeros([n,n,4,4])\n",
    "    irs = np.zeros([n,n])\n",
    "    weights = np.ones([n,n])\n",
    "    \n",
    "    for i in range(n):\n",
    "        for j in range(n):\n",
    "            filename = f\"piece_{i}:piece_{j}.npz\"\n",
    "            fullpath = os.path.join(dirpath, filename)\n",
    "            if not os.path.isfile(fullpath):\n",
    "                continue\n",
    "            if i != 0 and j != 4:\n",
    "                continue\n",
    "            Tij, ir, n_matches = load_data(fullpath)\n",
    "            \n",
    "            # guarantee meaningful rotation matrix\n",
    "            if np.linalg.det(Tij[0:3,0:3])<0:\n",
    "                Tij[0:2] = Tij[[1,0]]\n",
    "            # we use ransac's inlier number/100\n",
    "            irs[i,j], irs[j,i] = ir*n_matches/100, ir*n_matches/100\n",
    "            Ts[j,i] = Tij\n",
    "            Ts[i,j] = np.linalg.inv(Tij)\n",
    "    # conduct the global transformation syn\n",
    "    Tglobals,weights_out = pair2globalT_cycle(weights*(irs ** 3), Ts, 100)\n",
    "    return Tglobals"
   ]
  },
  {
   "cell_type": "code",
   "execution_count": null,
   "id": "0a99ff14-f83e-46b7-b4f8-31845e59ce45",
   "metadata": {
    "tags": []
   },
   "outputs": [],
   "source": [
    "def load_data(fullpath):\n",
    "\t# 1. load data from using i, j\n",
    "    data = dict(np.load(fullpath))\n",
    "    Tij = data[\"estimated_transform\"]\n",
    "    n_matches = len(data[\"ref_corr_points\"])\n",
    "\t# 2. inlier ratio logic\n",
    "    ref_corr_points = torch.Tensor(data[\"ref_corr_points\"])\n",
    "    src_corr_points = torch.Tensor(data[\"src_corr_points\"])\n",
    "    estimated_transform = torch.Tensor(data[\"estimated_transform\"])\n",
    "    src_transformed = jhutil.matrix_transform(estimated_transform, src_corr_points)\n",
    "    \n",
    "    distances, _ = jhutil.knn(ref_corr_points, src_transformed)\n",
    "    count = torch.sum(distances < 0.01)\n",
    "    ir = count / n_matches\n",
    "    return Tij, ir, n_matches"
   ]
  },
  {
   "cell_type": "code",
   "execution_count": null,
   "id": "43a9ccfe-fbe1-4b7a-8ef0-4b3d52d9c507",
   "metadata": {
    "tags": []
   },
   "outputs": [],
   "source": [
    "Tglobals = onegraph(result_path, n)\n",
    "registered_list = []\n",
    "\n",
    "for bp, t in zip(broken_pcs, Tglobals):\n",
    "    bp = torch.Tensor(bp)\n",
    "    q = torch.Tensor(q)\n",
    "    t = torch.Tensor(t)\n",
    "    bp_registed = matrix_transform(t, bp)\n",
    "    registered_list.append(bp_registed)\n",
    "    \n",
    "show_point_clouds(registered_list)"
   ]
  },
  {
   "cell_type": "code",
   "execution_count": null,
   "id": "724f11da-e3ac-4010-bcfa-1fa1ecd5ab26",
   "metadata": {},
   "outputs": [],
   "source": []
  },
  {
   "cell_type": "code",
   "execution_count": null,
   "id": "478282cf-6bf2-4f85-af70-91134460a280",
   "metadata": {
    "tags": []
   },
   "outputs": [],
   "source": [
    "i = 0; j=4\n",
    "filename = f\"piece_{i}:piece_{j}.npz\"\n",
    "fullpath = os.path.join(result_path, filename)\n",
    "data = dict(np.load(fullpath))"
   ]
  },
  {
   "cell_type": "code",
   "execution_count": null,
   "id": "871e372b-082e-4293-be54-de992d26073d",
   "metadata": {
    "tags": []
   },
   "outputs": [],
   "source": [
    "\n",
    "import jhutil;jhutil.jhprint(7777, data)"
   ]
  },
  {
   "cell_type": "code",
   "execution_count": null,
   "id": "464d971e-f2eb-4fb0-8beb-4854db0a8781",
   "metadata": {},
   "outputs": [],
   "source": []
  },
  {
   "cell_type": "code",
   "execution_count": null,
   "id": "19cdb101-1694-41ff-bfd0-86dda3e30506",
   "metadata": {},
   "outputs": [],
   "source": []
  },
  {
   "cell_type": "code",
   "execution_count": null,
   "id": "a867e9e5-efc3-4261-8cf9-d6b09139bf71",
   "metadata": {},
   "outputs": [],
   "source": []
  },
  {
   "cell_type": "code",
   "execution_count": null,
   "id": "c5f51f37-67aa-41ec-804d-e5c7546bd360",
   "metadata": {},
   "outputs": [],
   "source": []
  },
  {
   "cell_type": "code",
   "execution_count": null,
   "id": "691c6f70-da93-4ef6-821f-356fdeaa38e6",
   "metadata": {},
   "outputs": [],
   "source": []
  },
  {
   "cell_type": "code",
   "execution_count": null,
   "id": "46790dc4-7edd-439b-96a1-be1ad40ba7a8",
   "metadata": {},
   "outputs": [],
   "source": []
  },
  {
   "cell_type": "code",
   "execution_count": null,
   "id": "c8411a00-896d-4c8f-bb54-4d165b821de7",
   "metadata": {},
   "outputs": [],
   "source": []
  },
  {
   "cell_type": "code",
   "execution_count": null,
   "id": "45964ccb-85e1-4a09-aa67-11f1cf4fc014",
   "metadata": {},
   "outputs": [],
   "source": []
  },
  {
   "cell_type": "code",
   "execution_count": null,
   "id": "44411674-e28a-4746-b0c9-9928ecca7268",
   "metadata": {},
   "outputs": [],
   "source": []
  },
  {
   "cell_type": "code",
   "execution_count": null,
   "id": "624d1f2d-2801-4641-bf0a-78189d66e147",
   "metadata": {},
   "outputs": [],
   "source": []
  },
  {
   "cell_type": "code",
   "execution_count": null,
   "id": "1189aa10-8a83-4a07-82ef-992b058b3616",
   "metadata": {},
   "outputs": [],
   "source": []
  },
  {
   "cell_type": "code",
   "execution_count": null,
   "id": "9bedb8c9-5d88-48bd-b347-5c6696826ec0",
   "metadata": {},
   "outputs": [],
   "source": []
  },
  {
   "cell_type": "code",
   "execution_count": null,
   "id": "eb18593f-9ab9-4870-8153-c8cf9bcdbd46",
   "metadata": {},
   "outputs": [],
   "source": []
  },
  {
   "cell_type": "code",
   "execution_count": null,
   "id": "58cac929-18d1-44f5-91cb-4f7060cc9630",
   "metadata": {},
   "outputs": [],
   "source": []
  },
  {
   "cell_type": "code",
   "execution_count": null,
   "id": "ab517b46-bc15-4ae5-8bf7-50b74e120b24",
   "metadata": {},
   "outputs": [],
   "source": []
  },
  {
   "cell_type": "code",
   "execution_count": null,
   "id": "e79254c5-1161-4512-94b7-b502461a3674",
   "metadata": {},
   "outputs": [],
   "source": []
  },
  {
   "cell_type": "code",
   "execution_count": null,
   "id": "ef20f290-a00c-49ad-9a77-ca9930329949",
   "metadata": {},
   "outputs": [],
   "source": []
  },
  {
   "cell_type": "code",
   "execution_count": null,
   "id": "e6f079ce-62d6-4978-aece-b06fd3e2be7d",
   "metadata": {
    "tags": []
   },
   "outputs": [],
   "source": [
    "tranfroms"
   ]
  },
  {
   "cell_type": "code",
   "execution_count": null,
   "id": "ba1499e7-4331-467a-87f3-c91e9d7ec212",
   "metadata": {},
   "outputs": [],
   "source": [
    "broken_pcs_registered_estimated = []\n",
    "for bp, t in zip(broken_pcs, tranfroms):\n",
    "    bp = torch.Tensor(bp)\n",
    "    bp_registed = matrix_transform(t, bp)\n",
    "    broken_pcs_regxistered_estimated.append(bp_registed)"
   ]
  },
  {
   "cell_type": "code",
   "execution_count": null,
   "id": "65f8cfc9-1be1-4cf7-a935-92758fd75831",
   "metadata": {},
   "outputs": [],
   "source": [
    "show_point_clouds(broken_pcs_registered_estimated[:2])"
   ]
  },
  {
   "cell_type": "code",
   "execution_count": null,
   "id": "024cd968-5f21-42b5-8874-b0701c6b8174",
   "metadata": {},
   "outputs": [],
   "source": []
  },
  {
   "cell_type": "code",
   "execution_count": null,
   "id": "84ad8bab-3a6c-4419-bea7-5408ffbb708b",
   "metadata": {},
   "outputs": [],
   "source": []
  },
  {
   "cell_type": "code",
   "execution_count": null,
   "id": "033a894c-116b-4d87-bfa2-0055aa332213",
   "metadata": {},
   "outputs": [],
   "source": []
  },
  {
   "cell_type": "code",
   "execution_count": null,
   "id": "6c74d242-d9fe-4ee3-ba5e-c9b369933bd6",
   "metadata": {},
   "outputs": [],
   "source": []
  },
  {
   "cell_type": "code",
   "execution_count": null,
   "id": "ab3258b1-17f1-4301-bc56-45f665f18b30",
   "metadata": {},
   "outputs": [],
   "source": []
  },
  {
   "cell_type": "code",
   "execution_count": null,
   "id": "1bbfb3ba-cbf8-4210-97d9-2b3ac99070f8",
   "metadata": {},
   "outputs": [],
   "source": []
  },
  {
   "cell_type": "code",
   "execution_count": null,
   "id": "c5a261de-e731-4eb5-a568-486958d3a09f",
   "metadata": {},
   "outputs": [],
   "source": []
  },
  {
   "cell_type": "code",
   "execution_count": null,
   "id": "373fa9f4-f756-4eea-a27f-0cbbb0d5cb50",
   "metadata": {},
   "outputs": [],
   "source": []
  },
  {
   "cell_type": "code",
   "execution_count": null,
   "id": "921a7645-9beb-4cd9-88f3-defa7cb983f3",
   "metadata": {},
   "outputs": [],
   "source": []
  },
  {
   "cell_type": "code",
   "execution_count": null,
   "id": "a5891b74-cfbb-4b00-92eb-52682f953ed3",
   "metadata": {},
   "outputs": [],
   "source": []
  },
  {
   "cell_type": "code",
   "execution_count": null,
   "id": "11294ad1-e179-4dbc-a6f3-4d675ab14a55",
   "metadata": {},
   "outputs": [],
   "source": []
  },
  {
   "cell_type": "code",
   "execution_count": null,
   "id": "7a975731-4938-4e03-881d-c69fd1012987",
   "metadata": {},
   "outputs": [],
   "source": []
  },
  {
   "cell_type": "code",
   "execution_count": null,
   "id": "d3b8ba64-268b-41f0-8dba-80394b2ec013",
   "metadata": {},
   "outputs": [],
   "source": []
  },
  {
   "cell_type": "code",
   "execution_count": null,
   "id": "41c6d0c1-b270-4cb5-8b36-203d1781622a",
   "metadata": {},
   "outputs": [],
   "source": []
  },
  {
   "cell_type": "code",
   "execution_count": null,
   "id": "6e4c6597-3c34-4b43-b331-8011abb3ed15",
   "metadata": {},
   "outputs": [],
   "source": []
  },
  {
   "cell_type": "code",
   "execution_count": null,
   "id": "61e4dbb1-77a2-479d-ab4b-fb67a1a88abf",
   "metadata": {},
   "outputs": [],
   "source": []
  }
 ],
 "metadata": {
  "kernelspec": {
   "display_name": "Python 3 (ipykernel)",
   "language": "python",
   "name": "python3"
  },
  "language_info": {
   "codemirror_mode": {
    "name": "ipython",
    "version": 3
   },
   "file_extension": ".py",
   "mimetype": "text/x-python",
   "name": "python",
   "nbconvert_exporter": "python",
   "pygments_lexer": "ipython3",
   "version": "3.8.16"
  }
 },
 "nbformat": 4,
 "nbformat_minor": 5
}
