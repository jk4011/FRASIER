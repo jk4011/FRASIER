{
 "cells": [
  {
   "cell_type": "code",
   "execution_count": 3,
   "metadata": {},
   "outputs": [],
   "source": [
    "import os\n",
    "os.environ['DISPLAY'] = ':99'\n"
   ]
  },
  {
   "cell_type": "code",
   "execution_count": 4,
   "metadata": {},
   "outputs": [
    {
     "name": "stdout",
     "output_type": "stream",
     "text": [
      "Jupyter environment detected. Enabling Open3D WebVisualizer.\n",
      "[Open3D INFO] WebRTC GUI backend enabled.\n",
      "[Open3D INFO] WebRTCWindowSystem: HTTP handshake server disabled.\n",
      "TriangleMesh with 6641 points and 15248 triangles.\n",
      "\u001b[41m1111  \"None\"\u001b[0m\n",
      "\u001b[1;33m[Open3D WARNING] GLFW Error: GLX: No GLXFBConfigs returned\u001b[0;m\n",
      "\u001b[1;33m[Open3D WARNING] GLFW Error: GLX: Failed to find a suitable GLXFBConfig\u001b[0;m\n",
      "\u001b[1;33m[Open3D WARNING] Failed to create window\u001b[0;m\n"
     ]
    },
    {
     "ename": "AttributeError",
     "evalue": "'NoneType' object has no attribute 'mesh_color_option'",
     "output_type": "error",
     "traceback": [
      "\u001b[0;31m---------------------------------------------------------------------------\u001b[0m",
      "\u001b[0;31mAttributeError\u001b[0m                            Traceback (most recent call last)",
      "Cell \u001b[0;32mIn[4], line 12\u001b[0m\n\u001b[1;32m     10\u001b[0m vis\u001b[39m.\u001b[39mcreate_window()\n\u001b[1;32m     11\u001b[0m vis\u001b[39m.\u001b[39madd_geometry(geometry)\n\u001b[0;32m---> 12\u001b[0m vis\u001b[39m.\u001b[39;49mget_render_option()\u001b[39m.\u001b[39;49mmesh_color_option \u001b[39m=\u001b[39m MeshColorOption\u001b[39m.\u001b[39mNormal\n\u001b[1;32m     13\u001b[0m vis\u001b[39m.\u001b[39mrun()\n\u001b[1;32m     14\u001b[0m vis\u001b[39m.\u001b[39mdestroy_window()\n",
      "\u001b[0;31mAttributeError\u001b[0m: 'NoneType' object has no attribute 'mesh_color_option'"
     ]
    }
   ],
   "source": [
    "from open3d.io import read_triangle_mesh\n",
    "from open3d.visualization import Visualizer, MeshColorOption\n",
    "\n",
    "geometry = read_triangle_mesh(\"/data/wlsgur4011/part_assembly/example_data/artifact/39087_sf/fractured_0/piece_0.obj\")\n",
    "geometry.compute_vertex_normals()\n",
    "print(geometry)\n",
    "\n",
    "vis = Visualizer()\n",
    "import jhutil; jhutil.jhprint(1111, vis.get_render_option())\n",
    "vis.create_window()\n",
    "vis.add_geometry(geometry)\n",
    "vis.get_render_option().mesh_color_option = MeshColorOption.Normal\n",
    "vis.run()\n",
    "vis.destroy_window()"
   ]
  },
  {
   "cell_type": "code",
   "execution_count": 1,
   "metadata": {},
   "outputs": [
    {
     "name": "stdout",
     "output_type": "stream",
     "text": [
      "Jupyter environment detected. Enabling Open3D WebVisualizer.\n",
      "[Open3D INFO] WebRTC GUI backend enabled.\n",
      "[Open3D INFO] WebRTCWindowSystem: HTTP handshake server disabled.\n"
     ]
    },
    {
     "ename": "",
     "evalue": "",
     "output_type": "error",
     "traceback": [
      "\u001b[1;31mCannot execute code, session has been disposed. Please try restarting the Kernel."
     ]
    },
    {
     "ename": "",
     "evalue": "",
     "output_type": "error",
     "traceback": [
      "\u001b[1;31mThe Kernel crashed while executing code in the the current cell or a previous cell. Please review the code in the cell(s) to identify a possible cause of the failure. Click <a href='https://aka.ms/vscodeJupyterKernelCrash'>here</a> for more info. View Jupyter <a href='command:jupyter.viewOutput'>log</a> for further details."
     ]
    }
   ],
   "source": [
    "from open3d import *\n",
    "\n",
    "geometry = read_triangle_mesh(\"TestData/knot.ply\")\n",
    "geometry.compute_vertex_normals()\n",
    "print(geometry)\n",
    "\n",
    "vis = Visualizer()\n",
    "vis.create_window()\n",
    "vis.add_geometry(geometry)\n",
    "vis.get_render_option().mesh_color_option = MeshColorOption.Normal\n",
    "vis.run()\n",
    "vis.destroy_window()"
   ]
  },
  {
   "cell_type": "code",
   "execution_count": 1,
   "metadata": {},
   "outputs": [
    {
     "ename": "NoSuchDisplayException",
     "evalue": "Cannot connect to \"None\"",
     "output_type": "error",
     "traceback": [
      "\u001b[0;31m---------------------------------------------------------------------------\u001b[0m",
      "\u001b[0;31mNoSuchDisplayException\u001b[0m                    Traceback (most recent call last)",
      "Cell \u001b[0;32mIn[1], line 37\u001b[0m\n\u001b[1;32m     34\u001b[0m     \u001b[39mreturn\u001b[39;00m (normal_map \u001b[39m*\u001b[39m \u001b[39m255\u001b[39m)\u001b[39m.\u001b[39mastype(np\u001b[39m.\u001b[39muint8)\n\u001b[1;32m     36\u001b[0m \u001b[39m# Usage\u001b[39;00m\n\u001b[0;32m---> 37\u001b[0m normal_map \u001b[39m=\u001b[39m generate_normal_map(\u001b[39m'\u001b[39;49m\u001b[39m/data/wlsgur4011/part_assembly/example_data/artifact/39087_sf/fractured_0/piece_0.obj\u001b[39;49m\u001b[39m'\u001b[39;49m)\n",
      "Cell \u001b[0;32mIn[1], line 22\u001b[0m, in \u001b[0;36mgenerate_normal_map\u001b[0;34m(mesh_file, camera_position)\u001b[0m\n\u001b[1;32m     19\u001b[0m scene\u001b[39m.\u001b[39madd(camera, pose\u001b[39m=\u001b[39mcamera_pose)\n\u001b[1;32m     21\u001b[0m \u001b[39m# Set up the renderer with an off-screen buffer\u001b[39;00m\n\u001b[0;32m---> 22\u001b[0m renderer \u001b[39m=\u001b[39m pyrender\u001b[39m.\u001b[39;49mOffscreenRenderer(\u001b[39m512\u001b[39;49m, \u001b[39m512\u001b[39;49m)\n\u001b[1;32m     24\u001b[0m \u001b[39m# Render the scene to get the depth buffer and the color buffer\u001b[39;00m\n\u001b[1;32m     25\u001b[0m color_buffer, depth_buffer \u001b[39m=\u001b[39m renderer\u001b[39m.\u001b[39mrender(scene)\n",
      "File \u001b[0;32m/opt/conda/envs/assembly/lib/python3.8/site-packages/pyrender/offscreen.py:31\u001b[0m, in \u001b[0;36mOffscreenRenderer.__init__\u001b[0;34m(self, viewport_width, viewport_height, point_size)\u001b[0m\n\u001b[1;32m     29\u001b[0m \u001b[39mself\u001b[39m\u001b[39m.\u001b[39m_platform \u001b[39m=\u001b[39m \u001b[39mNone\u001b[39;00m\n\u001b[1;32m     30\u001b[0m \u001b[39mself\u001b[39m\u001b[39m.\u001b[39m_renderer \u001b[39m=\u001b[39m \u001b[39mNone\u001b[39;00m\n\u001b[0;32m---> 31\u001b[0m \u001b[39mself\u001b[39;49m\u001b[39m.\u001b[39;49m_create()\n",
      "File \u001b[0;32m/opt/conda/envs/assembly/lib/python3.8/site-packages/pyrender/offscreen.py:149\u001b[0m, in \u001b[0;36mOffscreenRenderer._create\u001b[0;34m(self)\u001b[0m\n\u001b[1;32m    145\u001b[0m \u001b[39melse\u001b[39;00m:\n\u001b[1;32m    146\u001b[0m     \u001b[39mraise\u001b[39;00m \u001b[39mValueError\u001b[39;00m(\u001b[39m'\u001b[39m\u001b[39mUnsupported PyOpenGL platform: \u001b[39m\u001b[39m{}\u001b[39;00m\u001b[39m'\u001b[39m\u001b[39m.\u001b[39mformat(\n\u001b[1;32m    147\u001b[0m         os\u001b[39m.\u001b[39menviron[\u001b[39m'\u001b[39m\u001b[39mPYOPENGL_PLATFORM\u001b[39m\u001b[39m'\u001b[39m]\n\u001b[1;32m    148\u001b[0m     ))\n\u001b[0;32m--> 149\u001b[0m \u001b[39mself\u001b[39;49m\u001b[39m.\u001b[39;49m_platform\u001b[39m.\u001b[39;49minit_context()\n\u001b[1;32m    150\u001b[0m \u001b[39mself\u001b[39m\u001b[39m.\u001b[39m_platform\u001b[39m.\u001b[39mmake_current()\n\u001b[1;32m    151\u001b[0m \u001b[39mself\u001b[39m\u001b[39m.\u001b[39m_renderer \u001b[39m=\u001b[39m Renderer(\u001b[39mself\u001b[39m\u001b[39m.\u001b[39mviewport_width, \u001b[39mself\u001b[39m\u001b[39m.\u001b[39mviewport_height)\n",
      "File \u001b[0;32m/opt/conda/envs/assembly/lib/python3.8/site-packages/pyrender/platforms/pyglet_platform.py:50\u001b[0m, in \u001b[0;36mPygletPlatform.init_context\u001b[0;34m(self)\u001b[0m\n\u001b[1;32m     48\u001b[0m \u001b[39mfor\u001b[39;00m conf \u001b[39min\u001b[39;00m confs:\n\u001b[1;32m     49\u001b[0m     \u001b[39mtry\u001b[39;00m:\n\u001b[0;32m---> 50\u001b[0m         \u001b[39mself\u001b[39m\u001b[39m.\u001b[39m_window \u001b[39m=\u001b[39m pyglet\u001b[39m.\u001b[39;49mwindow\u001b[39m.\u001b[39;49mWindow(config\u001b[39m=\u001b[39;49mconf, visible\u001b[39m=\u001b[39;49m\u001b[39mFalse\u001b[39;49;00m,\n\u001b[1;32m     51\u001b[0m                                             resizable\u001b[39m=\u001b[39;49m\u001b[39mFalse\u001b[39;49;00m,\n\u001b[1;32m     52\u001b[0m                                             width\u001b[39m=\u001b[39;49m\u001b[39m1\u001b[39;49m, height\u001b[39m=\u001b[39;49m\u001b[39m1\u001b[39;49m)\n\u001b[1;32m     53\u001b[0m         \u001b[39mbreak\u001b[39;00m\n\u001b[1;32m     54\u001b[0m     \u001b[39mexcept\u001b[39;00m pyglet\u001b[39m.\u001b[39mwindow\u001b[39m.\u001b[39mNoSuchConfigException \u001b[39mas\u001b[39;00m e:\n",
      "File \u001b[0;32m/opt/conda/envs/assembly/lib/python3.8/site-packages/pyglet/window/xlib/__init__.py:133\u001b[0m, in \u001b[0;36mXlibWindow.__init__\u001b[0;34m(self, *args, **kwargs)\u001b[0m\n\u001b[1;32m    130\u001b[0m         \u001b[39melse\u001b[39;00m:\n\u001b[1;32m    131\u001b[0m             \u001b[39mself\u001b[39m\u001b[39m.\u001b[39m_event_handlers[message] \u001b[39m=\u001b[39m func\n\u001b[0;32m--> 133\u001b[0m \u001b[39msuper\u001b[39;49m(XlibWindow, \u001b[39mself\u001b[39;49m)\u001b[39m.\u001b[39;49m\u001b[39m__init__\u001b[39;49m(\u001b[39m*\u001b[39;49margs, \u001b[39m*\u001b[39;49m\u001b[39m*\u001b[39;49mkwargs)\n\u001b[1;32m    135\u001b[0m \u001b[39mglobal\u001b[39;00m _can_detect_autorepeat\n\u001b[1;32m    136\u001b[0m \u001b[39mif\u001b[39;00m _can_detect_autorepeat \u001b[39mis\u001b[39;00m \u001b[39mNone\u001b[39;00m:\n",
      "File \u001b[0;32m/opt/conda/envs/assembly/lib/python3.8/site-packages/pyglet/window/__init__.py:513\u001b[0m, in \u001b[0;36mBaseWindow.__init__\u001b[0;34m(self, width, height, caption, resizable, style, fullscreen, visible, vsync, file_drops, display, screen, config, context, mode)\u001b[0m\n\u001b[1;32m    510\u001b[0m \u001b[39mself\u001b[39m\u001b[39m.\u001b[39m_event_queue \u001b[39m=\u001b[39m []\n\u001b[1;32m    512\u001b[0m \u001b[39mif\u001b[39;00m \u001b[39mnot\u001b[39;00m display:\n\u001b[0;32m--> 513\u001b[0m     display \u001b[39m=\u001b[39m pyglet\u001b[39m.\u001b[39;49mcanvas\u001b[39m.\u001b[39;49mget_display()\n\u001b[1;32m    515\u001b[0m \u001b[39mif\u001b[39;00m \u001b[39mnot\u001b[39;00m screen:\n\u001b[1;32m    516\u001b[0m     screen \u001b[39m=\u001b[39m display\u001b[39m.\u001b[39mget_default_screen()\n",
      "File \u001b[0;32m/opt/conda/envs/assembly/lib/python3.8/site-packages/pyglet/canvas/__init__.py:59\u001b[0m, in \u001b[0;36mget_display\u001b[0;34m()\u001b[0m\n\u001b[1;32m     56\u001b[0m     \u001b[39mreturn\u001b[39;00m display\n\u001b[1;32m     58\u001b[0m \u001b[39m# Otherwise, create a new display and return it.\u001b[39;00m\n\u001b[0;32m---> 59\u001b[0m \u001b[39mreturn\u001b[39;00m Display()\n",
      "File \u001b[0;32m/opt/conda/envs/assembly/lib/python3.8/site-packages/pyglet/canvas/xlib.py:88\u001b[0m, in \u001b[0;36mXlibDisplay.__init__\u001b[0;34m(self, name, x_screen)\u001b[0m\n\u001b[1;32m     86\u001b[0m \u001b[39mself\u001b[39m\u001b[39m.\u001b[39m_display \u001b[39m=\u001b[39m xlib\u001b[39m.\u001b[39mXOpenDisplay(name)\n\u001b[1;32m     87\u001b[0m \u001b[39mif\u001b[39;00m \u001b[39mnot\u001b[39;00m \u001b[39mself\u001b[39m\u001b[39m.\u001b[39m_display:\n\u001b[0;32m---> 88\u001b[0m     \u001b[39mraise\u001b[39;00m NoSuchDisplayException(\u001b[39mf\u001b[39m\u001b[39m'\u001b[39m\u001b[39mCannot connect to \u001b[39m\u001b[39m\"\u001b[39m\u001b[39m{\u001b[39;00mname\u001b[39m}\u001b[39;00m\u001b[39m\"\u001b[39m\u001b[39m'\u001b[39m)\n\u001b[1;32m     90\u001b[0m screen_count \u001b[39m=\u001b[39m xlib\u001b[39m.\u001b[39mXScreenCount(\u001b[39mself\u001b[39m\u001b[39m.\u001b[39m_display)\n\u001b[1;32m     91\u001b[0m \u001b[39mif\u001b[39;00m x_screen \u001b[39m>\u001b[39m\u001b[39m=\u001b[39m screen_count:\n",
      "\u001b[0;31mNoSuchDisplayException\u001b[0m: Cannot connect to \"None\""
     ]
    }
   ],
   "source": [
    "import numpy as np\n",
    "import trimesh\n",
    "import pyrender\n",
    "\n",
    "def generate_normal_map(mesh_file, camera_position=(1, -1, 1)):\n",
    "    # Load the 3D mesh\n",
    "    mesh = trimesh.load(mesh_file)\n",
    "\n",
    "    # Create a Pyrender mesh from the Trimesh object\n",
    "    pr_mesh = pyrender.Mesh.from_trimesh(mesh)\n",
    "\n",
    "    # Set up the scene with the mesh and a camera\n",
    "    scene = pyrender.Scene()\n",
    "    scene.add(pr_mesh)\n",
    "\n",
    "    camera = pyrender.PerspectiveCamera(yfov=np.pi / 3.0)\n",
    "    camera_pose = np.eye(4)\n",
    "    camera_pose[:3, 3] = camera_position\n",
    "    scene.add(camera, pose=camera_pose)\n",
    "\n",
    "    # Set up the renderer with an off-screen buffer\n",
    "    renderer = pyrender.OffscreenRenderer(512, 512)\n",
    "    \n",
    "    # Render the scene to get the depth buffer and the color buffer\n",
    "    color_buffer, depth_buffer = renderer.render(scene)\n",
    "    \n",
    "    # Use numpy gradient function to compute the normal map\n",
    "    normals = np.gradient(depth_buffer)\n",
    "    \n",
    "    # Normalize the normal map\n",
    "    normal_map = normals / np.linalg.norm(normals, axis=0)\n",
    "\n",
    "    # Convert to 8-bit color and return the normal map\n",
    "    return (normal_map * 255).astype(np.uint8)\n",
    "\n",
    "# Usage\n",
    "normal_map = generate_normal_map('/data/wlsgur4011/part_assembly/example_data/artifact/39087_sf/fractured_0/piece_0.obj')\n"
   ]
  },
  {
   "cell_type": "code",
   "execution_count": 12,
   "metadata": {},
   "outputs": [
    {
     "name": "stdout",
     "output_type": "stream",
     "text": [
      "\u001b[41m1111  \"array[6641, 3] n=19923 (0.2Mb) x∈[-1.000, 1.000] μ=0.029 σ=0.576\"\u001b[0m\n",
      "\u001b[43m2222  \"array[6641, 3] u8 n=19923 (19Kb) x∈[0, 255] μ=130.759 σ=73.485\"\u001b[0m\n",
      "\u001b[42m3333  \"6641\" \"3\" \"3\"\u001b[0m\n"
     ]
    },
    {
     "ename": "ValueError",
     "evalue": "cannot reshape array of size 19923 into shape (6641,3,3)",
     "output_type": "error",
     "traceback": [
      "\u001b[0;31m---------------------------------------------------------------------------\u001b[0m",
      "\u001b[0;31mValueError\u001b[0m                                Traceback (most recent call last)",
      "Cell \u001b[0;32mIn[12], line 28\u001b[0m\n\u001b[1;32m     25\u001b[0m     plt\u001b[39m.\u001b[39maxis(\u001b[39m'\u001b[39m\u001b[39moff\u001b[39m\u001b[39m'\u001b[39m)\n\u001b[1;32m     26\u001b[0m     plt\u001b[39m.\u001b[39msavefig(output_file, bbox_inches\u001b[39m=\u001b[39m\u001b[39m'\u001b[39m\u001b[39mtight\u001b[39m\u001b[39m'\u001b[39m, pad_inches\u001b[39m=\u001b[39m\u001b[39m0\u001b[39m)\n\u001b[0;32m---> 28\u001b[0m normal_map \u001b[39m=\u001b[39m create_normal_map(\u001b[39m'\u001b[39;49m\u001b[39m/data/wlsgur4011/part_assembly/example_data/artifact/39087_sf/fractured_0/piece_0.obj\u001b[39;49m\u001b[39m'\u001b[39;49m)\n\u001b[1;32m     29\u001b[0m save_image(normal_map, \u001b[39m'\u001b[39m\u001b[39mnormal_map.png\u001b[39m\u001b[39m'\u001b[39m)\n",
      "Cell \u001b[0;32mIn[12], line 19\u001b[0m, in \u001b[0;36mcreate_normal_map\u001b[0;34m(mesh_file)\u001b[0m\n\u001b[1;32m     17\u001b[0m \u001b[39m# Reshape the normals into an image\u001b[39;00m\n\u001b[1;32m     18\u001b[0m \u001b[39mimport\u001b[39;00m \u001b[39mjhutil\u001b[39;00m; jhutil\u001b[39m.\u001b[39mjhprint(\u001b[39m3333\u001b[39m, mesh\u001b[39m.\u001b[39mvertices\u001b[39m.\u001b[39mshape[\u001b[39m0\u001b[39m], mesh\u001b[39m.\u001b[39mvertices\u001b[39m.\u001b[39mshape[\u001b[39m1\u001b[39m], \u001b[39m3\u001b[39m)\n\u001b[0;32m---> 19\u001b[0m normal_map \u001b[39m=\u001b[39m normals\u001b[39m.\u001b[39;49mreshape(mesh\u001b[39m.\u001b[39;49mvertices\u001b[39m.\u001b[39;49mshape[\u001b[39m0\u001b[39;49m], mesh\u001b[39m.\u001b[39;49mvertices\u001b[39m.\u001b[39;49mshape[\u001b[39m1\u001b[39;49m], \u001b[39m3\u001b[39;49m)\n\u001b[1;32m     21\u001b[0m \u001b[39mreturn\u001b[39;00m normal_map\n",
      "\u001b[0;31mValueError\u001b[0m: cannot reshape array of size 19923 into shape (6641,3,3)"
     ]
    }
   ],
   "source": [
    "import trimesh\n",
    "import matplotlib.pyplot as plt\n",
    "import numpy as np\n",
    "\n",
    "def create_normal_map(mesh_file):\n",
    "    # Load the mesh\n",
    "    mesh = trimesh.load_mesh(mesh_file)\n",
    "\n",
    "    # Compute the vertex normals\n",
    "    normals = mesh.vertex_normals\n",
    "    import jhutil; jhutil.jhprint(1111, normals)\n",
    "\n",
    "    # Map the normals from [-1, 1] to [0, 255]\n",
    "    normals = ((normals + 1) / 2 * 255).astype(np.uint8)\n",
    "    import jhutil; jhutil.jhprint(2222, normals)\n",
    "\n",
    "    # Reshape the normals into an image\n",
    "    import jhutil; jhutil.jhprint(3333, mesh.vertices.shape[0], mesh.vertices.shape[1], 3)\n",
    "    normal_map = normals.reshape(mesh.vertices.shape[0], mesh.vertices.shape[1], 3)\n",
    "\n",
    "    return normal_map\n",
    "\n",
    "def save_image(normal_map, output_file):\n",
    "    plt.imshow(normal_map)\n",
    "    plt.axis('off')\n",
    "    plt.savefig(output_file, bbox_inches='tight', pad_inches=0)\n",
    "\n",
    "normal_map = create_normal_map('/data/wlsgur4011/part_assembly/example_data/artifact/39087_sf/fractured_0/piece_0.obj')\n",
    "save_image(normal_map, 'normal_map.png')\n"
   ]
  },
  {
   "cell_type": "code",
   "execution_count": 7,
   "metadata": {},
   "outputs": [
    {
     "ename": "NoSuchDisplayException",
     "evalue": "Cannot connect to \"None\"",
     "output_type": "error",
     "traceback": [
      "\u001b[0;31m---------------------------------------------------------------------------\u001b[0m",
      "\u001b[0;31mNoSuchDisplayException\u001b[0m                    Traceback (most recent call last)",
      "Cell \u001b[0;32mIn[7], line 2\u001b[0m\n\u001b[1;32m      1\u001b[0m \u001b[39mimport\u001b[39;00m \u001b[39mpyglet\u001b[39;00m\n\u001b[0;32m----> 2\u001b[0m \u001b[39mfrom\u001b[39;00m \u001b[39mpyglet\u001b[39;00m\u001b[39m.\u001b[39;00m\u001b[39mgl\u001b[39;00m \u001b[39mimport\u001b[39;00m \u001b[39m*\u001b[39m\n\u001b[1;32m      3\u001b[0m \u001b[39mfrom\u001b[39;00m \u001b[39mpyrr\u001b[39;00m \u001b[39mimport\u001b[39;00m Matrix44, Vector3\n\u001b[1;32m      5\u001b[0m \u001b[39m# Load the mesh\u001b[39;00m\n",
      "File \u001b[0;32m/opt/conda/envs/pointnext/lib/python3.8/site-packages/pyglet/gl/__init__.py:191\u001b[0m\n\u001b[1;32m    188\u001b[0m \u001b[39mif\u001b[39;00m \u001b[39mnot\u001b[39;00m _is_pyglet_doc_run \u001b[39mand\u001b[39;00m \u001b[39m'\u001b[39m\u001b[39mpyglet.window\u001b[39m\u001b[39m'\u001b[39m \u001b[39mnot\u001b[39;00m \u001b[39min\u001b[39;00m _sys\u001b[39m.\u001b[39mmodules \u001b[39mand\u001b[39;00m _pyglet\u001b[39m.\u001b[39moptions[\u001b[39m'\u001b[39m\u001b[39mshadow_window\u001b[39m\u001b[39m'\u001b[39m]:\n\u001b[1;32m    189\u001b[0m     \u001b[39m# trickery is for circular import\u001b[39;00m\n\u001b[1;32m    190\u001b[0m     _pyglet\u001b[39m.\u001b[39mgl \u001b[39m=\u001b[39m _sys\u001b[39m.\u001b[39mmodules[\u001b[39m__name__\u001b[39m]\n\u001b[0;32m--> 191\u001b[0m     \u001b[39mimport\u001b[39;00m \u001b[39mpyglet\u001b[39;00m\u001b[39m.\u001b[39;00m\u001b[39mwindow\u001b[39;00m\n",
      "File \u001b[0;32m/opt/conda/envs/pointnext/lib/python3.8/site-packages/pyglet/window/__init__.py:1887\u001b[0m\n\u001b[1;32m   1885\u001b[0m \u001b[39mif\u001b[39;00m \u001b[39mnot\u001b[39;00m _is_pyglet_doc_run:\n\u001b[1;32m   1886\u001b[0m     pyglet\u001b[39m.\u001b[39mwindow \u001b[39m=\u001b[39m sys\u001b[39m.\u001b[39mmodules[\u001b[39m__name__\u001b[39m]\n\u001b[0;32m-> 1887\u001b[0m     gl\u001b[39m.\u001b[39;49m_create_shadow_window()\n",
      "File \u001b[0;32m/opt/conda/envs/pointnext/lib/python3.8/site-packages/pyglet/gl/__init__.py:165\u001b[0m, in \u001b[0;36m_create_shadow_window\u001b[0;34m()\u001b[0m\n\u001b[1;32m    162\u001b[0m \u001b[39m        \u001b[39m\u001b[39m\"\"\"Shadow window does not need a projection.\"\"\"\u001b[39;00m\n\u001b[1;32m    163\u001b[0m         \u001b[39mpass\u001b[39;00m\n\u001b[0;32m--> 165\u001b[0m _shadow_window \u001b[39m=\u001b[39m ShadowWindow()\n\u001b[1;32m    166\u001b[0m _shadow_window\u001b[39m.\u001b[39mswitch_to()\n\u001b[1;32m    168\u001b[0m \u001b[39mfrom\u001b[39;00m \u001b[39mpyglet\u001b[39;00m \u001b[39mimport\u001b[39;00m app\n",
      "File \u001b[0;32m/opt/conda/envs/pointnext/lib/python3.8/site-packages/pyglet/gl/__init__.py:159\u001b[0m, in \u001b[0;36m_create_shadow_window.<locals>.ShadowWindow.__init__\u001b[0;34m(self)\u001b[0m\n\u001b[1;32m    158\u001b[0m \u001b[39mdef\u001b[39;00m \u001b[39m__init__\u001b[39m(\u001b[39mself\u001b[39m):\n\u001b[0;32m--> 159\u001b[0m     \u001b[39msuper\u001b[39;49m()\u001b[39m.\u001b[39;49m\u001b[39m__init__\u001b[39;49m(width\u001b[39m=\u001b[39;49m\u001b[39m1\u001b[39;49m, height\u001b[39m=\u001b[39;49m\u001b[39m1\u001b[39;49m, visible\u001b[39m=\u001b[39;49m\u001b[39mFalse\u001b[39;49;00m)\n",
      "File \u001b[0;32m/opt/conda/envs/pointnext/lib/python3.8/site-packages/pyglet/window/xlib/__init__.py:133\u001b[0m, in \u001b[0;36mXlibWindow.__init__\u001b[0;34m(self, *args, **kwargs)\u001b[0m\n\u001b[1;32m    130\u001b[0m         \u001b[39melse\u001b[39;00m:\n\u001b[1;32m    131\u001b[0m             \u001b[39mself\u001b[39m\u001b[39m.\u001b[39m_event_handlers[message] \u001b[39m=\u001b[39m func\n\u001b[0;32m--> 133\u001b[0m \u001b[39msuper\u001b[39;49m(XlibWindow, \u001b[39mself\u001b[39;49m)\u001b[39m.\u001b[39;49m\u001b[39m__init__\u001b[39;49m(\u001b[39m*\u001b[39;49margs, \u001b[39m*\u001b[39;49m\u001b[39m*\u001b[39;49mkwargs)\n\u001b[1;32m    135\u001b[0m \u001b[39mglobal\u001b[39;00m _can_detect_autorepeat\n\u001b[1;32m    136\u001b[0m \u001b[39mif\u001b[39;00m _can_detect_autorepeat \u001b[39mis\u001b[39;00m \u001b[39mNone\u001b[39;00m:\n",
      "File \u001b[0;32m/opt/conda/envs/pointnext/lib/python3.8/site-packages/pyglet/window/__init__.py:513\u001b[0m, in \u001b[0;36mBaseWindow.__init__\u001b[0;34m(self, width, height, caption, resizable, style, fullscreen, visible, vsync, file_drops, display, screen, config, context, mode)\u001b[0m\n\u001b[1;32m    510\u001b[0m \u001b[39mself\u001b[39m\u001b[39m.\u001b[39m_event_queue \u001b[39m=\u001b[39m []\n\u001b[1;32m    512\u001b[0m \u001b[39mif\u001b[39;00m \u001b[39mnot\u001b[39;00m display:\n\u001b[0;32m--> 513\u001b[0m     display \u001b[39m=\u001b[39m pyglet\u001b[39m.\u001b[39;49mcanvas\u001b[39m.\u001b[39;49mget_display()\n\u001b[1;32m    515\u001b[0m \u001b[39mif\u001b[39;00m \u001b[39mnot\u001b[39;00m screen:\n\u001b[1;32m    516\u001b[0m     screen \u001b[39m=\u001b[39m display\u001b[39m.\u001b[39mget_default_screen()\n",
      "File \u001b[0;32m/opt/conda/envs/pointnext/lib/python3.8/site-packages/pyglet/canvas/__init__.py:59\u001b[0m, in \u001b[0;36mget_display\u001b[0;34m()\u001b[0m\n\u001b[1;32m     56\u001b[0m     \u001b[39mreturn\u001b[39;00m display\n\u001b[1;32m     58\u001b[0m \u001b[39m# Otherwise, create a new display and return it.\u001b[39;00m\n\u001b[0;32m---> 59\u001b[0m \u001b[39mreturn\u001b[39;00m Display()\n",
      "File \u001b[0;32m/opt/conda/envs/pointnext/lib/python3.8/site-packages/pyglet/canvas/xlib.py:88\u001b[0m, in \u001b[0;36mXlibDisplay.__init__\u001b[0;34m(self, name, x_screen)\u001b[0m\n\u001b[1;32m     86\u001b[0m \u001b[39mself\u001b[39m\u001b[39m.\u001b[39m_display \u001b[39m=\u001b[39m xlib\u001b[39m.\u001b[39mXOpenDisplay(name)\n\u001b[1;32m     87\u001b[0m \u001b[39mif\u001b[39;00m \u001b[39mnot\u001b[39;00m \u001b[39mself\u001b[39m\u001b[39m.\u001b[39m_display:\n\u001b[0;32m---> 88\u001b[0m     \u001b[39mraise\u001b[39;00m NoSuchDisplayException(\u001b[39mf\u001b[39m\u001b[39m'\u001b[39m\u001b[39mCannot connect to \u001b[39m\u001b[39m\"\u001b[39m\u001b[39m{\u001b[39;00mname\u001b[39m}\u001b[39;00m\u001b[39m\"\u001b[39m\u001b[39m'\u001b[39m)\n\u001b[1;32m     90\u001b[0m screen_count \u001b[39m=\u001b[39m xlib\u001b[39m.\u001b[39mXScreenCount(\u001b[39mself\u001b[39m\u001b[39m.\u001b[39m_display)\n\u001b[1;32m     91\u001b[0m \u001b[39mif\u001b[39;00m x_screen \u001b[39m>\u001b[39m\u001b[39m=\u001b[39m screen_count:\n",
      "\u001b[0;31mNoSuchDisplayException\u001b[0m: Cannot connect to \"None\""
     ]
    }
   ],
   "source": [
    "import pyglet\n",
    "from pyglet.gl import *\n",
    "from pyrr import Matrix44, Vector3\n",
    "\n",
    "# Load the mesh\n",
    "mesh = pyglet.resource.model('model.obj')\n",
    "\n",
    "# Set up an offscreen buffer for rendering\n",
    "buffer = pyglet.image.get_buffer_manager().get_color_buffer()\n",
    "\n",
    "# Set up OpenGL\n",
    "glEnable(GL_DEPTH_TEST)\n",
    "\n",
    "glClearColor(0.5, 0.5, 1, 0)  # clear to normal-neutral color\n",
    "\n",
    "# Set up a perspective projection\n",
    "glMatrixMode(GL_PROJECTION)\n",
    "glLoadIdentity()\n",
    "gluPerspective(60, 1, 0.1, 1000)\n",
    "glMatrixMode(GL_MODELVIEW)\n",
    "\n",
    "# Draw the mesh from multiple directions\n",
    "for angle in range(0, 360, 90):\n",
    "    glLoadIdentity()\n",
    "    \n",
    "    # Position the camera\n",
    "    glTranslatef(0, 0, -3)\n",
    "    glRotatef(angle, 0, 1, 0)\n",
    "\n",
    "    # Clear the buffer\n",
    "    glClear(GL_COLOR_BUFFER_BIT | GL_DEPTH_BUFFER_BIT)\n",
    "\n",
    "    # Draw the mesh\n",
    "    mesh.draw()\n",
    "\n",
    "    # Read the pixels from the buffer and write them to an image\n",
    "    data = buffer.get_image_data().get_data('RGB', buffer.width * 3)\n",
    "    img = pyglet.image.ImageData(buffer.width, buffer.height, 'RGB', data)\n",
    "    img.save('normalmap_%s.png' % angle)\n"
   ]
  }
 ],
 "metadata": {
  "kernelspec": {
   "display_name": "pointnext",
   "language": "python",
   "name": "python3"
  },
  "language_info": {
   "codemirror_mode": {
    "name": "ipython",
    "version": 3
   },
   "file_extension": ".py",
   "mimetype": "text/x-python",
   "name": "python",
   "nbconvert_exporter": "python",
   "pygments_lexer": "ipython3",
   "version": "3.8.16"
  },
  "orig_nbformat": 4
 },
 "nbformat": 4,
 "nbformat_minor": 2
}
