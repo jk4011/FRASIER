{
 "cells": [
  {
   "cell_type": "code",
   "execution_count": 3,
   "id": "5fd731d3",
   "metadata": {},
   "outputs": [
    {
     "name": "stdout",
     "output_type": "stream",
     "text": [
      "/data/wlsgur4011/part_assembly/src/geotransformer/experiments/lomatch\n"
     ]
    }
   ],
   "source": [
    "cd /data/wlsgur4011/part_assembly/src/geotransformer/experiments/lomatch"
   ]
  },
  {
   "cell_type": "code",
   "execution_count": 5,
   "id": "32f9bd5a",
   "metadata": {},
   "outputs": [],
   "source": [
    "import os\n",
    "os.environ[\"CUDA_DEVICE_ORDER\"]=\"PCI_BUS_ID\"\n",
    "os.environ[\"CUDA_VISIBLE_DEVICES\"]=\"1\"\n",
    "\n",
    "import sys\n",
    "sys.path.append(\"../src/geotransformer/experiments/lomatch\")\n",
    "sys.path.append(\"../\")\n",
    "\n",
    "\n",
    "import jhutil\n",
    "import yaml\n",
    "import torch\n",
    "torch.manual_seed(1234)\n",
    "from jhutil import show_meshes"
   ]
  },
  {
   "cell_type": "code",
   "execution_count": 7,
   "id": "0c35d211",
   "metadata": {},
   "outputs": [],
   "source": [
    "from multi_part_assembly.datasets.geometry_data import build_geometry_dataset, build_geometry_dataloader\n",
    "from multi_part_assembly.datasets.geometry_data import Sample20k\n",
    "\n",
    "from config import make_cfg\n",
    "from torch.utils.data import Dataset, DataLoader\n",
    "import torch\n",
    "from jhutil import show_meshes, show_point_clouds"
   ]
  },
  {
   "cell_type": "code",
   "execution_count": 8,
   "id": "f128e76a",
   "metadata": {},
   "outputs": [],
   "source": [
    "\n",
    "from geotransformer.datasets.registration.threedmatch.dataset import ThreeDMatchPairDataset\n",
    "from geotransformer.utils.data import (\n",
    "    registration_collate_fn_stack_mode,\n",
    "    calibrate_neighbors_stack_mode,\n",
    "    build_dataloader_stack_mode,\n",
    ")\n",
    "\n",
    "def train_valid_data_loader(cfg, distributed, part_assembly=True):\n",
    "\n",
    "    if part_assembly:\n",
    "        from part_assembly.stage3 import PairBreakingBadDataset\n",
    "\n",
    "        datafolder = \"/data/wlsgur4011/DataCollection/BreakingBad/data_split/\"\n",
    "        artifact_train = f\"{datafolder}artifact.train.pth\"\n",
    "        artifact_val = f\"{datafolder}artifact.val.pth\"\n",
    "        train_dataset = PairBreakingBadDataset(artifact_train)\n",
    "        valid_dataset = PairBreakingBadDataset(artifact_val)\n",
    "    else:\n",
    "        train_dataset = ThreeDMatchPairDataset(\n",
    "            cfg.data.dataset_root,\n",
    "            'train',\n",
    "            point_limit=cfg.train.point_limit,\n",
    "            use_augmentation=cfg.train.use_augmentation,\n",
    "            augmentation_noise=cfg.train.augmentation_noise,\n",
    "            augmentation_rotation=cfg.train.augmentation_rotation,\n",
    "        )\n",
    "        valid_dataset = ThreeDMatchPairDataset(\n",
    "            cfg.data.dataset_root,\n",
    "            'val',\n",
    "            point_limit=cfg.test.point_limit,\n",
    "            use_augmentation=False,\n",
    "        )\n",
    "\n",
    "    neighbor_limits = calibrate_neighbors_stack_mode(\n",
    "        train_dataset,\n",
    "        registration_collate_fn_stack_mode,\n",
    "        cfg.backbone.num_stages,\n",
    "        cfg.backbone.init_voxel_size,\n",
    "        cfg.backbone.init_radius,\n",
    "    )\n",
    "    train_loader = build_dataloader_stack_mode(\n",
    "        train_dataset,\n",
    "        registration_collate_fn_stack_mode,\n",
    "        cfg.backbone.num_stages,\n",
    "        cfg.backbone.init_voxel_size,\n",
    "        cfg.backbone.init_radius,\n",
    "        neighbor_limits,\n",
    "        batch_size=cfg.train.batch_size,\n",
    "        num_workers=cfg.train.num_workers,\n",
    "        shuffle=True,\n",
    "        distributed=distributed,\n",
    "    )\n",
    "\n",
    "    valid_loader = build_dataloader_stack_mode(\n",
    "        valid_dataset,\n",
    "        registration_collate_fn_stack_mode,\n",
    "        cfg.backbone.num_stages,\n",
    "        cfg.backbone.init_voxel_size,\n",
    "        cfg.backbone.init_radius,\n",
    "        neighbor_limits,\n",
    "        batch_size=cfg.test.batch_size,\n",
    "        num_workers=cfg.test.num_workers,\n",
    "        shuffle=False,\n",
    "        distributed=distributed,\n",
    "    )\n",
    "\n",
    "    return train_loader, valid_loader, neighbor_limits\n"
   ]
  },
  {
   "cell_type": "code",
   "execution_count": 10,
   "id": "94872645",
   "metadata": {},
   "outputs": [],
   "source": [
    "cfg = make_cfg()\n",
    "train_loader, valid_loader, neighbor_limits = train_valid_data_loader(cfg, False, part_assembly=True)"
   ]
  },
  {
   "cell_type": "code",
   "execution_count": 11,
   "id": "1fd91613",
   "metadata": {},
   "outputs": [
    {
     "name": "stdout",
     "output_type": "stream",
     "text": [
      "\u001b[41m1111  \"array[4] i64 x∈[26, 46] μ=33.500 σ=7.533 [46, 26, 30, 32]\"\u001b[0m\n"
     ]
    }
   ],
   "source": [
    "\n",
    "import jhutil; jhutil.jhprint(1111, neighbor_limits)"
   ]
  },
  {
   "cell_type": "code",
   "execution_count": null,
   "id": "bb5c9f6b",
   "metadata": {},
   "outputs": [],
   "source": [
    "import torch\n",
    "from config import make_cfg\n",
    "from model import create_model\n",
    "import sys\n",
    "sys.path.append(\"/data/wlsgur4011/part_assembly/src/geotransformer/experiments/lomatch/\")\n",
    "from dataset import train_valid_data_loader\n"
   ]
  },
  {
   "cell_type": "code",
   "execution_count": null,
   "id": "6bdf1cd3",
   "metadata": {},
   "outputs": [],
   "source": [
    "cfg = make_cfg()\n",
    "model = create_model(cfg)\n",
    "\n",
    "state_dict = torch.load(\"/data/wlsgur4011/BreakingBad/GeoTransformer/weights/geotransformer-3dmatch.pth.tar\", map_location=torch.device('cpu'))\n",
    "model_dict = state_dict['model']\n",
    "model.load_state_dict(model_dict, strict=False)\n",
    "model = model.cuda()"
   ]
  },
  {
   "cell_type": "code",
   "execution_count": null,
   "id": "dc2d37e0",
   "metadata": {},
   "outputs": [],
   "source": []
  },
  {
   "cell_type": "code",
   "execution_count": null,
   "id": "7578aa51",
   "metadata": {},
   "outputs": [],
   "source": []
  },
  {
   "cell_type": "code",
   "execution_count": null,
   "id": "1682c159",
   "metadata": {},
   "outputs": [],
   "source": []
  },
  {
   "cell_type": "code",
   "execution_count": null,
   "id": "0a4af5ae",
   "metadata": {},
   "outputs": [],
   "source": []
  },
  {
   "cell_type": "code",
   "execution_count": null,
   "id": "0e1c9510",
   "metadata": {},
   "outputs": [],
   "source": []
  },
  {
   "cell_type": "code",
   "execution_count": null,
   "id": "00e616e4",
   "metadata": {},
   "outputs": [],
   "source": []
  },
  {
   "cell_type": "code",
   "execution_count": null,
   "id": "c2acb3c1",
   "metadata": {},
   "outputs": [],
   "source": []
  },
  {
   "cell_type": "code",
   "execution_count": null,
   "id": "d0784c77",
   "metadata": {},
   "outputs": [],
   "source": []
  },
  {
   "cell_type": "code",
   "execution_count": null,
   "id": "00b7a992",
   "metadata": {},
   "outputs": [],
   "source": []
  },
  {
   "cell_type": "code",
   "execution_count": null,
   "id": "c8467712",
   "metadata": {},
   "outputs": [],
   "source": []
  },
  {
   "cell_type": "code",
   "execution_count": null,
   "id": "73cbb5b2",
   "metadata": {},
   "outputs": [],
   "source": []
  }
 ],
 "metadata": {
  "kernelspec": {
   "display_name": "Python 3 (ipykernel)",
   "language": "python",
   "name": "python3"
  },
  "language_info": {
   "codemirror_mode": {
    "name": "ipython",
    "version": 3
   },
   "file_extension": ".py",
   "mimetype": "text/x-python",
   "name": "python",
   "nbconvert_exporter": "python",
   "pygments_lexer": "ipython3",
   "version": "3.8.16"
  }
 },
 "nbformat": 4,
 "nbformat_minor": 5
}
