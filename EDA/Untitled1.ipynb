{
 "cells": [
  {
   "cell_type": "code",
   "execution_count": 3,
   "id": "f79b4e75-b90c-4bb6-ae26-6ca3c696880d",
   "metadata": {
    "tags": []
   },
   "outputs": [
    {
     "name": "stdout",
     "output_type": "stream",
     "text": [
      "[[  4.332   2.815   2.089 121.    100.     73.      6.   ]\n",
      " [  4.338   2.827   1.887  99.     76.     45.      6.   ]\n",
      " [  4.342   2.829   1.836  99.     77.     53.      6.   ]\n",
      " [  4.36    2.83    1.738 107.     86.     55.      6.   ]\n",
      " [  4.345   2.827   1.854  98.     76.     52.      6.   ]\n",
      " [  4.343   2.83    1.811 102.     78.     54.      6.   ]\n",
      " [  4.337   2.825   1.915 102.     79.     47.      6.   ]\n",
      " [  4.339   2.828   1.868 100.     73.     52.      6.   ]\n",
      " [  4.363   2.827   1.761 106.     87.     57.      6.   ]\n",
      " [  4.341   2.827   1.866  99.     74.     52.      6.   ]]\n"
     ]
    }
   ],
   "source": [
    "import numpy as np\n",
    "\n",
    "# Specify the file path\n",
    "file_path = '/data/wlsgur4011/part_assembly/src/pointnext/data/S3DIS/s3disfull/raw/Area_1_conferenceRoom_1.npy'\n",
    "\n",
    "# Load the .npy file\n",
    "data = np.load(file_path)\n",
    "\n",
    "# Now you can work with the loaded data\n",
    "print(data[:10])"
   ]
  },
  {
   "cell_type": "code",
   "execution_count": null,
   "id": "6a1b33a2-4f34-4451-87a3-fe9c1277939d",
   "metadata": {},
   "outputs": [],
   "source": []
  }
 ],
 "metadata": {
  "kernelspec": {
   "display_name": "Python 3 (ipykernel)",
   "language": "python",
   "name": "python3"
  },
  "language_info": {
   "codemirror_mode": {
    "name": "ipython",
    "version": 3
   },
   "file_extension": ".py",
   "mimetype": "text/x-python",
   "name": "python",
   "nbconvert_exporter": "python",
   "pygments_lexer": "ipython3",
   "version": "3.8.16"
  }
 },
 "nbformat": 4,
 "nbformat_minor": 5
}
