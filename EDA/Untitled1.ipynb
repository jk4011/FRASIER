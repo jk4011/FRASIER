{
 "cells": [
  {
   "cell_type": "code",
   "execution_count": 3,
   "id": "f79b4e75-b90c-4bb6-ae26-6ca3c696880d",
   "metadata": {
    "tags": []
   },
   "outputs": [
    {
     "name": "stdout",
     "output_type": "stream",
     "text": [
      "\u001b[41m1111  \"array[2, 2, 4, 4] n=64 x∈[0., 1.000] μ=0.250 σ=0.433\"\u001b[0m\n",
      "Tglobals:\n",
      "[[[0. 0. 1. 0.]\n",
      "  [1. 0. 0. 0.]\n",
      "  [0. 1. 0. 0.]\n",
      "  [0. 0. 0. 1.]]\n",
      "\n",
      " [[0. 0. 1. 0.]\n",
      "  [1. 0. 0. 0.]\n",
      "  [0. 1. 0. 0.]\n",
      "  [0. 0. 0. 1.]]]\n",
      "Weights out:\n",
      "[[0.         0.         0.99998473]\n",
      " [0.         1.         0.99998473]\n",
      " [1.         0.         0.99998473]\n",
      " [1.         1.         0.99998473]]\n"
     ]
    }
   ],
   "source": [
    "import numpy as np\n",
    "\n",
    "from sghr.p2p_reg import name2estimator\n",
    "from sghr.Laplacian_TS import pair2globalT_cycle\n",
    "\n",
    "\n",
    "n = 2\n",
    "\n",
    "# Initialize a 2x2 pair transformation matrix with identity matrices\n",
    "Ts = np.zeros([n, n, 4, 4])\n",
    "for i in range(n):\n",
    "    for j in range(n):\n",
    "        Ts[i, j] = np.identity(4)\n",
    "\n",
    "import jhutil;jhutil.jhprint(1111, Ts)\n",
    "# Initialize a 2x2 weight matrix with 1s\n",
    "weights = np.ones([n, n])\n",
    "\n",
    "# Create a simple 2x2 score matrix with 1s\n",
    "scoremat = np.ones([n, n])\n",
    "\n",
    "# Create a simple 2x2 inlier ratio matrix with 1s\n",
    "irs = np.ones([n, n])\n",
    "\n",
    "# Set N_cyclegraph to 1\n",
    "N_cyclegraph = 1\n",
    "\n",
    "# Call the pair2globalT_cycle function\n",
    "Tglobals, weights_out = pair2globalT_cycle(weights * scoremat * irs, Ts, N_cyclegraph)\n",
    "\n"
   ]
  },
  {
   "cell_type": "code",
   "execution_count": null,
   "id": "6a1b33a2-4f34-4451-87a3-fe9c1277939d",
   "metadata": {},
   "outputs": [],
   "source": []
  }
 ],
 "metadata": {
  "kernelspec": {
   "display_name": "Python 3 (ipykernel)",
   "language": "python",
   "name": "python3"
  },
  "language_info": {
   "codemirror_mode": {
    "name": "ipython",
    "version": 3
   },
   "file_extension": ".py",
   "mimetype": "text/x-python",
   "name": "python",
   "nbconvert_exporter": "python",
   "pygments_lexer": "ipython3",
   "version": "3.8.16"
  }
 },
 "nbformat": 4,
 "nbformat_minor": 5
}
